{
 "cells": [
  {
   "cell_type": "markdown",
   "metadata": {},
   "source": [
    "# Movie Analysis"
   ]
  },
  {
   "cell_type": "markdown",
   "metadata": {},
   "source": [
    "<img src=\"images/movie_analysis.jpg\">"
   ]
  },
  {
   "cell_type": "markdown",
   "metadata": {},
   "source": [
    "## Overview\n",
    "This project analyzes the movie industry on multiple large data sets. These data sets include different types of movie information. Descriptive analysis helps define \"successful movies\" in financial terms and what contributes to \"successful movies\". Stakeholders can use this analysis to determine the movie genre, directors, writers, movie length, and release month. "
   ]
  },
  {
   "cell_type": "markdown",
   "metadata": {},
   "source": [
    "## Business Problem\n",
    "Microsoft's subsidiary sees an opportunity and has decided to create a movie studio to make original video content. My job is to exploring successful movies and provide recommendations on movie genre, directors, writers, release month, and movie length.\n",
    "***\n",
    "Questions to consider:\n",
    "* What is a successful movie?\n",
    "* What genres should be chosen among those successful movies?\n",
    "* Which directors and writers should be hired among those successful movies?\n",
    "* Which month has the highest release of successful movies?\n",
    "* What is the optimal movie length among those successful movies?"
   ]
  },
  {
   "cell_type": "markdown",
   "metadata": {},
   "source": [
    "## Data Understanding\n",
    "The IMDb website is the most popular movie website which combines many aspects of movie information(e.g. genres, title, cast). Each movie has a unique identifier (<b>tconst</b>) and each related person also has a unique name identifier (<b>nconst</b>). Data used from [IMDb](https://datasets.imdbws.com/)  include:\n",
    "\n",
    "* imdb.title.basics\n",
    "* imdb.title.crew \n",
    "* imdb.name.basics\n",
    "\n",
    "<img src=\"images/imdb logo.png\" width=\"200\">\n",
    "\n",
    "The Numbers website provides detailed movie financial analysis which tracks box office revenue in a systematic, algorithmic way. Data used from [The Numbers](https://www.the-numbers.com/movie/budgets/all) include:\n",
    "* tn.movie_budgets\n",
    "\n",
    "<img src=\"images/the numbers logo.jpg\" width=\"400\">"
   ]
  },
  {
   "cell_type": "code",
   "execution_count": 1,
   "metadata": {},
   "outputs": [],
   "source": [
    "import pandas as pd\n",
    "import matplotlib.pyplot as plt\n",
    "%matplotlib inline\n",
    "import seaborn as sns\n",
    "import numpy as np"
   ]
  },
  {
   "cell_type": "markdown",
   "metadata": {},
   "source": [
    "### Data Name: imdb.title.basics"
   ]
  },
  {
   "cell_type": "code",
   "execution_count": 2,
   "metadata": {},
   "outputs": [
    {
     "data": {
      "text/plain": [
       "(146144, 6)"
      ]
     },
     "metadata": {},
     "output_type": "display_data"
    },
    {
     "data": {
      "text/html": [
       "<div>\n",
       "<style scoped>\n",
       "    .dataframe tbody tr th:only-of-type {\n",
       "        vertical-align: middle;\n",
       "    }\n",
       "\n",
       "    .dataframe tbody tr th {\n",
       "        vertical-align: top;\n",
       "    }\n",
       "\n",
       "    .dataframe thead th {\n",
       "        text-align: right;\n",
       "    }\n",
       "</style>\n",
       "<table border=\"1\" class=\"dataframe\">\n",
       "  <thead>\n",
       "    <tr style=\"text-align: right;\">\n",
       "      <th></th>\n",
       "      <th>tconst</th>\n",
       "      <th>primary_title</th>\n",
       "      <th>original_title</th>\n",
       "      <th>start_year</th>\n",
       "      <th>runtime_minutes</th>\n",
       "      <th>genres</th>\n",
       "    </tr>\n",
       "  </thead>\n",
       "  <tbody>\n",
       "    <tr>\n",
       "      <th>0</th>\n",
       "      <td>tt0063540</td>\n",
       "      <td>Sunghursh</td>\n",
       "      <td>Sunghursh</td>\n",
       "      <td>2013</td>\n",
       "      <td>175.0</td>\n",
       "      <td>Action,Crime,Drama</td>\n",
       "    </tr>\n",
       "    <tr>\n",
       "      <th>1</th>\n",
       "      <td>tt0066787</td>\n",
       "      <td>One Day Before the Rainy Season</td>\n",
       "      <td>Ashad Ka Ek Din</td>\n",
       "      <td>2019</td>\n",
       "      <td>114.0</td>\n",
       "      <td>Biography,Drama</td>\n",
       "    </tr>\n",
       "    <tr>\n",
       "      <th>2</th>\n",
       "      <td>tt0069049</td>\n",
       "      <td>The Other Side of the Wind</td>\n",
       "      <td>The Other Side of the Wind</td>\n",
       "      <td>2018</td>\n",
       "      <td>122.0</td>\n",
       "      <td>Drama</td>\n",
       "    </tr>\n",
       "    <tr>\n",
       "      <th>3</th>\n",
       "      <td>tt0069204</td>\n",
       "      <td>Sabse Bada Sukh</td>\n",
       "      <td>Sabse Bada Sukh</td>\n",
       "      <td>2018</td>\n",
       "      <td>NaN</td>\n",
       "      <td>Comedy,Drama</td>\n",
       "    </tr>\n",
       "    <tr>\n",
       "      <th>4</th>\n",
       "      <td>tt0100275</td>\n",
       "      <td>The Wandering Soap Opera</td>\n",
       "      <td>La Telenovela Errante</td>\n",
       "      <td>2017</td>\n",
       "      <td>80.0</td>\n",
       "      <td>Comedy,Drama,Fantasy</td>\n",
       "    </tr>\n",
       "  </tbody>\n",
       "</table>\n",
       "</div>"
      ],
      "text/plain": [
       "      tconst                    primary_title              original_title  \\\n",
       "0  tt0063540                        Sunghursh                   Sunghursh   \n",
       "1  tt0066787  One Day Before the Rainy Season             Ashad Ka Ek Din   \n",
       "2  tt0069049       The Other Side of the Wind  The Other Side of the Wind   \n",
       "3  tt0069204                  Sabse Bada Sukh             Sabse Bada Sukh   \n",
       "4  tt0100275         The Wandering Soap Opera       La Telenovela Errante   \n",
       "\n",
       "   start_year  runtime_minutes                genres  \n",
       "0        2013            175.0    Action,Crime,Drama  \n",
       "1        2019            114.0       Biography,Drama  \n",
       "2        2018            122.0                 Drama  \n",
       "3        2018              NaN          Comedy,Drama  \n",
       "4        2017             80.0  Comedy,Drama,Fantasy  "
      ]
     },
     "metadata": {},
     "output_type": "display_data"
    },
    {
     "name": "stdout",
     "output_type": "stream",
     "text": [
      "<class 'pandas.core.frame.DataFrame'>\n",
      "RangeIndex: 146144 entries, 0 to 146143\n",
      "Data columns (total 6 columns):\n",
      "tconst             146144 non-null object\n",
      "primary_title      146144 non-null object\n",
      "original_title     146123 non-null object\n",
      "start_year         146144 non-null int64\n",
      "runtime_minutes    114405 non-null float64\n",
      "genres             140736 non-null object\n",
      "dtypes: float64(1), int64(1), object(4)\n",
      "memory usage: 6.7+ MB\n"
     ]
    },
    {
     "data": {
      "text/plain": [
       "None"
      ]
     },
     "metadata": {},
     "output_type": "display_data"
    }
   ],
   "source": [
    "df1 = pd.read_csv('zippedData/imdb.title.basics.csv.gz', compression='gzip')\n",
    "display(df1.shape)\n",
    "display(df1.head())\n",
    "display(df1.info())"
   ]
  },
  {
   "cell_type": "code",
   "execution_count": 3,
   "metadata": {},
   "outputs": [
    {
     "data": {
      "text/plain": [
       "False"
      ]
     },
     "execution_count": 3,
     "metadata": {},
     "output_type": "execute_result"
    }
   ],
   "source": [
    "# Check if tconst has duplicated\n",
    "df1['tconst'].duplicated().any()"
   ]
  },
  {
   "cell_type": "code",
   "execution_count": 4,
   "metadata": {},
   "outputs": [
    {
     "data": {
      "text/plain": [
       "2010"
      ]
     },
     "metadata": {},
     "output_type": "display_data"
    },
    {
     "data": {
      "text/plain": [
       "2115"
      ]
     },
     "metadata": {},
     "output_type": "display_data"
    }
   ],
   "source": [
    "# Check the earliest and latest year\n",
    "display(df1['start_year'].min())\n",
    "display(df1['start_year'].max())"
   ]
  },
  {
   "cell_type": "code",
   "execution_count": 5,
   "metadata": {},
   "outputs": [
    {
     "data": {
      "text/html": [
       "<div>\n",
       "<style scoped>\n",
       "    .dataframe tbody tr th:only-of-type {\n",
       "        vertical-align: middle;\n",
       "    }\n",
       "\n",
       "    .dataframe tbody tr th {\n",
       "        vertical-align: top;\n",
       "    }\n",
       "\n",
       "    .dataframe thead th {\n",
       "        text-align: right;\n",
       "    }\n",
       "</style>\n",
       "<table border=\"1\" class=\"dataframe\">\n",
       "  <thead>\n",
       "    <tr style=\"text-align: right;\">\n",
       "      <th></th>\n",
       "      <th>tconst</th>\n",
       "      <th>primary_title</th>\n",
       "      <th>original_title</th>\n",
       "      <th>start_year</th>\n",
       "      <th>runtime_minutes</th>\n",
       "      <th>genres</th>\n",
       "    </tr>\n",
       "  </thead>\n",
       "  <tbody>\n",
       "    <tr>\n",
       "      <th>131857</th>\n",
       "      <td>tt8219776</td>\n",
       "      <td>#5</td>\n",
       "      <td>#5</td>\n",
       "      <td>2018</td>\n",
       "      <td>NaN</td>\n",
       "      <td>Documentary</td>\n",
       "    </tr>\n",
       "    <tr>\n",
       "      <th>52892</th>\n",
       "      <td>tt3120962</td>\n",
       "      <td>#5</td>\n",
       "      <td>#5</td>\n",
       "      <td>2013</td>\n",
       "      <td>68.0</td>\n",
       "      <td>Biography,Comedy,Fantasy</td>\n",
       "    </tr>\n",
       "    <tr>\n",
       "      <th>106201</th>\n",
       "      <td>tt6214664</td>\n",
       "      <td>(aguirre)</td>\n",
       "      <td>(aguirre)</td>\n",
       "      <td>2016</td>\n",
       "      <td>98.0</td>\n",
       "      <td>Biography,Comedy,Documentary</td>\n",
       "    </tr>\n",
       "    <tr>\n",
       "      <th>103890</th>\n",
       "      <td>tt6085916</td>\n",
       "      <td>(aguirre)</td>\n",
       "      <td>(aguirre)</td>\n",
       "      <td>2016</td>\n",
       "      <td>97.0</td>\n",
       "      <td>Biography,Documentary</td>\n",
       "    </tr>\n",
       "    <tr>\n",
       "      <th>100818</th>\n",
       "      <td>tt5891614</td>\n",
       "      <td>1</td>\n",
       "      <td>1</td>\n",
       "      <td>2016</td>\n",
       "      <td>22.0</td>\n",
       "      <td>Documentary</td>\n",
       "    </tr>\n",
       "    <tr>\n",
       "      <th>...</th>\n",
       "      <td>...</td>\n",
       "      <td>...</td>\n",
       "      <td>...</td>\n",
       "      <td>...</td>\n",
       "      <td>...</td>\n",
       "      <td>...</td>\n",
       "    </tr>\n",
       "    <tr>\n",
       "      <th>37636</th>\n",
       "      <td>tt2362758</td>\n",
       "      <td>Éden</td>\n",
       "      <td>Éden</td>\n",
       "      <td>2013</td>\n",
       "      <td>73.0</td>\n",
       "      <td>Drama</td>\n",
       "    </tr>\n",
       "    <tr>\n",
       "      <th>93912</th>\n",
       "      <td>tt5471216</td>\n",
       "      <td>Ódio</td>\n",
       "      <td>Ódio</td>\n",
       "      <td>2017</td>\n",
       "      <td>NaN</td>\n",
       "      <td>Action</td>\n",
       "    </tr>\n",
       "    <tr>\n",
       "      <th>98200</th>\n",
       "      <td>tt5737878</td>\n",
       "      <td>Ódio</td>\n",
       "      <td>Ódio</td>\n",
       "      <td>2016</td>\n",
       "      <td>NaN</td>\n",
       "      <td>Drama</td>\n",
       "    </tr>\n",
       "    <tr>\n",
       "      <th>72701</th>\n",
       "      <td>tt4149802</td>\n",
       "      <td>Ümmü Sibyan: Zifir</td>\n",
       "      <td>Ümmü Sibyan: Zifir</td>\n",
       "      <td>2014</td>\n",
       "      <td>NaN</td>\n",
       "      <td>Horror</td>\n",
       "    </tr>\n",
       "    <tr>\n",
       "      <th>110016</th>\n",
       "      <td>tt6448010</td>\n",
       "      <td>Ümmü Sibyan: Zifir</td>\n",
       "      <td>Ümmü Sibyan: Zifir</td>\n",
       "      <td>2015</td>\n",
       "      <td>NaN</td>\n",
       "      <td>NaN</td>\n",
       "    </tr>\n",
       "  </tbody>\n",
       "</table>\n",
       "<p>16255 rows × 6 columns</p>\n",
       "</div>"
      ],
      "text/plain": [
       "           tconst       primary_title      original_title  start_year  \\\n",
       "131857  tt8219776                  #5                  #5        2018   \n",
       "52892   tt3120962                  #5                  #5        2013   \n",
       "106201  tt6214664           (aguirre)           (aguirre)        2016   \n",
       "103890  tt6085916           (aguirre)           (aguirre)        2016   \n",
       "100818  tt5891614                   1                   1        2016   \n",
       "...           ...                 ...                 ...         ...   \n",
       "37636   tt2362758                Éden                Éden        2013   \n",
       "93912   tt5471216                Ódio                Ódio        2017   \n",
       "98200   tt5737878                Ódio                Ódio        2016   \n",
       "72701   tt4149802  Ümmü Sibyan: Zifir  Ümmü Sibyan: Zifir        2014   \n",
       "110016  tt6448010  Ümmü Sibyan: Zifir  Ümmü Sibyan: Zifir        2015   \n",
       "\n",
       "        runtime_minutes                        genres  \n",
       "131857              NaN                   Documentary  \n",
       "52892              68.0      Biography,Comedy,Fantasy  \n",
       "106201             98.0  Biography,Comedy,Documentary  \n",
       "103890             97.0         Biography,Documentary  \n",
       "100818             22.0                   Documentary  \n",
       "...                 ...                           ...  \n",
       "37636              73.0                         Drama  \n",
       "93912               NaN                        Action  \n",
       "98200               NaN                         Drama  \n",
       "72701               NaN                        Horror  \n",
       "110016              NaN                           NaN  \n",
       "\n",
       "[16255 rows x 6 columns]"
      ]
     },
     "execution_count": 5,
     "metadata": {},
     "output_type": "execute_result"
    }
   ],
   "source": [
    "# Check movie name\n",
    "df1[df1['primary_title'].duplicated(keep=False)].sort_values(by='primary_title')"
   ]
  },
  {
   "cell_type": "markdown",
   "metadata": {},
   "source": [
    "#### Note\n",
    "* \"<b>tconst</b>\" is alphanumeric <b>unique</b> identifier of the movie_title (from [imdb website](https://www.imdb.com/interfaces/) ) which consider as the standard for further analysis.\n",
    "* If two different tconsts have the same primary_title or other same information, it still means that they are two different movies.\n",
    "* These datas are not consider as duplicates."
   ]
  },
  {
   "cell_type": "markdown",
   "metadata": {},
   "source": [
    "### Data Cleaning"
   ]
  },
  {
   "cell_type": "code",
   "execution_count": 6,
   "metadata": {},
   "outputs": [],
   "source": [
    "# Change primary_title to movie_title\n",
    "df1.rename(columns={'primary_title' : 'movie_title'}, inplace=True)"
   ]
  },
  {
   "cell_type": "code",
   "execution_count": 7,
   "metadata": {},
   "outputs": [],
   "source": [
    "# Drop unnecessary columns\n",
    "df1.drop(columns=['original_title'], inplace=True)"
   ]
  },
  {
   "cell_type": "code",
   "execution_count": 8,
   "metadata": {},
   "outputs": [
    {
     "data": {
      "text/plain": [
       "Index(['tconst', 'movie_title', 'start_year', 'runtime_minutes', 'genres'], dtype='object')"
      ]
     },
     "execution_count": 8,
     "metadata": {},
     "output_type": "execute_result"
    }
   ],
   "source": [
    "# Check\n",
    "df1.columns"
   ]
  },
  {
   "cell_type": "markdown",
   "metadata": {},
   "source": [
    "### Data Name: imdb.title.crew"
   ]
  },
  {
   "cell_type": "code",
   "execution_count": 9,
   "metadata": {},
   "outputs": [
    {
     "data": {
      "text/plain": [
       "(146144, 3)"
      ]
     },
     "metadata": {},
     "output_type": "display_data"
    },
    {
     "data": {
      "text/html": [
       "<div>\n",
       "<style scoped>\n",
       "    .dataframe tbody tr th:only-of-type {\n",
       "        vertical-align: middle;\n",
       "    }\n",
       "\n",
       "    .dataframe tbody tr th {\n",
       "        vertical-align: top;\n",
       "    }\n",
       "\n",
       "    .dataframe thead th {\n",
       "        text-align: right;\n",
       "    }\n",
       "</style>\n",
       "<table border=\"1\" class=\"dataframe\">\n",
       "  <thead>\n",
       "    <tr style=\"text-align: right;\">\n",
       "      <th></th>\n",
       "      <th>tconst</th>\n",
       "      <th>directors</th>\n",
       "      <th>writers</th>\n",
       "    </tr>\n",
       "  </thead>\n",
       "  <tbody>\n",
       "    <tr>\n",
       "      <th>0</th>\n",
       "      <td>tt0285252</td>\n",
       "      <td>nm0899854</td>\n",
       "      <td>nm0899854</td>\n",
       "    </tr>\n",
       "    <tr>\n",
       "      <th>1</th>\n",
       "      <td>tt0438973</td>\n",
       "      <td>NaN</td>\n",
       "      <td>nm0175726,nm1802864</td>\n",
       "    </tr>\n",
       "    <tr>\n",
       "      <th>2</th>\n",
       "      <td>tt0462036</td>\n",
       "      <td>nm1940585</td>\n",
       "      <td>nm1940585</td>\n",
       "    </tr>\n",
       "    <tr>\n",
       "      <th>3</th>\n",
       "      <td>tt0835418</td>\n",
       "      <td>nm0151540</td>\n",
       "      <td>nm0310087,nm0841532</td>\n",
       "    </tr>\n",
       "    <tr>\n",
       "      <th>4</th>\n",
       "      <td>tt0878654</td>\n",
       "      <td>nm0089502,nm2291498,nm2292011</td>\n",
       "      <td>nm0284943</td>\n",
       "    </tr>\n",
       "  </tbody>\n",
       "</table>\n",
       "</div>"
      ],
      "text/plain": [
       "      tconst                      directors              writers\n",
       "0  tt0285252                      nm0899854            nm0899854\n",
       "1  tt0438973                            NaN  nm0175726,nm1802864\n",
       "2  tt0462036                      nm1940585            nm1940585\n",
       "3  tt0835418                      nm0151540  nm0310087,nm0841532\n",
       "4  tt0878654  nm0089502,nm2291498,nm2292011            nm0284943"
      ]
     },
     "metadata": {},
     "output_type": "display_data"
    },
    {
     "name": "stdout",
     "output_type": "stream",
     "text": [
      "<class 'pandas.core.frame.DataFrame'>\n",
      "RangeIndex: 146144 entries, 0 to 146143\n",
      "Data columns (total 3 columns):\n",
      "tconst       146144 non-null object\n",
      "directors    140417 non-null object\n",
      "writers      110261 non-null object\n",
      "dtypes: object(3)\n",
      "memory usage: 3.3+ MB\n"
     ]
    },
    {
     "data": {
      "text/plain": [
       "None"
      ]
     },
     "metadata": {},
     "output_type": "display_data"
    }
   ],
   "source": [
    "df2 = pd.read_csv('zippedData/imdb.title.crew.csv.gz', compression='gzip')\n",
    "display(df2.shape)\n",
    "display(df2.head())\n",
    "display(df2.info())"
   ]
  },
  {
   "cell_type": "code",
   "execution_count": 10,
   "metadata": {},
   "outputs": [
    {
     "data": {
      "text/plain": [
       "False"
      ]
     },
     "execution_count": 10,
     "metadata": {},
     "output_type": "execute_result"
    }
   ],
   "source": [
    "# Check if tconst has duplicated\n",
    "df2['tconst'].duplicated().any()"
   ]
  },
  {
   "cell_type": "markdown",
   "metadata": {},
   "source": [
    "### Data Merging"
   ]
  },
  {
   "cell_type": "code",
   "execution_count": 11,
   "metadata": {},
   "outputs": [
    {
     "data": {
      "text/plain": [
       "(146144, 7)"
      ]
     },
     "metadata": {},
     "output_type": "display_data"
    },
    {
     "data": {
      "text/html": [
       "<div>\n",
       "<style scoped>\n",
       "    .dataframe tbody tr th:only-of-type {\n",
       "        vertical-align: middle;\n",
       "    }\n",
       "\n",
       "    .dataframe tbody tr th {\n",
       "        vertical-align: top;\n",
       "    }\n",
       "\n",
       "    .dataframe thead th {\n",
       "        text-align: right;\n",
       "    }\n",
       "</style>\n",
       "<table border=\"1\" class=\"dataframe\">\n",
       "  <thead>\n",
       "    <tr style=\"text-align: right;\">\n",
       "      <th></th>\n",
       "      <th>tconst</th>\n",
       "      <th>movie_title</th>\n",
       "      <th>start_year</th>\n",
       "      <th>runtime_minutes</th>\n",
       "      <th>genres</th>\n",
       "      <th>directors</th>\n",
       "      <th>writers</th>\n",
       "    </tr>\n",
       "  </thead>\n",
       "  <tbody>\n",
       "    <tr>\n",
       "      <th>0</th>\n",
       "      <td>tt0063540</td>\n",
       "      <td>Sunghursh</td>\n",
       "      <td>2013</td>\n",
       "      <td>175.0</td>\n",
       "      <td>Action,Crime,Drama</td>\n",
       "      <td>nm0712540</td>\n",
       "      <td>nm0023551,nm1194313,nm0347899,nm1391276</td>\n",
       "    </tr>\n",
       "    <tr>\n",
       "      <th>1</th>\n",
       "      <td>tt0066787</td>\n",
       "      <td>One Day Before the Rainy Season</td>\n",
       "      <td>2019</td>\n",
       "      <td>114.0</td>\n",
       "      <td>Biography,Drama</td>\n",
       "      <td>nm0002411</td>\n",
       "      <td>NaN</td>\n",
       "    </tr>\n",
       "    <tr>\n",
       "      <th>2</th>\n",
       "      <td>tt0069049</td>\n",
       "      <td>The Other Side of the Wind</td>\n",
       "      <td>2018</td>\n",
       "      <td>122.0</td>\n",
       "      <td>Drama</td>\n",
       "      <td>nm0000080</td>\n",
       "      <td>nm0000080,nm0462648</td>\n",
       "    </tr>\n",
       "    <tr>\n",
       "      <th>3</th>\n",
       "      <td>tt0069204</td>\n",
       "      <td>Sabse Bada Sukh</td>\n",
       "      <td>2018</td>\n",
       "      <td>NaN</td>\n",
       "      <td>Comedy,Drama</td>\n",
       "      <td>nm0611531</td>\n",
       "      <td>nm0347899</td>\n",
       "    </tr>\n",
       "    <tr>\n",
       "      <th>4</th>\n",
       "      <td>tt0100275</td>\n",
       "      <td>The Wandering Soap Opera</td>\n",
       "      <td>2017</td>\n",
       "      <td>80.0</td>\n",
       "      <td>Comedy,Drama,Fantasy</td>\n",
       "      <td>nm0765384,nm0749914</td>\n",
       "      <td>nm1360635,nm0749914</td>\n",
       "    </tr>\n",
       "  </tbody>\n",
       "</table>\n",
       "</div>"
      ],
      "text/plain": [
       "      tconst                      movie_title  start_year  runtime_minutes  \\\n",
       "0  tt0063540                        Sunghursh        2013            175.0   \n",
       "1  tt0066787  One Day Before the Rainy Season        2019            114.0   \n",
       "2  tt0069049       The Other Side of the Wind        2018            122.0   \n",
       "3  tt0069204                  Sabse Bada Sukh        2018              NaN   \n",
       "4  tt0100275         The Wandering Soap Opera        2017             80.0   \n",
       "\n",
       "                 genres            directors  \\\n",
       "0    Action,Crime,Drama            nm0712540   \n",
       "1       Biography,Drama            nm0002411   \n",
       "2                 Drama            nm0000080   \n",
       "3          Comedy,Drama            nm0611531   \n",
       "4  Comedy,Drama,Fantasy  nm0765384,nm0749914   \n",
       "\n",
       "                                   writers  \n",
       "0  nm0023551,nm1194313,nm0347899,nm1391276  \n",
       "1                                      NaN  \n",
       "2                      nm0000080,nm0462648  \n",
       "3                                nm0347899  \n",
       "4                      nm1360635,nm0749914  "
      ]
     },
     "execution_count": 11,
     "metadata": {},
     "output_type": "execute_result"
    }
   ],
   "source": [
    "# Merge df1 with df2 based on tconst\n",
    "df3 = pd.merge(df1, df2, how='left')\n",
    "display(df3.shape)\n",
    "df3.head()"
   ]
  },
  {
   "cell_type": "code",
   "execution_count": 12,
   "metadata": {},
   "outputs": [
    {
     "data": {
      "text/plain": [
       "False"
      ]
     },
     "execution_count": 12,
     "metadata": {},
     "output_type": "execute_result"
    }
   ],
   "source": [
    "# Check if tconst has duplicated\n",
    "df3['tconst'].duplicated().any()"
   ]
  },
  {
   "cell_type": "code",
   "execution_count": 13,
   "metadata": {},
   "outputs": [
    {
     "name": "stdout",
     "output_type": "stream",
     "text": [
      "<class 'pandas.core.frame.DataFrame'>\n",
      "Int64Index: 146144 entries, 0 to 146143\n",
      "Data columns (total 7 columns):\n",
      "tconst             146144 non-null object\n",
      "movie_title        146144 non-null object\n",
      "start_year         146144 non-null int64\n",
      "runtime_minutes    114405 non-null float64\n",
      "genres             140736 non-null object\n",
      "directors          140417 non-null object\n",
      "writers            110261 non-null object\n",
      "dtypes: float64(1), int64(1), object(5)\n",
      "memory usage: 8.9+ MB\n"
     ]
    }
   ],
   "source": [
    "df3.info()"
   ]
  },
  {
   "cell_type": "markdown",
   "metadata": {},
   "source": [
    "### Data Source: tn.movie_budgets"
   ]
  },
  {
   "cell_type": "code",
   "execution_count": 14,
   "metadata": {},
   "outputs": [
    {
     "data": {
      "text/plain": [
       "(5782, 6)"
      ]
     },
     "metadata": {},
     "output_type": "display_data"
    },
    {
     "data": {
      "text/html": [
       "<div>\n",
       "<style scoped>\n",
       "    .dataframe tbody tr th:only-of-type {\n",
       "        vertical-align: middle;\n",
       "    }\n",
       "\n",
       "    .dataframe tbody tr th {\n",
       "        vertical-align: top;\n",
       "    }\n",
       "\n",
       "    .dataframe thead th {\n",
       "        text-align: right;\n",
       "    }\n",
       "</style>\n",
       "<table border=\"1\" class=\"dataframe\">\n",
       "  <thead>\n",
       "    <tr style=\"text-align: right;\">\n",
       "      <th></th>\n",
       "      <th>id</th>\n",
       "      <th>release_date</th>\n",
       "      <th>movie</th>\n",
       "      <th>production_budget</th>\n",
       "      <th>domestic_gross</th>\n",
       "      <th>worldwide_gross</th>\n",
       "    </tr>\n",
       "  </thead>\n",
       "  <tbody>\n",
       "    <tr>\n",
       "      <th>0</th>\n",
       "      <td>1</td>\n",
       "      <td>Dec 18, 2009</td>\n",
       "      <td>Avatar</td>\n",
       "      <td>$425,000,000</td>\n",
       "      <td>$760,507,625</td>\n",
       "      <td>$2,776,345,279</td>\n",
       "    </tr>\n",
       "    <tr>\n",
       "      <th>1</th>\n",
       "      <td>2</td>\n",
       "      <td>May 20, 2011</td>\n",
       "      <td>Pirates of the Caribbean: On Stranger Tides</td>\n",
       "      <td>$410,600,000</td>\n",
       "      <td>$241,063,875</td>\n",
       "      <td>$1,045,663,875</td>\n",
       "    </tr>\n",
       "    <tr>\n",
       "      <th>2</th>\n",
       "      <td>3</td>\n",
       "      <td>Jun 7, 2019</td>\n",
       "      <td>Dark Phoenix</td>\n",
       "      <td>$350,000,000</td>\n",
       "      <td>$42,762,350</td>\n",
       "      <td>$149,762,350</td>\n",
       "    </tr>\n",
       "    <tr>\n",
       "      <th>3</th>\n",
       "      <td>4</td>\n",
       "      <td>May 1, 2015</td>\n",
       "      <td>Avengers: Age of Ultron</td>\n",
       "      <td>$330,600,000</td>\n",
       "      <td>$459,005,868</td>\n",
       "      <td>$1,403,013,963</td>\n",
       "    </tr>\n",
       "    <tr>\n",
       "      <th>4</th>\n",
       "      <td>5</td>\n",
       "      <td>Dec 15, 2017</td>\n",
       "      <td>Star Wars Ep. VIII: The Last Jedi</td>\n",
       "      <td>$317,000,000</td>\n",
       "      <td>$620,181,382</td>\n",
       "      <td>$1,316,721,747</td>\n",
       "    </tr>\n",
       "  </tbody>\n",
       "</table>\n",
       "</div>"
      ],
      "text/plain": [
       "   id  release_date                                        movie  \\\n",
       "0   1  Dec 18, 2009                                       Avatar   \n",
       "1   2  May 20, 2011  Pirates of the Caribbean: On Stranger Tides   \n",
       "2   3   Jun 7, 2019                                 Dark Phoenix   \n",
       "3   4   May 1, 2015                      Avengers: Age of Ultron   \n",
       "4   5  Dec 15, 2017            Star Wars Ep. VIII: The Last Jedi   \n",
       "\n",
       "  production_budget domestic_gross worldwide_gross  \n",
       "0      $425,000,000   $760,507,625  $2,776,345,279  \n",
       "1      $410,600,000   $241,063,875  $1,045,663,875  \n",
       "2      $350,000,000    $42,762,350    $149,762,350  \n",
       "3      $330,600,000   $459,005,868  $1,403,013,963  \n",
       "4      $317,000,000   $620,181,382  $1,316,721,747  "
      ]
     },
     "metadata": {},
     "output_type": "display_data"
    },
    {
     "name": "stdout",
     "output_type": "stream",
     "text": [
      "<class 'pandas.core.frame.DataFrame'>\n",
      "RangeIndex: 5782 entries, 0 to 5781\n",
      "Data columns (total 6 columns):\n",
      "id                   5782 non-null int64\n",
      "release_date         5782 non-null object\n",
      "movie                5782 non-null object\n",
      "production_budget    5782 non-null object\n",
      "domestic_gross       5782 non-null object\n",
      "worldwide_gross      5782 non-null object\n",
      "dtypes: int64(1), object(5)\n",
      "memory usage: 271.2+ KB\n"
     ]
    },
    {
     "data": {
      "text/plain": [
       "None"
      ]
     },
     "metadata": {},
     "output_type": "display_data"
    }
   ],
   "source": [
    "df4 = pd.read_csv('zippedData/tn.movie_budgets.csv.gz', compression='gzip')\n",
    "display(df4.shape)\n",
    "display(df4.head())\n",
    "display(df4.info())"
   ]
  },
  {
   "cell_type": "markdown",
   "metadata": {},
   "source": [
    "### Data Cleaning"
   ]
  },
  {
   "cell_type": "code",
   "execution_count": 15,
   "metadata": {},
   "outputs": [],
   "source": [
    "# Change movie to movie_title\n",
    "df4.rename(columns={'movie' : 'movie_title'}, inplace=True)"
   ]
  },
  {
   "cell_type": "code",
   "execution_count": 16,
   "metadata": {},
   "outputs": [
    {
     "data": {
      "text/html": [
       "<div>\n",
       "<style scoped>\n",
       "    .dataframe tbody tr th:only-of-type {\n",
       "        vertical-align: middle;\n",
       "    }\n",
       "\n",
       "    .dataframe tbody tr th {\n",
       "        vertical-align: top;\n",
       "    }\n",
       "\n",
       "    .dataframe thead th {\n",
       "        text-align: right;\n",
       "    }\n",
       "</style>\n",
       "<table border=\"1\" class=\"dataframe\">\n",
       "  <thead>\n",
       "    <tr style=\"text-align: right;\">\n",
       "      <th></th>\n",
       "      <th>id</th>\n",
       "      <th>release_date</th>\n",
       "      <th>movie_title</th>\n",
       "      <th>production_budget</th>\n",
       "      <th>domestic_gross</th>\n",
       "      <th>worldwide_gross</th>\n",
       "    </tr>\n",
       "  </thead>\n",
       "  <tbody>\n",
       "    <tr>\n",
       "      <th>0</th>\n",
       "      <td>1</td>\n",
       "      <td>Dec 18, 2009</td>\n",
       "      <td>Avatar</td>\n",
       "      <td>$425,000,000</td>\n",
       "      <td>$760,507,625</td>\n",
       "      <td>$2,776,345,279</td>\n",
       "    </tr>\n",
       "    <tr>\n",
       "      <th>5200</th>\n",
       "      <td>1</td>\n",
       "      <td>May 14, 2003</td>\n",
       "      <td>Dracula: Pages from a Virgin's Diary</td>\n",
       "      <td>$1,100,000</td>\n",
       "      <td>$39,659</td>\n",
       "      <td>$81,371</td>\n",
       "    </tr>\n",
       "    <tr>\n",
       "      <th>2500</th>\n",
       "      <td>1</td>\n",
       "      <td>Jun 16, 1978</td>\n",
       "      <td>Jaws 2</td>\n",
       "      <td>$20,000,000</td>\n",
       "      <td>$102,922,376</td>\n",
       "      <td>$208,900,376</td>\n",
       "    </tr>\n",
       "    <tr>\n",
       "      <th>4200</th>\n",
       "      <td>1</td>\n",
       "      <td>Mar 18, 2011</td>\n",
       "      <td>Winter in Wartime</td>\n",
       "      <td>$5,800,000</td>\n",
       "      <td>$542,860</td>\n",
       "      <td>$9,662,214</td>\n",
       "    </tr>\n",
       "    <tr>\n",
       "      <th>2400</th>\n",
       "      <td>1</td>\n",
       "      <td>Jun 24, 1987</td>\n",
       "      <td>Spaceballs</td>\n",
       "      <td>$22,700,000</td>\n",
       "      <td>$38,119,483</td>\n",
       "      <td>$38,119,483</td>\n",
       "    </tr>\n",
       "    <tr>\n",
       "      <th>...</th>\n",
       "      <td>...</td>\n",
       "      <td>...</td>\n",
       "      <td>...</td>\n",
       "      <td>...</td>\n",
       "      <td>...</td>\n",
       "      <td>...</td>\n",
       "    </tr>\n",
       "    <tr>\n",
       "      <th>3899</th>\n",
       "      <td>100</td>\n",
       "      <td>Jun 12, 2015</td>\n",
       "      <td>Me and Earl and the Dying Girl</td>\n",
       "      <td>$8,000,000</td>\n",
       "      <td>$6,758,416</td>\n",
       "      <td>$9,266,180</td>\n",
       "    </tr>\n",
       "    <tr>\n",
       "      <th>299</th>\n",
       "      <td>100</td>\n",
       "      <td>Jul 22, 2005</td>\n",
       "      <td>The Island</td>\n",
       "      <td>$120,000,000</td>\n",
       "      <td>$35,818,913</td>\n",
       "      <td>$163,018,913</td>\n",
       "    </tr>\n",
       "    <tr>\n",
       "      <th>699</th>\n",
       "      <td>100</td>\n",
       "      <td>Nov 8, 1996</td>\n",
       "      <td>Ransom</td>\n",
       "      <td>$70,000,000</td>\n",
       "      <td>$136,492,681</td>\n",
       "      <td>$308,700,000</td>\n",
       "    </tr>\n",
       "    <tr>\n",
       "      <th>799</th>\n",
       "      <td>100</td>\n",
       "      <td>Dec 8, 2004</td>\n",
       "      <td>Blade: Trinity</td>\n",
       "      <td>$65,000,000</td>\n",
       "      <td>$52,397,389</td>\n",
       "      <td>$131,353,165</td>\n",
       "    </tr>\n",
       "    <tr>\n",
       "      <th>2999</th>\n",
       "      <td>100</td>\n",
       "      <td>Dec 9, 1988</td>\n",
       "      <td>Twins</td>\n",
       "      <td>$15,000,000</td>\n",
       "      <td>$111,936,388</td>\n",
       "      <td>$216,600,000</td>\n",
       "    </tr>\n",
       "  </tbody>\n",
       "</table>\n",
       "<p>5782 rows × 6 columns</p>\n",
       "</div>"
      ],
      "text/plain": [
       "       id  release_date                           movie_title  \\\n",
       "0       1  Dec 18, 2009                                Avatar   \n",
       "5200    1  May 14, 2003  Dracula: Pages from a Virgin's Diary   \n",
       "2500    1  Jun 16, 1978                                Jaws 2   \n",
       "4200    1  Mar 18, 2011                     Winter in Wartime   \n",
       "2400    1  Jun 24, 1987                            Spaceballs   \n",
       "...   ...           ...                                   ...   \n",
       "3899  100  Jun 12, 2015        Me and Earl and the Dying Girl   \n",
       "299   100  Jul 22, 2005                            The Island   \n",
       "699   100   Nov 8, 1996                                Ransom   \n",
       "799   100   Dec 8, 2004                        Blade: Trinity   \n",
       "2999  100   Dec 9, 1988                                 Twins   \n",
       "\n",
       "     production_budget domestic_gross worldwide_gross  \n",
       "0         $425,000,000   $760,507,625  $2,776,345,279  \n",
       "5200        $1,100,000        $39,659         $81,371  \n",
       "2500       $20,000,000   $102,922,376    $208,900,376  \n",
       "4200        $5,800,000       $542,860      $9,662,214  \n",
       "2400       $22,700,000    $38,119,483     $38,119,483  \n",
       "...                ...            ...             ...  \n",
       "3899        $8,000,000     $6,758,416      $9,266,180  \n",
       "299       $120,000,000    $35,818,913    $163,018,913  \n",
       "699        $70,000,000   $136,492,681    $308,700,000  \n",
       "799        $65,000,000    $52,397,389    $131,353,165  \n",
       "2999       $15,000,000   $111,936,388    $216,600,000  \n",
       "\n",
       "[5782 rows x 6 columns]"
      ]
     },
     "execution_count": 16,
     "metadata": {},
     "output_type": "execute_result"
    }
   ],
   "source": [
    "# Check for duplicates\n",
    "df4[df4['id'].duplicated(keep=False)].sort_values(by='id')"
   ]
  },
  {
   "cell_type": "code",
   "execution_count": 17,
   "metadata": {},
   "outputs": [],
   "source": [
    "# Drop unnecessary columns because id is not a unique identifier for this dataframe\n",
    "df4.drop(columns=['id'], inplace=True)"
   ]
  },
  {
   "cell_type": "code",
   "execution_count": 18,
   "metadata": {},
   "outputs": [
    {
     "data": {
      "text/html": [
       "<div>\n",
       "<style scoped>\n",
       "    .dataframe tbody tr th:only-of-type {\n",
       "        vertical-align: middle;\n",
       "    }\n",
       "\n",
       "    .dataframe tbody tr th {\n",
       "        vertical-align: top;\n",
       "    }\n",
       "\n",
       "    .dataframe thead th {\n",
       "        text-align: right;\n",
       "    }\n",
       "</style>\n",
       "<table border=\"1\" class=\"dataframe\">\n",
       "  <thead>\n",
       "    <tr style=\"text-align: right;\">\n",
       "      <th></th>\n",
       "      <th>release_date</th>\n",
       "      <th>movie_title</th>\n",
       "      <th>production_budget</th>\n",
       "      <th>domestic_gross</th>\n",
       "      <th>worldwide_gross</th>\n",
       "    </tr>\n",
       "  </thead>\n",
       "  <tbody>\n",
       "    <tr>\n",
       "      <th>4270</th>\n",
       "      <td>Dec 23, 1954</td>\n",
       "      <td>20,000 Leagues Under the Sea</td>\n",
       "      <td>$5,000,000</td>\n",
       "      <td>$28,200,000</td>\n",
       "      <td>$28,200,000</td>\n",
       "    </tr>\n",
       "    <tr>\n",
       "      <th>5614</th>\n",
       "      <td>Dec 24, 1916</td>\n",
       "      <td>20,000 Leagues Under the Sea</td>\n",
       "      <td>$200,000</td>\n",
       "      <td>$8,000,000</td>\n",
       "      <td>$8,000,000</td>\n",
       "    </tr>\n",
       "    <tr>\n",
       "      <th>1648</th>\n",
       "      <td>Apr 30, 2010</td>\n",
       "      <td>A Nightmare on Elm Street</td>\n",
       "      <td>$35,000,000</td>\n",
       "      <td>$63,075,011</td>\n",
       "      <td>$117,729,621</td>\n",
       "    </tr>\n",
       "    <tr>\n",
       "      <th>5016</th>\n",
       "      <td>Nov 9, 1984</td>\n",
       "      <td>A Nightmare on Elm Street</td>\n",
       "      <td>$1,800,000</td>\n",
       "      <td>$25,504,513</td>\n",
       "      <td>$25,504,513</td>\n",
       "    </tr>\n",
       "    <tr>\n",
       "      <th>2032</th>\n",
       "      <td>Nov 11, 1992</td>\n",
       "      <td>Aladdin</td>\n",
       "      <td>$28,000,000</td>\n",
       "      <td>$217,350,219</td>\n",
       "      <td>$504,050,219</td>\n",
       "    </tr>\n",
       "    <tr>\n",
       "      <th>80</th>\n",
       "      <td>May 24, 2019</td>\n",
       "      <td>Aladdin</td>\n",
       "      <td>$182,000,000</td>\n",
       "      <td>$246,734,314</td>\n",
       "      <td>$619,234,314</td>\n",
       "    </tr>\n",
       "  </tbody>\n",
       "</table>\n",
       "</div>"
      ],
      "text/plain": [
       "      release_date                   movie_title production_budget  \\\n",
       "4270  Dec 23, 1954  20,000 Leagues Under the Sea        $5,000,000   \n",
       "5614  Dec 24, 1916  20,000 Leagues Under the Sea          $200,000   \n",
       "1648  Apr 30, 2010     A Nightmare on Elm Street       $35,000,000   \n",
       "5016   Nov 9, 1984     A Nightmare on Elm Street        $1,800,000   \n",
       "2032  Nov 11, 1992                       Aladdin       $28,000,000   \n",
       "80    May 24, 2019                       Aladdin      $182,000,000   \n",
       "\n",
       "     domestic_gross worldwide_gross  \n",
       "4270    $28,200,000     $28,200,000  \n",
       "5614     $8,000,000      $8,000,000  \n",
       "1648    $63,075,011    $117,729,621  \n",
       "5016    $25,504,513     $25,504,513  \n",
       "2032   $217,350,219    $504,050,219  \n",
       "80     $246,734,314    $619,234,314  "
      ]
     },
     "execution_count": 18,
     "metadata": {},
     "output_type": "execute_result"
    }
   ],
   "source": [
    "df4[df4['movie_title'].duplicated(keep=False)].sort_values(by='movie_title').head(6)"
   ]
  },
  {
   "cell_type": "markdown",
   "metadata": {},
   "source": [
    "#### Note\n",
    "* Unlike the <imdb.title.basics> data, <tn.movie_budgets> does not have a unique identifier.\n",
    "* These moives have same title but different release_date. \n",
    "* Can not easily judge if these movies are the same or different.\n",
    "* The best way is to combine this dataframe with other dataframe has unique identifier."
   ]
  },
  {
   "cell_type": "code",
   "execution_count": 19,
   "metadata": {},
   "outputs": [],
   "source": [
    "# Remove the $ sign and comma\n",
    "# Change budget and gross type from object to float\n",
    "# df4['production_budget'] = df4['production_budget'].str.replace(\"$\",\"\").str.replace(\",\", \"\").astype(float)\n",
    "# df4['domestic_gross'] = df4['domestic_gross'].str.replace(\"$\",\"\").str.replace(\",\", \"\").astype(float)\n",
    "# df4['worldwide_gross'] = df4['worldwide_gross'].str.replace(\"$\",\"\").str.replace(\",\", \"\").astype(float)"
   ]
  },
  {
   "cell_type": "code",
   "execution_count": 20,
   "metadata": {},
   "outputs": [
    {
     "data": {
      "text/plain": [
       "Index(['production_budget', 'domestic_gross', 'worldwide_gross'], dtype='object')"
      ]
     },
     "execution_count": 20,
     "metadata": {},
     "output_type": "execute_result"
    }
   ],
   "source": [
    "# Access production_budget, domestic_gross, worldwide_gross columns only\n",
    "df4.columns[2:5]"
   ]
  },
  {
   "cell_type": "code",
   "execution_count": 21,
   "metadata": {},
   "outputs": [],
   "source": [
    "# Remove the $ sign and comma\n",
    "# Change budget and gross type from object to float\n",
    "for col in df4.columns[2:5]:\n",
    "    df4[col] = df4[col].str.replace(\"$\",\"\").str.replace(\",\", \"\").astype(float)"
   ]
  },
  {
   "cell_type": "code",
   "execution_count": 22,
   "metadata": {},
   "outputs": [],
   "source": [
    "# Change release_date from object to datetime64\n",
    "df4['release_date'] = pd.to_datetime(df4['release_date'])"
   ]
  },
  {
   "cell_type": "code",
   "execution_count": 23,
   "metadata": {},
   "outputs": [],
   "source": [
    "# Make a new column for the year\n",
    "df4['year'] = df4['release_date'].dt.year"
   ]
  },
  {
   "cell_type": "code",
   "execution_count": 24,
   "metadata": {},
   "outputs": [
    {
     "data": {
      "text/html": [
       "<div>\n",
       "<style scoped>\n",
       "    .dataframe tbody tr th:only-of-type {\n",
       "        vertical-align: middle;\n",
       "    }\n",
       "\n",
       "    .dataframe tbody tr th {\n",
       "        vertical-align: top;\n",
       "    }\n",
       "\n",
       "    .dataframe thead th {\n",
       "        text-align: right;\n",
       "    }\n",
       "</style>\n",
       "<table border=\"1\" class=\"dataframe\">\n",
       "  <thead>\n",
       "    <tr style=\"text-align: right;\">\n",
       "      <th></th>\n",
       "      <th>release_date</th>\n",
       "      <th>movie_title</th>\n",
       "      <th>production_budget</th>\n",
       "      <th>domestic_gross</th>\n",
       "      <th>worldwide_gross</th>\n",
       "      <th>year</th>\n",
       "    </tr>\n",
       "  </thead>\n",
       "  <tbody>\n",
       "    <tr>\n",
       "      <th>0</th>\n",
       "      <td>2009-12-18</td>\n",
       "      <td>Avatar</td>\n",
       "      <td>425000000.0</td>\n",
       "      <td>760507625.0</td>\n",
       "      <td>2.776345e+09</td>\n",
       "      <td>2009</td>\n",
       "    </tr>\n",
       "  </tbody>\n",
       "</table>\n",
       "</div>"
      ],
      "text/plain": [
       "  release_date movie_title  production_budget  domestic_gross  \\\n",
       "0   2009-12-18      Avatar        425000000.0     760507625.0   \n",
       "\n",
       "   worldwide_gross  year  \n",
       "0     2.776345e+09  2009  "
      ]
     },
     "metadata": {},
     "output_type": "display_data"
    },
    {
     "name": "stdout",
     "output_type": "stream",
     "text": [
      "<class 'pandas.core.frame.DataFrame'>\n",
      "RangeIndex: 5782 entries, 0 to 5781\n",
      "Data columns (total 6 columns):\n",
      "release_date         5782 non-null datetime64[ns]\n",
      "movie_title          5782 non-null object\n",
      "production_budget    5782 non-null float64\n",
      "domestic_gross       5782 non-null float64\n",
      "worldwide_gross      5782 non-null float64\n",
      "year                 5782 non-null int64\n",
      "dtypes: datetime64[ns](1), float64(3), int64(1), object(1)\n",
      "memory usage: 271.2+ KB\n"
     ]
    },
    {
     "data": {
      "text/plain": [
       "None"
      ]
     },
     "metadata": {},
     "output_type": "display_data"
    }
   ],
   "source": [
    "# Check\n",
    "display(df4.head(1))\n",
    "display(df4.info())"
   ]
  },
  {
   "cell_type": "code",
   "execution_count": 25,
   "metadata": {},
   "outputs": [
    {
     "data": {
      "text/plain": [
       "1915"
      ]
     },
     "metadata": {},
     "output_type": "display_data"
    },
    {
     "data": {
      "text/plain": [
       "2020"
      ]
     },
     "metadata": {},
     "output_type": "display_data"
    }
   ],
   "source": [
    "display(df4['year'].min())\n",
    "display(df4['year'].max())"
   ]
  },
  {
   "cell_type": "markdown",
   "metadata": {},
   "source": [
    "### Data Merging"
   ]
  },
  {
   "cell_type": "code",
   "execution_count": 26,
   "metadata": {},
   "outputs": [
    {
     "data": {
      "text/plain": [
       "(7221, 12)"
      ]
     },
     "metadata": {},
     "output_type": "display_data"
    },
    {
     "data": {
      "text/html": [
       "<div>\n",
       "<style scoped>\n",
       "    .dataframe tbody tr th:only-of-type {\n",
       "        vertical-align: middle;\n",
       "    }\n",
       "\n",
       "    .dataframe tbody tr th {\n",
       "        vertical-align: top;\n",
       "    }\n",
       "\n",
       "    .dataframe thead th {\n",
       "        text-align: right;\n",
       "    }\n",
       "</style>\n",
       "<table border=\"1\" class=\"dataframe\">\n",
       "  <thead>\n",
       "    <tr style=\"text-align: right;\">\n",
       "      <th></th>\n",
       "      <th>tconst</th>\n",
       "      <th>movie_title</th>\n",
       "      <th>start_year</th>\n",
       "      <th>runtime_minutes</th>\n",
       "      <th>genres</th>\n",
       "      <th>directors</th>\n",
       "      <th>writers</th>\n",
       "      <th>release_date</th>\n",
       "      <th>production_budget</th>\n",
       "      <th>domestic_gross</th>\n",
       "      <th>worldwide_gross</th>\n",
       "      <th>year</th>\n",
       "    </tr>\n",
       "  </thead>\n",
       "  <tbody>\n",
       "    <tr>\n",
       "      <th>0</th>\n",
       "      <td>tt0249516</td>\n",
       "      <td>Foodfight!</td>\n",
       "      <td>2012.0</td>\n",
       "      <td>91.0</td>\n",
       "      <td>Action,Animation,Comedy</td>\n",
       "      <td>nm0440415</td>\n",
       "      <td>nm0440415,nm0923312,nm0295165,nm0841854,nm0220297</td>\n",
       "      <td>2012-12-31</td>\n",
       "      <td>45000000.0</td>\n",
       "      <td>0.0</td>\n",
       "      <td>73706.0</td>\n",
       "      <td>2012</td>\n",
       "    </tr>\n",
       "    <tr>\n",
       "      <th>1</th>\n",
       "      <td>tt0293429</td>\n",
       "      <td>Mortal Kombat</td>\n",
       "      <td>2021.0</td>\n",
       "      <td>NaN</td>\n",
       "      <td>Action,Adventure,Fantasy</td>\n",
       "      <td>nm2585406</td>\n",
       "      <td>nm3859643</td>\n",
       "      <td>1995-08-18</td>\n",
       "      <td>20000000.0</td>\n",
       "      <td>70433227.0</td>\n",
       "      <td>122133227.0</td>\n",
       "      <td>1995</td>\n",
       "    </tr>\n",
       "    <tr>\n",
       "      <th>2</th>\n",
       "      <td>tt0326592</td>\n",
       "      <td>The Overnight</td>\n",
       "      <td>2010.0</td>\n",
       "      <td>88.0</td>\n",
       "      <td>NaN</td>\n",
       "      <td>nm1208371</td>\n",
       "      <td>nm1170333,nm1208371</td>\n",
       "      <td>2015-06-19</td>\n",
       "      <td>200000.0</td>\n",
       "      <td>1109808.0</td>\n",
       "      <td>1165996.0</td>\n",
       "      <td>2015</td>\n",
       "    </tr>\n",
       "    <tr>\n",
       "      <th>3</th>\n",
       "      <td>tt3844362</td>\n",
       "      <td>The Overnight</td>\n",
       "      <td>2015.0</td>\n",
       "      <td>79.0</td>\n",
       "      <td>Comedy,Mystery</td>\n",
       "      <td>nm2674307</td>\n",
       "      <td>nm2674307</td>\n",
       "      <td>2015-06-19</td>\n",
       "      <td>200000.0</td>\n",
       "      <td>1109808.0</td>\n",
       "      <td>1165996.0</td>\n",
       "      <td>2015</td>\n",
       "    </tr>\n",
       "    <tr>\n",
       "      <th>4</th>\n",
       "      <td>tt0337692</td>\n",
       "      <td>On the Road</td>\n",
       "      <td>2012.0</td>\n",
       "      <td>124.0</td>\n",
       "      <td>Adventure,Drama,Romance</td>\n",
       "      <td>nm0758574</td>\n",
       "      <td>nm0449616,nm1433580</td>\n",
       "      <td>2013-03-22</td>\n",
       "      <td>25000000.0</td>\n",
       "      <td>720828.0</td>\n",
       "      <td>9313302.0</td>\n",
       "      <td>2013</td>\n",
       "    </tr>\n",
       "  </tbody>\n",
       "</table>\n",
       "</div>"
      ],
      "text/plain": [
       "      tconst    movie_title  start_year  runtime_minutes  \\\n",
       "0  tt0249516     Foodfight!      2012.0             91.0   \n",
       "1  tt0293429  Mortal Kombat      2021.0              NaN   \n",
       "2  tt0326592  The Overnight      2010.0             88.0   \n",
       "3  tt3844362  The Overnight      2015.0             79.0   \n",
       "4  tt0337692    On the Road      2012.0            124.0   \n",
       "\n",
       "                     genres  directors  \\\n",
       "0   Action,Animation,Comedy  nm0440415   \n",
       "1  Action,Adventure,Fantasy  nm2585406   \n",
       "2                       NaN  nm1208371   \n",
       "3            Comedy,Mystery  nm2674307   \n",
       "4   Adventure,Drama,Romance  nm0758574   \n",
       "\n",
       "                                             writers release_date  \\\n",
       "0  nm0440415,nm0923312,nm0295165,nm0841854,nm0220297   2012-12-31   \n",
       "1                                          nm3859643   1995-08-18   \n",
       "2                                nm1170333,nm1208371   2015-06-19   \n",
       "3                                          nm2674307   2015-06-19   \n",
       "4                                nm0449616,nm1433580   2013-03-22   \n",
       "\n",
       "   production_budget  domestic_gross  worldwide_gross  year  \n",
       "0         45000000.0             0.0          73706.0  2012  \n",
       "1         20000000.0      70433227.0      122133227.0  1995  \n",
       "2           200000.0       1109808.0        1165996.0  2015  \n",
       "3           200000.0       1109808.0        1165996.0  2015  \n",
       "4         25000000.0        720828.0        9313302.0  2013  "
      ]
     },
     "execution_count": 26,
     "metadata": {},
     "output_type": "execute_result"
    }
   ],
   "source": [
    "# Merge the df3 and df4 based on movie_title and these movie title will have a unique identifier\n",
    "# Want to keep the budget and gross (df4) for further analysis\n",
    "df5 = pd.merge(df3, df4, how='right')\n",
    "display(df5.shape)\n",
    "df5.head()"
   ]
  },
  {
   "cell_type": "code",
   "execution_count": 27,
   "metadata": {},
   "outputs": [
    {
     "data": {
      "text/html": [
       "<div>\n",
       "<style scoped>\n",
       "    .dataframe tbody tr th:only-of-type {\n",
       "        vertical-align: middle;\n",
       "    }\n",
       "\n",
       "    .dataframe tbody tr th {\n",
       "        vertical-align: top;\n",
       "    }\n",
       "\n",
       "    .dataframe thead th {\n",
       "        text-align: right;\n",
       "    }\n",
       "</style>\n",
       "<table border=\"1\" class=\"dataframe\">\n",
       "  <thead>\n",
       "    <tr style=\"text-align: right;\">\n",
       "      <th></th>\n",
       "      <th>tconst</th>\n",
       "      <th>movie_title</th>\n",
       "      <th>start_year</th>\n",
       "      <th>runtime_minutes</th>\n",
       "      <th>genres</th>\n",
       "      <th>directors</th>\n",
       "      <th>writers</th>\n",
       "      <th>release_date</th>\n",
       "      <th>production_budget</th>\n",
       "      <th>domestic_gross</th>\n",
       "      <th>worldwide_gross</th>\n",
       "      <th>year</th>\n",
       "    </tr>\n",
       "  </thead>\n",
       "  <tbody>\n",
       "    <tr>\n",
       "      <th>2702</th>\n",
       "      <td>tt5671400</td>\n",
       "      <td>1982</td>\n",
       "      <td>2015.0</td>\n",
       "      <td>11.0</td>\n",
       "      <td>Documentary</td>\n",
       "      <td>nm5608474</td>\n",
       "      <td>nm5608474</td>\n",
       "      <td>2016-03-01</td>\n",
       "      <td>1000000.0</td>\n",
       "      <td>0.0</td>\n",
       "      <td>0.0</td>\n",
       "      <td>2016</td>\n",
       "    </tr>\n",
       "    <tr>\n",
       "      <th>2701</th>\n",
       "      <td>tt2388621</td>\n",
       "      <td>1982</td>\n",
       "      <td>2013.0</td>\n",
       "      <td>90.0</td>\n",
       "      <td>Drama</td>\n",
       "      <td>nm2179966</td>\n",
       "      <td>nm2179966</td>\n",
       "      <td>2016-03-01</td>\n",
       "      <td>1000000.0</td>\n",
       "      <td>0.0</td>\n",
       "      <td>0.0</td>\n",
       "      <td>2016</td>\n",
       "    </tr>\n",
       "    <tr>\n",
       "      <th>6359</th>\n",
       "      <td>NaN</td>\n",
       "      <td>20,000 Leagues Under the Sea</td>\n",
       "      <td>NaN</td>\n",
       "      <td>NaN</td>\n",
       "      <td>NaN</td>\n",
       "      <td>NaN</td>\n",
       "      <td>NaN</td>\n",
       "      <td>1916-12-24</td>\n",
       "      <td>200000.0</td>\n",
       "      <td>8000000.0</td>\n",
       "      <td>8000000.0</td>\n",
       "      <td>1916</td>\n",
       "    </tr>\n",
       "    <tr>\n",
       "      <th>6358</th>\n",
       "      <td>NaN</td>\n",
       "      <td>20,000 Leagues Under the Sea</td>\n",
       "      <td>NaN</td>\n",
       "      <td>NaN</td>\n",
       "      <td>NaN</td>\n",
       "      <td>NaN</td>\n",
       "      <td>NaN</td>\n",
       "      <td>1954-12-23</td>\n",
       "      <td>5000000.0</td>\n",
       "      <td>28200000.0</td>\n",
       "      <td>28200000.0</td>\n",
       "      <td>1954</td>\n",
       "    </tr>\n",
       "    <tr>\n",
       "      <th>1189</th>\n",
       "      <td>tt8558372</td>\n",
       "      <td>3</td>\n",
       "      <td>2018.0</td>\n",
       "      <td>17.0</td>\n",
       "      <td>Documentary</td>\n",
       "      <td>nm7835704</td>\n",
       "      <td>NaN</td>\n",
       "      <td>2011-09-16</td>\n",
       "      <td>7200000.0</td>\n",
       "      <td>59774.0</td>\n",
       "      <td>295492.0</td>\n",
       "      <td>2011</td>\n",
       "    </tr>\n",
       "    <tr>\n",
       "      <th>1186</th>\n",
       "      <td>tt2379653</td>\n",
       "      <td>3</td>\n",
       "      <td>2012.0</td>\n",
       "      <td>115.0</td>\n",
       "      <td>Comedy,Drama</td>\n",
       "      <td>nm0831526</td>\n",
       "      <td>nm0208508,nm0714261,nm0831526</td>\n",
       "      <td>2011-09-16</td>\n",
       "      <td>7200000.0</td>\n",
       "      <td>59774.0</td>\n",
       "      <td>295492.0</td>\n",
       "      <td>2011</td>\n",
       "    </tr>\n",
       "    <tr>\n",
       "      <th>1185</th>\n",
       "      <td>tt2123129</td>\n",
       "      <td>3</td>\n",
       "      <td>2012.0</td>\n",
       "      <td>145.0</td>\n",
       "      <td>Drama,Mystery,Romance</td>\n",
       "      <td>nm1957070</td>\n",
       "      <td>nm1957070</td>\n",
       "      <td>2011-09-16</td>\n",
       "      <td>7200000.0</td>\n",
       "      <td>59774.0</td>\n",
       "      <td>295492.0</td>\n",
       "      <td>2011</td>\n",
       "    </tr>\n",
       "    <tr>\n",
       "      <th>1184</th>\n",
       "      <td>tt1517177</td>\n",
       "      <td>3</td>\n",
       "      <td>2010.0</td>\n",
       "      <td>119.0</td>\n",
       "      <td>Comedy,Drama,Romance</td>\n",
       "      <td>nm0878756</td>\n",
       "      <td>nm0878756</td>\n",
       "      <td>2011-09-16</td>\n",
       "      <td>7200000.0</td>\n",
       "      <td>59774.0</td>\n",
       "      <td>295492.0</td>\n",
       "      <td>2011</td>\n",
       "    </tr>\n",
       "    <tr>\n",
       "      <th>1187</th>\n",
       "      <td>tt5618160</td>\n",
       "      <td>3</td>\n",
       "      <td>2018.0</td>\n",
       "      <td>80.0</td>\n",
       "      <td>Horror,Mystery,Thriller</td>\n",
       "      <td>nm4840973</td>\n",
       "      <td>nm4840973</td>\n",
       "      <td>2011-09-16</td>\n",
       "      <td>7200000.0</td>\n",
       "      <td>59774.0</td>\n",
       "      <td>295492.0</td>\n",
       "      <td>2011</td>\n",
       "    </tr>\n",
       "    <tr>\n",
       "      <th>1188</th>\n",
       "      <td>tt5785598</td>\n",
       "      <td>3</td>\n",
       "      <td>2015.0</td>\n",
       "      <td>57.0</td>\n",
       "      <td>Drama</td>\n",
       "      <td>nm8196935,nm8196934</td>\n",
       "      <td>nm8196935</td>\n",
       "      <td>2011-09-16</td>\n",
       "      <td>7200000.0</td>\n",
       "      <td>59774.0</td>\n",
       "      <td>295492.0</td>\n",
       "      <td>2011</td>\n",
       "    </tr>\n",
       "  </tbody>\n",
       "</table>\n",
       "</div>"
      ],
      "text/plain": [
       "         tconst                   movie_title  start_year  runtime_minutes  \\\n",
       "2702  tt5671400                          1982      2015.0             11.0   \n",
       "2701  tt2388621                          1982      2013.0             90.0   \n",
       "6359        NaN  20,000 Leagues Under the Sea         NaN              NaN   \n",
       "6358        NaN  20,000 Leagues Under the Sea         NaN              NaN   \n",
       "1189  tt8558372                             3      2018.0             17.0   \n",
       "1186  tt2379653                             3      2012.0            115.0   \n",
       "1185  tt2123129                             3      2012.0            145.0   \n",
       "1184  tt1517177                             3      2010.0            119.0   \n",
       "1187  tt5618160                             3      2018.0             80.0   \n",
       "1188  tt5785598                             3      2015.0             57.0   \n",
       "\n",
       "                       genres            directors  \\\n",
       "2702              Documentary            nm5608474   \n",
       "2701                    Drama            nm2179966   \n",
       "6359                      NaN                  NaN   \n",
       "6358                      NaN                  NaN   \n",
       "1189              Documentary            nm7835704   \n",
       "1186             Comedy,Drama            nm0831526   \n",
       "1185    Drama,Mystery,Romance            nm1957070   \n",
       "1184     Comedy,Drama,Romance            nm0878756   \n",
       "1187  Horror,Mystery,Thriller            nm4840973   \n",
       "1188                    Drama  nm8196935,nm8196934   \n",
       "\n",
       "                            writers release_date  production_budget  \\\n",
       "2702                      nm5608474   2016-03-01          1000000.0   \n",
       "2701                      nm2179966   2016-03-01          1000000.0   \n",
       "6359                            NaN   1916-12-24           200000.0   \n",
       "6358                            NaN   1954-12-23          5000000.0   \n",
       "1189                            NaN   2011-09-16          7200000.0   \n",
       "1186  nm0208508,nm0714261,nm0831526   2011-09-16          7200000.0   \n",
       "1185                      nm1957070   2011-09-16          7200000.0   \n",
       "1184                      nm0878756   2011-09-16          7200000.0   \n",
       "1187                      nm4840973   2011-09-16          7200000.0   \n",
       "1188                      nm8196935   2011-09-16          7200000.0   \n",
       "\n",
       "      domestic_gross  worldwide_gross  year  \n",
       "2702             0.0              0.0  2016  \n",
       "2701             0.0              0.0  2016  \n",
       "6359       8000000.0        8000000.0  1916  \n",
       "6358      28200000.0       28200000.0  1954  \n",
       "1189         59774.0         295492.0  2011  \n",
       "1186         59774.0         295492.0  2011  \n",
       "1185         59774.0         295492.0  2011  \n",
       "1184         59774.0         295492.0  2011  \n",
       "1187         59774.0         295492.0  2011  \n",
       "1188         59774.0         295492.0  2011  "
      ]
     },
     "execution_count": 27,
     "metadata": {},
     "output_type": "execute_result"
    }
   ],
   "source": [
    "# Check the duplicates\n",
    "df5[df5['movie_title'].duplicated(keep=False)].sort_values(by='movie_title').head(10)"
   ]
  },
  {
   "cell_type": "markdown",
   "metadata": {},
   "source": [
    "#### Note:\n",
    "* df3 was merge on the df4 based on the same movie_title, however, there still exists duplicate movies.\n",
    "* The best way to remove those duplicates is to match start_year column with the year column to make sure they are the same movie. (df3 has the start_year, and df4 has the year column)"
   ]
  },
  {
   "cell_type": "markdown",
   "metadata": {},
   "source": [
    "### Data Cleaning"
   ]
  },
  {
   "cell_type": "code",
   "execution_count": 28,
   "metadata": {},
   "outputs": [],
   "source": [
    "# Only keep the rows with the correct matching years\n",
    "# This filtrate will only keep movie between 2010 and 2020\n",
    "df6 = df5[df5['start_year'] == df5['year']]"
   ]
  },
  {
   "cell_type": "code",
   "execution_count": 29,
   "metadata": {},
   "outputs": [
    {
     "data": {
      "text/plain": [
       "2010"
      ]
     },
     "metadata": {},
     "output_type": "display_data"
    },
    {
     "data": {
      "text/plain": [
       "2020"
      ]
     },
     "metadata": {},
     "output_type": "display_data"
    }
   ],
   "source": [
    "# Check\n",
    "display(df6['year'].min())\n",
    "display(df6['year'].max())"
   ]
  },
  {
   "cell_type": "code",
   "execution_count": 30,
   "metadata": {},
   "outputs": [
    {
     "name": "stdout",
     "output_type": "stream",
     "text": [
      "<class 'pandas.core.frame.DataFrame'>\n",
      "Int64Index: 1547 entries, 0 to 3797\n",
      "Data columns (total 12 columns):\n",
      "tconst               1547 non-null object\n",
      "movie_title          1547 non-null object\n",
      "start_year           1547 non-null float64\n",
      "runtime_minutes      1521 non-null float64\n",
      "genres               1541 non-null object\n",
      "directors            1541 non-null object\n",
      "writers              1513 non-null object\n",
      "release_date         1547 non-null datetime64[ns]\n",
      "production_budget    1547 non-null float64\n",
      "domestic_gross       1547 non-null float64\n",
      "worldwide_gross      1547 non-null float64\n",
      "year                 1547 non-null int64\n",
      "dtypes: datetime64[ns](1), float64(5), int64(1), object(5)\n",
      "memory usage: 157.1+ KB\n"
     ]
    }
   ],
   "source": [
    "df6.info()"
   ]
  },
  {
   "cell_type": "code",
   "execution_count": 31,
   "metadata": {},
   "outputs": [
    {
     "data": {
      "text/html": [
       "<div>\n",
       "<style scoped>\n",
       "    .dataframe tbody tr th:only-of-type {\n",
       "        vertical-align: middle;\n",
       "    }\n",
       "\n",
       "    .dataframe tbody tr th {\n",
       "        vertical-align: top;\n",
       "    }\n",
       "\n",
       "    .dataframe thead th {\n",
       "        text-align: right;\n",
       "    }\n",
       "</style>\n",
       "<table border=\"1\" class=\"dataframe\">\n",
       "  <thead>\n",
       "    <tr style=\"text-align: right;\">\n",
       "      <th></th>\n",
       "      <th>tconst</th>\n",
       "      <th>movie_title</th>\n",
       "      <th>start_year</th>\n",
       "      <th>runtime_minutes</th>\n",
       "      <th>genres</th>\n",
       "      <th>directors</th>\n",
       "      <th>writers</th>\n",
       "      <th>release_date</th>\n",
       "      <th>production_budget</th>\n",
       "      <th>domestic_gross</th>\n",
       "      <th>worldwide_gross</th>\n",
       "      <th>year</th>\n",
       "    </tr>\n",
       "  </thead>\n",
       "  <tbody>\n",
       "    <tr>\n",
       "      <th>0</th>\n",
       "      <td>tt0249516</td>\n",
       "      <td>Foodfight!</td>\n",
       "      <td>2012.0</td>\n",
       "      <td>91.0</td>\n",
       "      <td>Action,Animation,Comedy</td>\n",
       "      <td>nm0440415</td>\n",
       "      <td>nm0440415,nm0923312,nm0295165,nm0841854,nm0220297</td>\n",
       "      <td>2012-12-31</td>\n",
       "      <td>45000000.0</td>\n",
       "      <td>0.0</td>\n",
       "      <td>73706.0</td>\n",
       "      <td>2012</td>\n",
       "    </tr>\n",
       "    <tr>\n",
       "      <th>3</th>\n",
       "      <td>tt3844362</td>\n",
       "      <td>The Overnight</td>\n",
       "      <td>2015.0</td>\n",
       "      <td>79.0</td>\n",
       "      <td>Comedy,Mystery</td>\n",
       "      <td>nm2674307</td>\n",
       "      <td>nm2674307</td>\n",
       "      <td>2015-06-19</td>\n",
       "      <td>200000.0</td>\n",
       "      <td>1109808.0</td>\n",
       "      <td>1165996.0</td>\n",
       "      <td>2015</td>\n",
       "    </tr>\n",
       "    <tr>\n",
       "      <th>6</th>\n",
       "      <td>tt3872966</td>\n",
       "      <td>On the Road</td>\n",
       "      <td>2013.0</td>\n",
       "      <td>87.0</td>\n",
       "      <td>Documentary</td>\n",
       "      <td>nm4953104</td>\n",
       "      <td>NaN</td>\n",
       "      <td>2013-03-22</td>\n",
       "      <td>25000000.0</td>\n",
       "      <td>720828.0</td>\n",
       "      <td>9313302.0</td>\n",
       "      <td>2013</td>\n",
       "    </tr>\n",
       "    <tr>\n",
       "      <th>10</th>\n",
       "      <td>tt0359950</td>\n",
       "      <td>The Secret Life of Walter Mitty</td>\n",
       "      <td>2013.0</td>\n",
       "      <td>114.0</td>\n",
       "      <td>Adventure,Comedy,Drama</td>\n",
       "      <td>nm0001774</td>\n",
       "      <td>nm0175726,nm0862122</td>\n",
       "      <td>2013-12-25</td>\n",
       "      <td>91000000.0</td>\n",
       "      <td>58236838.0</td>\n",
       "      <td>187861183.0</td>\n",
       "      <td>2013</td>\n",
       "    </tr>\n",
       "    <tr>\n",
       "      <th>11</th>\n",
       "      <td>tt0365907</td>\n",
       "      <td>A Walk Among the Tombstones</td>\n",
       "      <td>2014.0</td>\n",
       "      <td>114.0</td>\n",
       "      <td>Action,Crime,Drama</td>\n",
       "      <td>nm0291082</td>\n",
       "      <td>nm0088747,nm0291082</td>\n",
       "      <td>2014-09-19</td>\n",
       "      <td>28000000.0</td>\n",
       "      <td>26017685.0</td>\n",
       "      <td>62108587.0</td>\n",
       "      <td>2014</td>\n",
       "    </tr>\n",
       "  </tbody>\n",
       "</table>\n",
       "</div>"
      ],
      "text/plain": [
       "       tconst                      movie_title  start_year  runtime_minutes  \\\n",
       "0   tt0249516                       Foodfight!      2012.0             91.0   \n",
       "3   tt3844362                    The Overnight      2015.0             79.0   \n",
       "6   tt3872966                      On the Road      2013.0             87.0   \n",
       "10  tt0359950  The Secret Life of Walter Mitty      2013.0            114.0   \n",
       "11  tt0365907      A Walk Among the Tombstones      2014.0            114.0   \n",
       "\n",
       "                     genres  directors  \\\n",
       "0   Action,Animation,Comedy  nm0440415   \n",
       "3            Comedy,Mystery  nm2674307   \n",
       "6               Documentary  nm4953104   \n",
       "10   Adventure,Comedy,Drama  nm0001774   \n",
       "11       Action,Crime,Drama  nm0291082   \n",
       "\n",
       "                                              writers release_date  \\\n",
       "0   nm0440415,nm0923312,nm0295165,nm0841854,nm0220297   2012-12-31   \n",
       "3                                           nm2674307   2015-06-19   \n",
       "6                                                 NaN   2013-03-22   \n",
       "10                                nm0175726,nm0862122   2013-12-25   \n",
       "11                                nm0088747,nm0291082   2014-09-19   \n",
       "\n",
       "    production_budget  domestic_gross  worldwide_gross  year  \n",
       "0          45000000.0             0.0          73706.0  2012  \n",
       "3            200000.0       1109808.0        1165996.0  2015  \n",
       "6          25000000.0        720828.0        9313302.0  2013  \n",
       "10         91000000.0      58236838.0      187861183.0  2013  \n",
       "11         28000000.0      26017685.0       62108587.0  2014  "
      ]
     },
     "execution_count": 31,
     "metadata": {},
     "output_type": "execute_result"
    }
   ],
   "source": [
    "# Preview\n",
    "df6.head()"
   ]
  },
  {
   "cell_type": "code",
   "execution_count": 32,
   "metadata": {},
   "outputs": [
    {
     "data": {
      "text/html": [
       "<div>\n",
       "<style scoped>\n",
       "    .dataframe tbody tr th:only-of-type {\n",
       "        vertical-align: middle;\n",
       "    }\n",
       "\n",
       "    .dataframe tbody tr th {\n",
       "        vertical-align: top;\n",
       "    }\n",
       "\n",
       "    .dataframe thead th {\n",
       "        text-align: right;\n",
       "    }\n",
       "</style>\n",
       "<table border=\"1\" class=\"dataframe\">\n",
       "  <thead>\n",
       "    <tr style=\"text-align: right;\">\n",
       "      <th></th>\n",
       "      <th>tconst</th>\n",
       "      <th>movie_title</th>\n",
       "      <th>start_year</th>\n",
       "      <th>runtime_minutes</th>\n",
       "      <th>genres</th>\n",
       "      <th>directors</th>\n",
       "      <th>writers</th>\n",
       "      <th>release_date</th>\n",
       "      <th>production_budget</th>\n",
       "      <th>domestic_gross</th>\n",
       "      <th>worldwide_gross</th>\n",
       "      <th>year</th>\n",
       "    </tr>\n",
       "  </thead>\n",
       "  <tbody>\n",
       "    <tr>\n",
       "      <th>1244</th>\n",
       "      <td>tt2027265</td>\n",
       "      <td>A Better Life</td>\n",
       "      <td>2011.0</td>\n",
       "      <td>110.0</td>\n",
       "      <td>Drama</td>\n",
       "      <td>nm0434806</td>\n",
       "      <td>nm1771591,nm0434806</td>\n",
       "      <td>2011-06-24</td>\n",
       "      <td>10000000.0</td>\n",
       "      <td>1759252.0</td>\n",
       "      <td>1884251.0</td>\n",
       "      <td>2011</td>\n",
       "    </tr>\n",
       "    <tr>\n",
       "      <th>1243</th>\n",
       "      <td>tt1554091</td>\n",
       "      <td>A Better Life</td>\n",
       "      <td>2011.0</td>\n",
       "      <td>98.0</td>\n",
       "      <td>Drama,Romance</td>\n",
       "      <td>nm0919363</td>\n",
       "      <td>nm1067858,nm0800363</td>\n",
       "      <td>2011-06-24</td>\n",
       "      <td>10000000.0</td>\n",
       "      <td>1759252.0</td>\n",
       "      <td>1884251.0</td>\n",
       "      <td>2011</td>\n",
       "    </tr>\n",
       "    <tr>\n",
       "      <th>1338</th>\n",
       "      <td>tt2447982</td>\n",
       "      <td>Abduction</td>\n",
       "      <td>2011.0</td>\n",
       "      <td>84.0</td>\n",
       "      <td>Horror,Thriller</td>\n",
       "      <td>nm5303254</td>\n",
       "      <td>nm4464037</td>\n",
       "      <td>2011-09-23</td>\n",
       "      <td>35000000.0</td>\n",
       "      <td>28087155.0</td>\n",
       "      <td>86648359.0</td>\n",
       "      <td>2011</td>\n",
       "    </tr>\n",
       "    <tr>\n",
       "      <th>1336</th>\n",
       "      <td>tt1600195</td>\n",
       "      <td>Abduction</td>\n",
       "      <td>2011.0</td>\n",
       "      <td>106.0</td>\n",
       "      <td>Action,Mystery,Thriller</td>\n",
       "      <td>nm0005436</td>\n",
       "      <td>nm0159900</td>\n",
       "      <td>2011-09-23</td>\n",
       "      <td>35000000.0</td>\n",
       "      <td>28087155.0</td>\n",
       "      <td>86648359.0</td>\n",
       "      <td>2011</td>\n",
       "    </tr>\n",
       "    <tr>\n",
       "      <th>1366</th>\n",
       "      <td>tt7501544</td>\n",
       "      <td>Absentia</td>\n",
       "      <td>2011.0</td>\n",
       "      <td>60.0</td>\n",
       "      <td>Sci-Fi</td>\n",
       "      <td>nm9339179</td>\n",
       "      <td>nm9339179</td>\n",
       "      <td>2011-12-31</td>\n",
       "      <td>70000.0</td>\n",
       "      <td>0.0</td>\n",
       "      <td>8555.0</td>\n",
       "      <td>2011</td>\n",
       "    </tr>\n",
       "    <tr>\n",
       "      <th>1365</th>\n",
       "      <td>tt1610996</td>\n",
       "      <td>Absentia</td>\n",
       "      <td>2011.0</td>\n",
       "      <td>87.0</td>\n",
       "      <td>Drama,Horror,Mystery</td>\n",
       "      <td>nm1093039</td>\n",
       "      <td>nm1093039</td>\n",
       "      <td>2011-12-31</td>\n",
       "      <td>70000.0</td>\n",
       "      <td>0.0</td>\n",
       "      <td>8555.0</td>\n",
       "      <td>2011</td>\n",
       "    </tr>\n",
       "    <tr>\n",
       "      <th>2469</th>\n",
       "      <td>tt2205401</td>\n",
       "      <td>Addicted</td>\n",
       "      <td>2014.0</td>\n",
       "      <td>106.0</td>\n",
       "      <td>Drama,Thriller</td>\n",
       "      <td>nm0937306</td>\n",
       "      <td>nm0920530,nm0053228,nm2268532</td>\n",
       "      <td>2014-10-10</td>\n",
       "      <td>5000000.0</td>\n",
       "      <td>17390770.0</td>\n",
       "      <td>17499242.0</td>\n",
       "      <td>2014</td>\n",
       "    </tr>\n",
       "    <tr>\n",
       "      <th>2470</th>\n",
       "      <td>tt3435418</td>\n",
       "      <td>Addicted</td>\n",
       "      <td>2014.0</td>\n",
       "      <td>97.0</td>\n",
       "      <td>Documentary,Music</td>\n",
       "      <td>nm5356389</td>\n",
       "      <td>nm5356389</td>\n",
       "      <td>2014-10-10</td>\n",
       "      <td>5000000.0</td>\n",
       "      <td>17390770.0</td>\n",
       "      <td>17499242.0</td>\n",
       "      <td>2014</td>\n",
       "    </tr>\n",
       "    <tr>\n",
       "      <th>602</th>\n",
       "      <td>tt1799508</td>\n",
       "      <td>After</td>\n",
       "      <td>2012.0</td>\n",
       "      <td>90.0</td>\n",
       "      <td>Drama,Fantasy,Mystery</td>\n",
       "      <td>nm3081301</td>\n",
       "      <td>nm2859813,nm3081301</td>\n",
       "      <td>2012-12-31</td>\n",
       "      <td>650000.0</td>\n",
       "      <td>0.0</td>\n",
       "      <td>0.0</td>\n",
       "      <td>2012</td>\n",
       "    </tr>\n",
       "    <tr>\n",
       "      <th>603</th>\n",
       "      <td>tt2404163</td>\n",
       "      <td>After</td>\n",
       "      <td>2012.0</td>\n",
       "      <td>83.0</td>\n",
       "      <td>Romance</td>\n",
       "      <td>nm0537611</td>\n",
       "      <td>nm0537611</td>\n",
       "      <td>2012-12-31</td>\n",
       "      <td>650000.0</td>\n",
       "      <td>0.0</td>\n",
       "      <td>0.0</td>\n",
       "      <td>2012</td>\n",
       "    </tr>\n",
       "  </tbody>\n",
       "</table>\n",
       "</div>"
      ],
      "text/plain": [
       "         tconst    movie_title  start_year  runtime_minutes  \\\n",
       "1244  tt2027265  A Better Life      2011.0            110.0   \n",
       "1243  tt1554091  A Better Life      2011.0             98.0   \n",
       "1338  tt2447982      Abduction      2011.0             84.0   \n",
       "1336  tt1600195      Abduction      2011.0            106.0   \n",
       "1366  tt7501544       Absentia      2011.0             60.0   \n",
       "1365  tt1610996       Absentia      2011.0             87.0   \n",
       "2469  tt2205401       Addicted      2014.0            106.0   \n",
       "2470  tt3435418       Addicted      2014.0             97.0   \n",
       "602   tt1799508          After      2012.0             90.0   \n",
       "603   tt2404163          After      2012.0             83.0   \n",
       "\n",
       "                       genres  directors                        writers  \\\n",
       "1244                    Drama  nm0434806            nm1771591,nm0434806   \n",
       "1243            Drama,Romance  nm0919363            nm1067858,nm0800363   \n",
       "1338          Horror,Thriller  nm5303254                      nm4464037   \n",
       "1336  Action,Mystery,Thriller  nm0005436                      nm0159900   \n",
       "1366                   Sci-Fi  nm9339179                      nm9339179   \n",
       "1365     Drama,Horror,Mystery  nm1093039                      nm1093039   \n",
       "2469           Drama,Thriller  nm0937306  nm0920530,nm0053228,nm2268532   \n",
       "2470        Documentary,Music  nm5356389                      nm5356389   \n",
       "602     Drama,Fantasy,Mystery  nm3081301            nm2859813,nm3081301   \n",
       "603                   Romance  nm0537611                      nm0537611   \n",
       "\n",
       "     release_date  production_budget  domestic_gross  worldwide_gross  year  \n",
       "1244   2011-06-24         10000000.0       1759252.0        1884251.0  2011  \n",
       "1243   2011-06-24         10000000.0       1759252.0        1884251.0  2011  \n",
       "1338   2011-09-23         35000000.0      28087155.0       86648359.0  2011  \n",
       "1336   2011-09-23         35000000.0      28087155.0       86648359.0  2011  \n",
       "1366   2011-12-31            70000.0             0.0           8555.0  2011  \n",
       "1365   2011-12-31            70000.0             0.0           8555.0  2011  \n",
       "2469   2014-10-10          5000000.0      17390770.0       17499242.0  2014  \n",
       "2470   2014-10-10          5000000.0      17390770.0       17499242.0  2014  \n",
       "602    2012-12-31           650000.0             0.0              0.0  2012  \n",
       "603    2012-12-31           650000.0             0.0              0.0  2012  "
      ]
     },
     "execution_count": 32,
     "metadata": {},
     "output_type": "execute_result"
    }
   ],
   "source": [
    "# Check for duplicates again\n",
    "df6[df6['movie_title'].duplicated(keep=False)].sort_values(by='movie_title').head(10)"
   ]
  },
  {
   "cell_type": "markdown",
   "metadata": {},
   "source": [
    "#### Note:\n",
    "* There still exits duplicates movie_name, because these duplicate movies have the matching start_year and year column. Although they have different genres, they have exactly the same budget and gross data."
   ]
  },
  {
   "cell_type": "code",
   "execution_count": 33,
   "metadata": {},
   "outputs": [
    {
     "name": "stdout",
     "output_type": "stream",
     "text": [
      "False    92.501616\n",
      "True      7.498384\n",
      "Name: movie_title, dtype: float64\n"
     ]
    }
   ],
   "source": [
    "# Check the percentage of duplicates\n",
    "percentage = df6['movie_title'].duplicated(keep=False).value_counts(normalize=True) * 100\n",
    "print (percentage)"
   ]
  },
  {
   "cell_type": "code",
   "execution_count": 34,
   "metadata": {},
   "outputs": [
    {
     "data": {
      "text/plain": [
       "0.07498383968972204"
      ]
     },
     "execution_count": 34,
     "metadata": {},
     "output_type": "execute_result"
    }
   ],
   "source": [
    "# Double check\n",
    "df6['movie_title'].duplicated(keep=False).mean()"
   ]
  },
  {
   "cell_type": "markdown",
   "metadata": {},
   "source": [
    "#### Note:\n",
    "* Since these duplicates only take less than 8%. They can be dropped without having too much influecne on the overall."
   ]
  },
  {
   "cell_type": "code",
   "execution_count": 35,
   "metadata": {},
   "outputs": [],
   "source": [
    "# Drop duplicates\n",
    "df7 = df6.drop_duplicates(subset='movie_title', keep=False)"
   ]
  },
  {
   "cell_type": "code",
   "execution_count": 36,
   "metadata": {},
   "outputs": [
    {
     "name": "stdout",
     "output_type": "stream",
     "text": [
      "<class 'pandas.core.frame.DataFrame'>\n",
      "Int64Index: 1431 entries, 0 to 3797\n",
      "Data columns (total 12 columns):\n",
      "tconst               1431 non-null object\n",
      "movie_title          1431 non-null object\n",
      "start_year           1431 non-null float64\n",
      "runtime_minutes      1417 non-null float64\n",
      "genres               1431 non-null object\n",
      "directors            1430 non-null object\n",
      "writers              1414 non-null object\n",
      "release_date         1431 non-null datetime64[ns]\n",
      "production_budget    1431 non-null float64\n",
      "domestic_gross       1431 non-null float64\n",
      "worldwide_gross      1431 non-null float64\n",
      "year                 1431 non-null int64\n",
      "dtypes: datetime64[ns](1), float64(5), int64(1), object(5)\n",
      "memory usage: 145.3+ KB\n"
     ]
    }
   ],
   "source": [
    "# Check\n",
    "df7.info()"
   ]
  },
  {
   "cell_type": "code",
   "execution_count": 37,
   "metadata": {},
   "outputs": [
    {
     "data": {
      "text/plain": [
       "False"
      ]
     },
     "execution_count": 37,
     "metadata": {},
     "output_type": "execute_result"
    }
   ],
   "source": [
    "# Check\n",
    "df7['movie_title'].duplicated().any()"
   ]
  },
  {
   "cell_type": "markdown",
   "metadata": {},
   "source": [
    "## How to define a successful movie?\n",
    "-- Successful movies yield advantageous financial returns.\n",
    "* domestic_gross >= 2 * production_budget\n",
    "* OR\n",
    "* worldwide_gross >= 2 * production_budget"
   ]
  },
  {
   "cell_type": "code",
   "execution_count": 38,
   "metadata": {},
   "outputs": [
    {
     "name": "stderr",
     "output_type": "stream",
     "text": [
      "/opt/anaconda3/envs/learn-env/lib/python3.6/site-packages/pandas/core/indexing.py:376: SettingWithCopyWarning: \n",
      "A value is trying to be set on a copy of a slice from a DataFrame.\n",
      "Try using .loc[row_indexer,col_indexer] = value instead\n",
      "\n",
      "See the caveats in the documentation: http://pandas.pydata.org/pandas-docs/stable/user_guide/indexing.html#returning-a-view-versus-a-copy\n",
      "  self.obj[key] = _infer_fill_value(value)\n",
      "/opt/anaconda3/envs/learn-env/lib/python3.6/site-packages/pandas/core/indexing.py:494: SettingWithCopyWarning: \n",
      "A value is trying to be set on a copy of a slice from a DataFrame.\n",
      "Try using .loc[row_indexer,col_indexer] = value instead\n",
      "\n",
      "See the caveats in the documentation: http://pandas.pydata.org/pandas-docs/stable/user_guide/indexing.html#returning-a-view-versus-a-copy\n",
      "  self.obj[item] = s\n"
     ]
    }
   ],
   "source": [
    "# Select successful movies\n",
    "# make a new column \"success\"\n",
    "# movies satisfied the criteria will have \"yes\"\n",
    "# movies unsatisfied the criteria will have NaN value\n",
    "df7.loc[(df7['domestic_gross']/df7['production_budget'] >= 2) | (df7['worldwide_gross']/df7['production_budget'] >= 2), 'success'] = \"yes\""
   ]
  },
  {
   "cell_type": "code",
   "execution_count": 39,
   "metadata": {},
   "outputs": [
    {
     "data": {
      "text/plain": [
       "691"
      ]
     },
     "execution_count": 39,
     "metadata": {},
     "output_type": "execute_result"
    }
   ],
   "source": [
    "# Check those have NaN value in the success column which means these did not meet the criteria\n",
    "df7['success'].isna().sum()"
   ]
  },
  {
   "cell_type": "markdown",
   "metadata": {},
   "source": [
    "### Successful Moive DataFrame"
   ]
  },
  {
   "cell_type": "code",
   "execution_count": 40,
   "metadata": {},
   "outputs": [],
   "source": [
    "# Keep the success movies => rows have \"yes\"\n",
    "success_df = df7[df7['success'] == \"yes\"]"
   ]
  },
  {
   "cell_type": "code",
   "execution_count": 41,
   "metadata": {},
   "outputs": [
    {
     "name": "stdout",
     "output_type": "stream",
     "text": [
      "<class 'pandas.core.frame.DataFrame'>\n",
      "Int64Index: 740 entries, 3 to 3797\n",
      "Data columns (total 13 columns):\n",
      "tconst               740 non-null object\n",
      "movie_title          740 non-null object\n",
      "start_year           740 non-null float64\n",
      "runtime_minutes      740 non-null float64\n",
      "genres               740 non-null object\n",
      "directors            739 non-null object\n",
      "writers              734 non-null object\n",
      "release_date         740 non-null datetime64[ns]\n",
      "production_budget    740 non-null float64\n",
      "domestic_gross       740 non-null float64\n",
      "worldwide_gross      740 non-null float64\n",
      "year                 740 non-null int64\n",
      "success              740 non-null object\n",
      "dtypes: datetime64[ns](1), float64(5), int64(1), object(6)\n",
      "memory usage: 80.9+ KB\n"
     ]
    }
   ],
   "source": [
    "success_df.info()"
   ]
  },
  {
   "cell_type": "code",
   "execution_count": 42,
   "metadata": {},
   "outputs": [
    {
     "data": {
      "text/html": [
       "<div>\n",
       "<style scoped>\n",
       "    .dataframe tbody tr th:only-of-type {\n",
       "        vertical-align: middle;\n",
       "    }\n",
       "\n",
       "    .dataframe tbody tr th {\n",
       "        vertical-align: top;\n",
       "    }\n",
       "\n",
       "    .dataframe thead th {\n",
       "        text-align: right;\n",
       "    }\n",
       "</style>\n",
       "<table border=\"1\" class=\"dataframe\">\n",
       "  <thead>\n",
       "    <tr style=\"text-align: right;\">\n",
       "      <th></th>\n",
       "      <th>tconst</th>\n",
       "      <th>movie_title</th>\n",
       "      <th>start_year</th>\n",
       "      <th>runtime_minutes</th>\n",
       "      <th>genres</th>\n",
       "      <th>directors</th>\n",
       "      <th>writers</th>\n",
       "      <th>release_date</th>\n",
       "      <th>production_budget</th>\n",
       "      <th>domestic_gross</th>\n",
       "      <th>worldwide_gross</th>\n",
       "      <th>year</th>\n",
       "      <th>success</th>\n",
       "    </tr>\n",
       "  </thead>\n",
       "  <tbody>\n",
       "    <tr>\n",
       "      <th>3</th>\n",
       "      <td>tt3844362</td>\n",
       "      <td>The Overnight</td>\n",
       "      <td>2015.0</td>\n",
       "      <td>79.0</td>\n",
       "      <td>Comedy,Mystery</td>\n",
       "      <td>nm2674307</td>\n",
       "      <td>nm2674307</td>\n",
       "      <td>2015-06-19</td>\n",
       "      <td>200000.0</td>\n",
       "      <td>1109808.0</td>\n",
       "      <td>1.165996e+06</td>\n",
       "      <td>2015</td>\n",
       "      <td>yes</td>\n",
       "    </tr>\n",
       "    <tr>\n",
       "      <th>10</th>\n",
       "      <td>tt0359950</td>\n",
       "      <td>The Secret Life of Walter Mitty</td>\n",
       "      <td>2013.0</td>\n",
       "      <td>114.0</td>\n",
       "      <td>Adventure,Comedy,Drama</td>\n",
       "      <td>nm0001774</td>\n",
       "      <td>nm0175726,nm0862122</td>\n",
       "      <td>2013-12-25</td>\n",
       "      <td>91000000.0</td>\n",
       "      <td>58236838.0</td>\n",
       "      <td>1.878612e+08</td>\n",
       "      <td>2013</td>\n",
       "      <td>yes</td>\n",
       "    </tr>\n",
       "    <tr>\n",
       "      <th>11</th>\n",
       "      <td>tt0365907</td>\n",
       "      <td>A Walk Among the Tombstones</td>\n",
       "      <td>2014.0</td>\n",
       "      <td>114.0</td>\n",
       "      <td>Action,Crime,Drama</td>\n",
       "      <td>nm0291082</td>\n",
       "      <td>nm0088747,nm0291082</td>\n",
       "      <td>2014-09-19</td>\n",
       "      <td>28000000.0</td>\n",
       "      <td>26017685.0</td>\n",
       "      <td>6.210859e+07</td>\n",
       "      <td>2014</td>\n",
       "      <td>yes</td>\n",
       "    </tr>\n",
       "    <tr>\n",
       "      <th>12</th>\n",
       "      <td>tt0369610</td>\n",
       "      <td>Jurassic World</td>\n",
       "      <td>2015.0</td>\n",
       "      <td>124.0</td>\n",
       "      <td>Action,Adventure,Sci-Fi</td>\n",
       "      <td>nm1119880</td>\n",
       "      <td>nm0415425,nm0798646,nm1119880,nm2081046,nm0000341</td>\n",
       "      <td>2015-06-12</td>\n",
       "      <td>215000000.0</td>\n",
       "      <td>652270625.0</td>\n",
       "      <td>1.648855e+09</td>\n",
       "      <td>2015</td>\n",
       "      <td>yes</td>\n",
       "    </tr>\n",
       "    <tr>\n",
       "      <th>17</th>\n",
       "      <td>tt0398286</td>\n",
       "      <td>Tangled</td>\n",
       "      <td>2010.0</td>\n",
       "      <td>100.0</td>\n",
       "      <td>Adventure,Animation,Comedy</td>\n",
       "      <td>nm1977355,nm0397174</td>\n",
       "      <td>nm1557594,nm0342278,nm0342303</td>\n",
       "      <td>2010-11-24</td>\n",
       "      <td>260000000.0</td>\n",
       "      <td>200821936.0</td>\n",
       "      <td>5.864772e+08</td>\n",
       "      <td>2010</td>\n",
       "      <td>yes</td>\n",
       "    </tr>\n",
       "  </tbody>\n",
       "</table>\n",
       "</div>"
      ],
      "text/plain": [
       "       tconst                      movie_title  start_year  runtime_minutes  \\\n",
       "3   tt3844362                    The Overnight      2015.0             79.0   \n",
       "10  tt0359950  The Secret Life of Walter Mitty      2013.0            114.0   \n",
       "11  tt0365907      A Walk Among the Tombstones      2014.0            114.0   \n",
       "12  tt0369610                   Jurassic World      2015.0            124.0   \n",
       "17  tt0398286                          Tangled      2010.0            100.0   \n",
       "\n",
       "                        genres            directors  \\\n",
       "3               Comedy,Mystery            nm2674307   \n",
       "10      Adventure,Comedy,Drama            nm0001774   \n",
       "11          Action,Crime,Drama            nm0291082   \n",
       "12     Action,Adventure,Sci-Fi            nm1119880   \n",
       "17  Adventure,Animation,Comedy  nm1977355,nm0397174   \n",
       "\n",
       "                                              writers release_date  \\\n",
       "3                                           nm2674307   2015-06-19   \n",
       "10                                nm0175726,nm0862122   2013-12-25   \n",
       "11                                nm0088747,nm0291082   2014-09-19   \n",
       "12  nm0415425,nm0798646,nm1119880,nm2081046,nm0000341   2015-06-12   \n",
       "17                      nm1557594,nm0342278,nm0342303   2010-11-24   \n",
       "\n",
       "    production_budget  domestic_gross  worldwide_gross  year success  \n",
       "3            200000.0       1109808.0     1.165996e+06  2015     yes  \n",
       "10         91000000.0      58236838.0     1.878612e+08  2013     yes  \n",
       "11         28000000.0      26017685.0     6.210859e+07  2014     yes  \n",
       "12        215000000.0     652270625.0     1.648855e+09  2015     yes  \n",
       "17        260000000.0     200821936.0     5.864772e+08  2010     yes  "
      ]
     },
     "execution_count": 42,
     "metadata": {},
     "output_type": "execute_result"
    }
   ],
   "source": [
    "success_df.head()"
   ]
  },
  {
   "cell_type": "code",
   "execution_count": 43,
   "metadata": {},
   "outputs": [],
   "source": [
    "# Reset the index\n",
    "success_df.reset_index(drop=True, inplace=True)"
   ]
  },
  {
   "cell_type": "code",
   "execution_count": 44,
   "metadata": {},
   "outputs": [
    {
     "data": {
      "text/html": [
       "<div>\n",
       "<style scoped>\n",
       "    .dataframe tbody tr th:only-of-type {\n",
       "        vertical-align: middle;\n",
       "    }\n",
       "\n",
       "    .dataframe tbody tr th {\n",
       "        vertical-align: top;\n",
       "    }\n",
       "\n",
       "    .dataframe thead th {\n",
       "        text-align: right;\n",
       "    }\n",
       "</style>\n",
       "<table border=\"1\" class=\"dataframe\">\n",
       "  <thead>\n",
       "    <tr style=\"text-align: right;\">\n",
       "      <th></th>\n",
       "      <th>tconst</th>\n",
       "      <th>movie_title</th>\n",
       "      <th>start_year</th>\n",
       "      <th>runtime_minutes</th>\n",
       "      <th>genres</th>\n",
       "      <th>directors</th>\n",
       "      <th>writers</th>\n",
       "      <th>release_date</th>\n",
       "      <th>production_budget</th>\n",
       "      <th>domestic_gross</th>\n",
       "      <th>worldwide_gross</th>\n",
       "      <th>year</th>\n",
       "      <th>success</th>\n",
       "    </tr>\n",
       "  </thead>\n",
       "  <tbody>\n",
       "    <tr>\n",
       "      <th>0</th>\n",
       "      <td>tt3844362</td>\n",
       "      <td>The Overnight</td>\n",
       "      <td>2015.0</td>\n",
       "      <td>79.0</td>\n",
       "      <td>Comedy,Mystery</td>\n",
       "      <td>nm2674307</td>\n",
       "      <td>nm2674307</td>\n",
       "      <td>2015-06-19</td>\n",
       "      <td>200000.0</td>\n",
       "      <td>1109808.0</td>\n",
       "      <td>1.165996e+06</td>\n",
       "      <td>2015</td>\n",
       "      <td>yes</td>\n",
       "    </tr>\n",
       "    <tr>\n",
       "      <th>1</th>\n",
       "      <td>tt0359950</td>\n",
       "      <td>The Secret Life of Walter Mitty</td>\n",
       "      <td>2013.0</td>\n",
       "      <td>114.0</td>\n",
       "      <td>Adventure,Comedy,Drama</td>\n",
       "      <td>nm0001774</td>\n",
       "      <td>nm0175726,nm0862122</td>\n",
       "      <td>2013-12-25</td>\n",
       "      <td>91000000.0</td>\n",
       "      <td>58236838.0</td>\n",
       "      <td>1.878612e+08</td>\n",
       "      <td>2013</td>\n",
       "      <td>yes</td>\n",
       "    </tr>\n",
       "    <tr>\n",
       "      <th>2</th>\n",
       "      <td>tt0365907</td>\n",
       "      <td>A Walk Among the Tombstones</td>\n",
       "      <td>2014.0</td>\n",
       "      <td>114.0</td>\n",
       "      <td>Action,Crime,Drama</td>\n",
       "      <td>nm0291082</td>\n",
       "      <td>nm0088747,nm0291082</td>\n",
       "      <td>2014-09-19</td>\n",
       "      <td>28000000.0</td>\n",
       "      <td>26017685.0</td>\n",
       "      <td>6.210859e+07</td>\n",
       "      <td>2014</td>\n",
       "      <td>yes</td>\n",
       "    </tr>\n",
       "    <tr>\n",
       "      <th>3</th>\n",
       "      <td>tt0369610</td>\n",
       "      <td>Jurassic World</td>\n",
       "      <td>2015.0</td>\n",
       "      <td>124.0</td>\n",
       "      <td>Action,Adventure,Sci-Fi</td>\n",
       "      <td>nm1119880</td>\n",
       "      <td>nm0415425,nm0798646,nm1119880,nm2081046,nm0000341</td>\n",
       "      <td>2015-06-12</td>\n",
       "      <td>215000000.0</td>\n",
       "      <td>652270625.0</td>\n",
       "      <td>1.648855e+09</td>\n",
       "      <td>2015</td>\n",
       "      <td>yes</td>\n",
       "    </tr>\n",
       "    <tr>\n",
       "      <th>4</th>\n",
       "      <td>tt0398286</td>\n",
       "      <td>Tangled</td>\n",
       "      <td>2010.0</td>\n",
       "      <td>100.0</td>\n",
       "      <td>Adventure,Animation,Comedy</td>\n",
       "      <td>nm1977355,nm0397174</td>\n",
       "      <td>nm1557594,nm0342278,nm0342303</td>\n",
       "      <td>2010-11-24</td>\n",
       "      <td>260000000.0</td>\n",
       "      <td>200821936.0</td>\n",
       "      <td>5.864772e+08</td>\n",
       "      <td>2010</td>\n",
       "      <td>yes</td>\n",
       "    </tr>\n",
       "  </tbody>\n",
       "</table>\n",
       "</div>"
      ],
      "text/plain": [
       "      tconst                      movie_title  start_year  runtime_minutes  \\\n",
       "0  tt3844362                    The Overnight      2015.0             79.0   \n",
       "1  tt0359950  The Secret Life of Walter Mitty      2013.0            114.0   \n",
       "2  tt0365907      A Walk Among the Tombstones      2014.0            114.0   \n",
       "3  tt0369610                   Jurassic World      2015.0            124.0   \n",
       "4  tt0398286                          Tangled      2010.0            100.0   \n",
       "\n",
       "                       genres            directors  \\\n",
       "0              Comedy,Mystery            nm2674307   \n",
       "1      Adventure,Comedy,Drama            nm0001774   \n",
       "2          Action,Crime,Drama            nm0291082   \n",
       "3     Action,Adventure,Sci-Fi            nm1119880   \n",
       "4  Adventure,Animation,Comedy  nm1977355,nm0397174   \n",
       "\n",
       "                                             writers release_date  \\\n",
       "0                                          nm2674307   2015-06-19   \n",
       "1                                nm0175726,nm0862122   2013-12-25   \n",
       "2                                nm0088747,nm0291082   2014-09-19   \n",
       "3  nm0415425,nm0798646,nm1119880,nm2081046,nm0000341   2015-06-12   \n",
       "4                      nm1557594,nm0342278,nm0342303   2010-11-24   \n",
       "\n",
       "   production_budget  domestic_gross  worldwide_gross  year success  \n",
       "0           200000.0       1109808.0     1.165996e+06  2015     yes  \n",
       "1         91000000.0      58236838.0     1.878612e+08  2013     yes  \n",
       "2         28000000.0      26017685.0     6.210859e+07  2014     yes  \n",
       "3        215000000.0     652270625.0     1.648855e+09  2015     yes  \n",
       "4        260000000.0     200821936.0     5.864772e+08  2010     yes  "
      ]
     },
     "execution_count": 44,
     "metadata": {},
     "output_type": "execute_result"
    }
   ],
   "source": [
    "# Check\n",
    "success_df.head()"
   ]
  },
  {
   "cell_type": "code",
   "execution_count": 45,
   "metadata": {},
   "outputs": [],
   "source": [
    "# Save success_df to CSV\n",
    "success_df.to_csv('./zippedData/successful_movies_df.csv')"
   ]
  },
  {
   "cell_type": "markdown",
   "metadata": {},
   "source": [
    "## Meaningful Questions\n",
    "<b>Q1</b>. Which genres should be chosen among those successful movies? <br>\n",
    "<b>Q2</b>. Which directors and writers should be hired among those successful movies? <br>\n",
    "<b>Q3</b>. Which month has the highest release of successful movies? <br>\n",
    "<b>Q4</b>. What is the optimal movie length for a successful movie?"
   ]
  },
  {
   "cell_type": "markdown",
   "metadata": {},
   "source": [
    "## Question 1\n",
    "* Which genres should be chosen among those successful movies?"
   ]
  },
  {
   "cell_type": "code",
   "execution_count": 46,
   "metadata": {},
   "outputs": [],
   "source": [
    "# Create a genre dataframe from success_df \n",
    "genre_df = success_df[['tconst', 'movie_title', 'genres']]"
   ]
  },
  {
   "cell_type": "code",
   "execution_count": 47,
   "metadata": {},
   "outputs": [
    {
     "data": {
      "text/html": [
       "<div>\n",
       "<style scoped>\n",
       "    .dataframe tbody tr th:only-of-type {\n",
       "        vertical-align: middle;\n",
       "    }\n",
       "\n",
       "    .dataframe tbody tr th {\n",
       "        vertical-align: top;\n",
       "    }\n",
       "\n",
       "    .dataframe thead th {\n",
       "        text-align: right;\n",
       "    }\n",
       "</style>\n",
       "<table border=\"1\" class=\"dataframe\">\n",
       "  <thead>\n",
       "    <tr style=\"text-align: right;\">\n",
       "      <th></th>\n",
       "      <th>tconst</th>\n",
       "      <th>movie_title</th>\n",
       "      <th>genres</th>\n",
       "    </tr>\n",
       "  </thead>\n",
       "  <tbody>\n",
       "    <tr>\n",
       "      <th>0</th>\n",
       "      <td>tt3844362</td>\n",
       "      <td>The Overnight</td>\n",
       "      <td>Comedy,Mystery</td>\n",
       "    </tr>\n",
       "    <tr>\n",
       "      <th>1</th>\n",
       "      <td>tt0359950</td>\n",
       "      <td>The Secret Life of Walter Mitty</td>\n",
       "      <td>Adventure,Comedy,Drama</td>\n",
       "    </tr>\n",
       "    <tr>\n",
       "      <th>2</th>\n",
       "      <td>tt0365907</td>\n",
       "      <td>A Walk Among the Tombstones</td>\n",
       "      <td>Action,Crime,Drama</td>\n",
       "    </tr>\n",
       "    <tr>\n",
       "      <th>3</th>\n",
       "      <td>tt0369610</td>\n",
       "      <td>Jurassic World</td>\n",
       "      <td>Action,Adventure,Sci-Fi</td>\n",
       "    </tr>\n",
       "    <tr>\n",
       "      <th>4</th>\n",
       "      <td>tt0398286</td>\n",
       "      <td>Tangled</td>\n",
       "      <td>Adventure,Animation,Comedy</td>\n",
       "    </tr>\n",
       "  </tbody>\n",
       "</table>\n",
       "</div>"
      ],
      "text/plain": [
       "      tconst                      movie_title                      genres\n",
       "0  tt3844362                    The Overnight              Comedy,Mystery\n",
       "1  tt0359950  The Secret Life of Walter Mitty      Adventure,Comedy,Drama\n",
       "2  tt0365907      A Walk Among the Tombstones          Action,Crime,Drama\n",
       "3  tt0369610                   Jurassic World     Action,Adventure,Sci-Fi\n",
       "4  tt0398286                          Tangled  Adventure,Animation,Comedy"
      ]
     },
     "execution_count": 47,
     "metadata": {},
     "output_type": "execute_result"
    }
   ],
   "source": [
    "# Preview \n",
    "genre_df.head()"
   ]
  },
  {
   "cell_type": "markdown",
   "metadata": {},
   "source": [
    "#### Note:\n",
    "* Because the genres are wrote in long strings, we need to separate them for better analysis."
   ]
  },
  {
   "cell_type": "code",
   "execution_count": 48,
   "metadata": {},
   "outputs": [
    {
     "name": "stderr",
     "output_type": "stream",
     "text": [
      "/opt/anaconda3/envs/learn-env/lib/python3.6/site-packages/ipykernel_launcher.py:2: SettingWithCopyWarning: \n",
      "A value is trying to be set on a copy of a slice from a DataFrame.\n",
      "Try using .loc[row_indexer,col_indexer] = value instead\n",
      "\n",
      "See the caveats in the documentation: http://pandas.pydata.org/pandas-docs/stable/user_guide/indexing.html#returning-a-view-versus-a-copy\n",
      "  \n"
     ]
    }
   ],
   "source": [
    "# Split the genre str in genres column\n",
    "genre_df['genres'] = genre_df['genres'].str.split(',')"
   ]
  },
  {
   "cell_type": "code",
   "execution_count": 49,
   "metadata": {},
   "outputs": [
    {
     "data": {
      "text/html": [
       "<div>\n",
       "<style scoped>\n",
       "    .dataframe tbody tr th:only-of-type {\n",
       "        vertical-align: middle;\n",
       "    }\n",
       "\n",
       "    .dataframe tbody tr th {\n",
       "        vertical-align: top;\n",
       "    }\n",
       "\n",
       "    .dataframe thead th {\n",
       "        text-align: right;\n",
       "    }\n",
       "</style>\n",
       "<table border=\"1\" class=\"dataframe\">\n",
       "  <thead>\n",
       "    <tr style=\"text-align: right;\">\n",
       "      <th></th>\n",
       "      <th>tconst</th>\n",
       "      <th>movie_title</th>\n",
       "      <th>genres</th>\n",
       "    </tr>\n",
       "  </thead>\n",
       "  <tbody>\n",
       "    <tr>\n",
       "      <th>0</th>\n",
       "      <td>tt3844362</td>\n",
       "      <td>The Overnight</td>\n",
       "      <td>[Comedy, Mystery]</td>\n",
       "    </tr>\n",
       "    <tr>\n",
       "      <th>1</th>\n",
       "      <td>tt0359950</td>\n",
       "      <td>The Secret Life of Walter Mitty</td>\n",
       "      <td>[Adventure, Comedy, Drama]</td>\n",
       "    </tr>\n",
       "    <tr>\n",
       "      <th>2</th>\n",
       "      <td>tt0365907</td>\n",
       "      <td>A Walk Among the Tombstones</td>\n",
       "      <td>[Action, Crime, Drama]</td>\n",
       "    </tr>\n",
       "    <tr>\n",
       "      <th>3</th>\n",
       "      <td>tt0369610</td>\n",
       "      <td>Jurassic World</td>\n",
       "      <td>[Action, Adventure, Sci-Fi]</td>\n",
       "    </tr>\n",
       "    <tr>\n",
       "      <th>4</th>\n",
       "      <td>tt0398286</td>\n",
       "      <td>Tangled</td>\n",
       "      <td>[Adventure, Animation, Comedy]</td>\n",
       "    </tr>\n",
       "  </tbody>\n",
       "</table>\n",
       "</div>"
      ],
      "text/plain": [
       "      tconst                      movie_title                          genres\n",
       "0  tt3844362                    The Overnight               [Comedy, Mystery]\n",
       "1  tt0359950  The Secret Life of Walter Mitty      [Adventure, Comedy, Drama]\n",
       "2  tt0365907      A Walk Among the Tombstones          [Action, Crime, Drama]\n",
       "3  tt0369610                   Jurassic World     [Action, Adventure, Sci-Fi]\n",
       "4  tt0398286                          Tangled  [Adventure, Animation, Comedy]"
      ]
     },
     "execution_count": 49,
     "metadata": {},
     "output_type": "execute_result"
    }
   ],
   "source": [
    "# Check\n",
    "genre_df.head()"
   ]
  },
  {
   "cell_type": "code",
   "execution_count": 50,
   "metadata": {},
   "outputs": [],
   "source": [
    "# Use explode function to transform each element of a list-like to a row, replicating index values.\n",
    "genre_df = genre_df.explode('genres')"
   ]
  },
  {
   "cell_type": "code",
   "execution_count": 51,
   "metadata": {},
   "outputs": [
    {
     "data": {
      "text/html": [
       "<div>\n",
       "<style scoped>\n",
       "    .dataframe tbody tr th:only-of-type {\n",
       "        vertical-align: middle;\n",
       "    }\n",
       "\n",
       "    .dataframe tbody tr th {\n",
       "        vertical-align: top;\n",
       "    }\n",
       "\n",
       "    .dataframe thead th {\n",
       "        text-align: right;\n",
       "    }\n",
       "</style>\n",
       "<table border=\"1\" class=\"dataframe\">\n",
       "  <thead>\n",
       "    <tr style=\"text-align: right;\">\n",
       "      <th></th>\n",
       "      <th>tconst</th>\n",
       "      <th>movie_title</th>\n",
       "      <th>genres</th>\n",
       "    </tr>\n",
       "  </thead>\n",
       "  <tbody>\n",
       "    <tr>\n",
       "      <th>0</th>\n",
       "      <td>tt3844362</td>\n",
       "      <td>The Overnight</td>\n",
       "      <td>Comedy</td>\n",
       "    </tr>\n",
       "    <tr>\n",
       "      <th>0</th>\n",
       "      <td>tt3844362</td>\n",
       "      <td>The Overnight</td>\n",
       "      <td>Mystery</td>\n",
       "    </tr>\n",
       "    <tr>\n",
       "      <th>1</th>\n",
       "      <td>tt0359950</td>\n",
       "      <td>The Secret Life of Walter Mitty</td>\n",
       "      <td>Adventure</td>\n",
       "    </tr>\n",
       "    <tr>\n",
       "      <th>1</th>\n",
       "      <td>tt0359950</td>\n",
       "      <td>The Secret Life of Walter Mitty</td>\n",
       "      <td>Comedy</td>\n",
       "    </tr>\n",
       "    <tr>\n",
       "      <th>1</th>\n",
       "      <td>tt0359950</td>\n",
       "      <td>The Secret Life of Walter Mitty</td>\n",
       "      <td>Drama</td>\n",
       "    </tr>\n",
       "    <tr>\n",
       "      <th>2</th>\n",
       "      <td>tt0365907</td>\n",
       "      <td>A Walk Among the Tombstones</td>\n",
       "      <td>Action</td>\n",
       "    </tr>\n",
       "    <tr>\n",
       "      <th>2</th>\n",
       "      <td>tt0365907</td>\n",
       "      <td>A Walk Among the Tombstones</td>\n",
       "      <td>Crime</td>\n",
       "    </tr>\n",
       "    <tr>\n",
       "      <th>2</th>\n",
       "      <td>tt0365907</td>\n",
       "      <td>A Walk Among the Tombstones</td>\n",
       "      <td>Drama</td>\n",
       "    </tr>\n",
       "    <tr>\n",
       "      <th>3</th>\n",
       "      <td>tt0369610</td>\n",
       "      <td>Jurassic World</td>\n",
       "      <td>Action</td>\n",
       "    </tr>\n",
       "    <tr>\n",
       "      <th>3</th>\n",
       "      <td>tt0369610</td>\n",
       "      <td>Jurassic World</td>\n",
       "      <td>Adventure</td>\n",
       "    </tr>\n",
       "  </tbody>\n",
       "</table>\n",
       "</div>"
      ],
      "text/plain": [
       "      tconst                      movie_title     genres\n",
       "0  tt3844362                    The Overnight     Comedy\n",
       "0  tt3844362                    The Overnight    Mystery\n",
       "1  tt0359950  The Secret Life of Walter Mitty  Adventure\n",
       "1  tt0359950  The Secret Life of Walter Mitty     Comedy\n",
       "1  tt0359950  The Secret Life of Walter Mitty      Drama\n",
       "2  tt0365907      A Walk Among the Tombstones     Action\n",
       "2  tt0365907      A Walk Among the Tombstones      Crime\n",
       "2  tt0365907      A Walk Among the Tombstones      Drama\n",
       "3  tt0369610                   Jurassic World     Action\n",
       "3  tt0369610                   Jurassic World  Adventure"
      ]
     },
     "execution_count": 51,
     "metadata": {},
     "output_type": "execute_result"
    }
   ],
   "source": [
    "# Preview\n",
    "genre_df.head(10)"
   ]
  },
  {
   "cell_type": "code",
   "execution_count": 52,
   "metadata": {},
   "outputs": [
    {
     "data": {
      "text/plain": [
       "21"
      ]
     },
     "execution_count": 52,
     "metadata": {},
     "output_type": "execute_result"
    }
   ],
   "source": [
    "# Find the number of unique genres\n",
    "genre_df['genres'].nunique()"
   ]
  },
  {
   "cell_type": "code",
   "execution_count": 53,
   "metadata": {},
   "outputs": [],
   "source": [
    "# Drop the NaN rows in genres column\n",
    "genre_df_clean = genre_df.dropna(subset=['genres'], axis=0)"
   ]
  },
  {
   "cell_type": "code",
   "execution_count": 54,
   "metadata": {},
   "outputs": [
    {
     "data": {
      "text/plain": [
       "Drama          16.469985\n",
       "Comedy         14.571575\n",
       "Action         11.749615\n",
       "Adventure      11.133915\n",
       "Thriller        6.824012\n",
       "Romance         5.233453\n",
       "Crime           4.925603\n",
       "Horror          4.515136\n",
       "Sci-Fi          4.412519\n",
       "Mystery         3.848127\n",
       "Animation       3.591585\n",
       "Biography       3.181119\n",
       "Fantasy         3.129810\n",
       "Family          2.308876\n",
       "Music           1.282709\n",
       "History         0.923551\n",
       "Sport           0.667009\n",
       "Documentary     0.667009\n",
       "War             0.307850\n",
       "Musical         0.153925\n",
       "Western         0.102617\n",
       "Name: genres, dtype: float64"
      ]
     },
     "execution_count": 54,
     "metadata": {},
     "output_type": "execute_result"
    }
   ],
   "source": [
    "# Find the percentage of each genre\n",
    "genre_df_clean['genres'].value_counts(normalize=True) * 100"
   ]
  },
  {
   "cell_type": "code",
   "execution_count": 55,
   "metadata": {},
   "outputs": [
    {
     "data": {
      "image/png": "[encoded data removed]",
      "text/plain": [
       "<Figure size 900x864 with 1 Axes>"
      ]
     },
     "metadata": {
      "needs_background": "light"
     },
     "output_type": "display_data"
    }
   ],
   "source": [
    "# Plot the unique genre and apprearance\n",
    "ax = genre_df.groupby(['genres'])['genres'].count().sort_values().plot(kind='barh', figsize=(12.5,12),\n",
    "                                                                      color=sns.color_palette(\"husl\",30))\n",
    "plt.xlabel('Count')\n",
    "plt.xticks(fontsize=12)\n",
    "plt.ylabel('Genre')\n",
    "plt.yticks(fontsize=12)\n",
    "plt.title('Distribution of Successful Moives by Genre')\n",
    "\n",
    "# Label the percentage of each genres\n",
    "total = len(genre_df_clean['genres'])\n",
    "for p in ax.patches:\n",
    "        percentage = '{:.1f}%'.format(100 * p.get_width()/total) # find the percentage of each genre\n",
    "        x = p.get_x() + p.get_width() + 0.02 # x coordinate location\n",
    "        y = p.get_y() + p.get_height()/2 # y coordinate location\n",
    "        ax.annotate(percentage, (x, y), size=11) # mark the percentage on each genre\n",
    "        \n",
    "plt.savefig(\"./images/Genre Distribution.png\", dpi=300, bbox_inches='tight') # avoid saved image being cutoff\n",
    "plt.show()"
   ]
  },
  {
   "cell_type": "markdown",
   "metadata": {},
   "source": [
    "* The above plot shows the percentage of each genre among success movies.\n",
    "* The top 5 genres in successful movie dataframe are: Drama, Comedy, Action, Adventure, and Thriller.\n",
    "* Usually a successful movie has more than one genre.\n",
    "* Selecting top 5 genres could be a good choice."
   ]
  },
  {
   "cell_type": "markdown",
   "metadata": {},
   "source": [
    "### Additional Analysis for Q1\n",
    "* This additional analysis will show the average budget of each genres."
   ]
  },
  {
   "cell_type": "code",
   "execution_count": 56,
   "metadata": {},
   "outputs": [
    {
     "data": {
      "text/plain": [
       "Index(['tconst', 'movie_title', 'start_year', 'runtime_minutes', 'genres',\n",
       "       'directors', 'writers', 'release_date', 'production_budget',\n",
       "       'domestic_gross', 'worldwide_gross', 'year', 'success'],\n",
       "      dtype='object')"
      ]
     },
     "execution_count": 56,
     "metadata": {},
     "output_type": "execute_result"
    }
   ],
   "source": [
    "success_df.columns"
   ]
  },
  {
   "cell_type": "code",
   "execution_count": 57,
   "metadata": {},
   "outputs": [],
   "source": [
    "# Create a dateframe has genre and budget\n",
    "genre_budget_df = success_df[['tconst', 'movie_title', 'genres', 'production_budget']]"
   ]
  },
  {
   "cell_type": "code",
   "execution_count": 58,
   "metadata": {},
   "outputs": [
    {
     "data": {
      "text/html": [
       "<div>\n",
       "<style scoped>\n",
       "    .dataframe tbody tr th:only-of-type {\n",
       "        vertical-align: middle;\n",
       "    }\n",
       "\n",
       "    .dataframe tbody tr th {\n",
       "        vertical-align: top;\n",
       "    }\n",
       "\n",
       "    .dataframe thead th {\n",
       "        text-align: right;\n",
       "    }\n",
       "</style>\n",
       "<table border=\"1\" class=\"dataframe\">\n",
       "  <thead>\n",
       "    <tr style=\"text-align: right;\">\n",
       "      <th></th>\n",
       "      <th>tconst</th>\n",
       "      <th>movie_title</th>\n",
       "      <th>genres</th>\n",
       "      <th>production_budget</th>\n",
       "    </tr>\n",
       "  </thead>\n",
       "  <tbody>\n",
       "    <tr>\n",
       "      <th>0</th>\n",
       "      <td>tt3844362</td>\n",
       "      <td>The Overnight</td>\n",
       "      <td>Comedy,Mystery</td>\n",
       "      <td>200000.0</td>\n",
       "    </tr>\n",
       "    <tr>\n",
       "      <th>1</th>\n",
       "      <td>tt0359950</td>\n",
       "      <td>The Secret Life of Walter Mitty</td>\n",
       "      <td>Adventure,Comedy,Drama</td>\n",
       "      <td>91000000.0</td>\n",
       "    </tr>\n",
       "    <tr>\n",
       "      <th>2</th>\n",
       "      <td>tt0365907</td>\n",
       "      <td>A Walk Among the Tombstones</td>\n",
       "      <td>Action,Crime,Drama</td>\n",
       "      <td>28000000.0</td>\n",
       "    </tr>\n",
       "    <tr>\n",
       "      <th>3</th>\n",
       "      <td>tt0369610</td>\n",
       "      <td>Jurassic World</td>\n",
       "      <td>Action,Adventure,Sci-Fi</td>\n",
       "      <td>215000000.0</td>\n",
       "    </tr>\n",
       "    <tr>\n",
       "      <th>4</th>\n",
       "      <td>tt0398286</td>\n",
       "      <td>Tangled</td>\n",
       "      <td>Adventure,Animation,Comedy</td>\n",
       "      <td>260000000.0</td>\n",
       "    </tr>\n",
       "  </tbody>\n",
       "</table>\n",
       "</div>"
      ],
      "text/plain": [
       "      tconst                      movie_title                      genres  \\\n",
       "0  tt3844362                    The Overnight              Comedy,Mystery   \n",
       "1  tt0359950  The Secret Life of Walter Mitty      Adventure,Comedy,Drama   \n",
       "2  tt0365907      A Walk Among the Tombstones          Action,Crime,Drama   \n",
       "3  tt0369610                   Jurassic World     Action,Adventure,Sci-Fi   \n",
       "4  tt0398286                          Tangled  Adventure,Animation,Comedy   \n",
       "\n",
       "   production_budget  \n",
       "0           200000.0  \n",
       "1         91000000.0  \n",
       "2         28000000.0  \n",
       "3        215000000.0  \n",
       "4        260000000.0  "
      ]
     },
     "execution_count": 58,
     "metadata": {},
     "output_type": "execute_result"
    }
   ],
   "source": [
    "# Check\n",
    "genre_budget_df.head()"
   ]
  },
  {
   "cell_type": "code",
   "execution_count": 59,
   "metadata": {},
   "outputs": [],
   "source": [
    "# Drop those genres has NaN values\n",
    "genre_clean_budget = genre_budget_df.dropna(subset=['genres'], axis=0)"
   ]
  },
  {
   "cell_type": "code",
   "execution_count": 60,
   "metadata": {},
   "outputs": [],
   "source": [
    "# Split long string\n",
    "genre_clean_budget['genres'] = genre_clean_budget['genres'].str.split(',')"
   ]
  },
  {
   "cell_type": "code",
   "execution_count": 61,
   "metadata": {},
   "outputs": [],
   "source": [
    "# Use explode function to transform each element into rows\n",
    "genre_clean_budget = genre_clean_budget.explode('genres')"
   ]
  },
  {
   "cell_type": "code",
   "execution_count": 62,
   "metadata": {},
   "outputs": [
    {
     "data": {
      "text/html": [
       "<div>\n",
       "<style scoped>\n",
       "    .dataframe tbody tr th:only-of-type {\n",
       "        vertical-align: middle;\n",
       "    }\n",
       "\n",
       "    .dataframe tbody tr th {\n",
       "        vertical-align: top;\n",
       "    }\n",
       "\n",
       "    .dataframe thead th {\n",
       "        text-align: right;\n",
       "    }\n",
       "</style>\n",
       "<table border=\"1\" class=\"dataframe\">\n",
       "  <thead>\n",
       "    <tr style=\"text-align: right;\">\n",
       "      <th></th>\n",
       "      <th>tconst</th>\n",
       "      <th>movie_title</th>\n",
       "      <th>genres</th>\n",
       "      <th>production_budget</th>\n",
       "    </tr>\n",
       "  </thead>\n",
       "  <tbody>\n",
       "    <tr>\n",
       "      <th>0</th>\n",
       "      <td>tt3844362</td>\n",
       "      <td>The Overnight</td>\n",
       "      <td>Comedy</td>\n",
       "      <td>200000.0</td>\n",
       "    </tr>\n",
       "    <tr>\n",
       "      <th>0</th>\n",
       "      <td>tt3844362</td>\n",
       "      <td>The Overnight</td>\n",
       "      <td>Mystery</td>\n",
       "      <td>200000.0</td>\n",
       "    </tr>\n",
       "    <tr>\n",
       "      <th>1</th>\n",
       "      <td>tt0359950</td>\n",
       "      <td>The Secret Life of Walter Mitty</td>\n",
       "      <td>Adventure</td>\n",
       "      <td>91000000.0</td>\n",
       "    </tr>\n",
       "    <tr>\n",
       "      <th>1</th>\n",
       "      <td>tt0359950</td>\n",
       "      <td>The Secret Life of Walter Mitty</td>\n",
       "      <td>Comedy</td>\n",
       "      <td>91000000.0</td>\n",
       "    </tr>\n",
       "    <tr>\n",
       "      <th>1</th>\n",
       "      <td>tt0359950</td>\n",
       "      <td>The Secret Life of Walter Mitty</td>\n",
       "      <td>Drama</td>\n",
       "      <td>91000000.0</td>\n",
       "    </tr>\n",
       "  </tbody>\n",
       "</table>\n",
       "</div>"
      ],
      "text/plain": [
       "      tconst                      movie_title     genres  production_budget\n",
       "0  tt3844362                    The Overnight     Comedy           200000.0\n",
       "0  tt3844362                    The Overnight    Mystery           200000.0\n",
       "1  tt0359950  The Secret Life of Walter Mitty  Adventure         91000000.0\n",
       "1  tt0359950  The Secret Life of Walter Mitty     Comedy         91000000.0\n",
       "1  tt0359950  The Secret Life of Walter Mitty      Drama         91000000.0"
      ]
     },
     "execution_count": 62,
     "metadata": {},
     "output_type": "execute_result"
    }
   ],
   "source": [
    "# Check\n",
    "genre_clean_budget.head()"
   ]
  },
  {
   "cell_type": "code",
   "execution_count": 63,
   "metadata": {},
   "outputs": [],
   "source": [
    "# Create a Series with grouped genres with corresponding average production budget\n",
    "avg_budget = genre_clean_budget.groupby(['genres'])['production_budget'].mean().sort_values()"
   ]
  },
  {
   "cell_type": "code",
   "execution_count": 64,
   "metadata": {},
   "outputs": [
    {
     "data": {
      "text/plain": [
       "genres\n",
       "Documentary    1.679038e+07\n",
       "Horror         1.941818e+07\n",
       "Music          2.018800e+07\n",
       "Romance        2.356250e+07\n",
       "Mystery        2.454784e+07\n",
       "Sport          2.624615e+07\n",
       "Biography      2.854468e+07\n",
       "Drama          2.880509e+07\n",
       "History        4.077778e+07\n",
       "Crime          4.091844e+07\n",
       "Thriller       4.260066e+07\n",
       "Comedy         4.847077e+07\n",
       "War            5.180000e+07\n",
       "Western        6.750000e+07\n",
       "Musical        8.410000e+07\n",
       "Family         8.432222e+07\n",
       "Action         1.018153e+08\n",
       "Fantasy        1.020787e+08\n",
       "Animation      1.106286e+08\n",
       "Sci-Fi         1.128439e+08\n",
       "Adventure      1.217843e+08\n",
       "Name: production_budget, dtype: float64"
      ]
     },
     "execution_count": 64,
     "metadata": {},
     "output_type": "execute_result"
    }
   ],
   "source": [
    "avg_budget"
   ]
  },
  {
   "cell_type": "code",
   "execution_count": 65,
   "metadata": {},
   "outputs": [
    {
     "data": {
      "image/png": "[encoded data removed]",
      "text/plain": [
       "<Figure size 864x864 with 1 Axes>"
      ]
     },
     "metadata": {
      "needs_background": "light"
     },
     "output_type": "display_data"
    }
   ],
   "source": [
    "# Plot the genres and show the average budget\n",
    "ax = avg_budget.plot(kind='barh', figsize=(12,12), color=sns.color_palette(\"husl\",30))\n",
    "\n",
    "# Display the average budget to corresponding genre\n",
    "# Use scientific notation\n",
    "[ax.text(v, i, '${:.1e}'.format(v), size=12) for i, v in enumerate(avg_budget)];\n",
    "# for spine in plt.gca().spines.values(): # get current axes and label the values\n",
    "#     spine.set_visible(True)\n",
    "    \n",
    "plt.xlabel('Cost')\n",
    "plt.xticks(fontsize=12)\n",
    "plt.ylabel('Genre')\n",
    "plt.yticks(fontsize=12)\n",
    "plt.title('Average Budget by Genre')\n",
    "\n",
    "plt.savefig(\"./images/Average Budget by Genre.png\", dpi=300, bbox_inches='tight') # Avoid saved image being cutoff\n",
    "plt.show()"
   ]
  },
  {
   "cell_type": "markdown",
   "metadata": {},
   "source": [
    "* The above plot shows the average budget of each genre.\n",
    "* I would suggest to look at both the distribution of success movie genre and the average budget of each genre. \n",
    "* I recommend to select combination of desire genres based on how much budget you have to make successful movies."
   ]
  },
  {
   "cell_type": "markdown",
   "metadata": {},
   "source": [
    "###### Hum\n",
    "* This part was updated (after the project review) to get a better visulization for combination of genres and average budget of each genre.\n",
    "* Subplots has a better visualization than multiple horizontal barh plots in one figure. If put in one figure, the barhs share the same x-axis. Numbers too large or too small can not show clearly on the figure."
   ]
  },
  {
   "cell_type": "code",
   "execution_count": 66,
   "metadata": {},
   "outputs": [
    {
     "data": {
      "text/html": [
       "<div>\n",
       "<style scoped>\n",
       "    .dataframe tbody tr th:only-of-type {\n",
       "        vertical-align: middle;\n",
       "    }\n",
       "\n",
       "    .dataframe tbody tr th {\n",
       "        vertical-align: top;\n",
       "    }\n",
       "\n",
       "    .dataframe thead th {\n",
       "        text-align: right;\n",
       "    }\n",
       "</style>\n",
       "<table border=\"1\" class=\"dataframe\">\n",
       "  <thead>\n",
       "    <tr style=\"text-align: right;\">\n",
       "      <th></th>\n",
       "      <th>count</th>\n",
       "      <th>mean</th>\n",
       "    </tr>\n",
       "    <tr>\n",
       "      <th>genres</th>\n",
       "      <th></th>\n",
       "      <th></th>\n",
       "    </tr>\n",
       "  </thead>\n",
       "  <tbody>\n",
       "    <tr>\n",
       "      <th>Western</th>\n",
       "      <td>2</td>\n",
       "      <td>6.750000e+07</td>\n",
       "    </tr>\n",
       "    <tr>\n",
       "      <th>Musical</th>\n",
       "      <td>3</td>\n",
       "      <td>8.410000e+07</td>\n",
       "    </tr>\n",
       "    <tr>\n",
       "      <th>War</th>\n",
       "      <td>6</td>\n",
       "      <td>5.180000e+07</td>\n",
       "    </tr>\n",
       "    <tr>\n",
       "      <th>Sport</th>\n",
       "      <td>13</td>\n",
       "      <td>2.624615e+07</td>\n",
       "    </tr>\n",
       "    <tr>\n",
       "      <th>Documentary</th>\n",
       "      <td>13</td>\n",
       "      <td>1.679038e+07</td>\n",
       "    </tr>\n",
       "    <tr>\n",
       "      <th>History</th>\n",
       "      <td>18</td>\n",
       "      <td>4.077778e+07</td>\n",
       "    </tr>\n",
       "    <tr>\n",
       "      <th>Music</th>\n",
       "      <td>25</td>\n",
       "      <td>2.018800e+07</td>\n",
       "    </tr>\n",
       "    <tr>\n",
       "      <th>Family</th>\n",
       "      <td>45</td>\n",
       "      <td>8.432222e+07</td>\n",
       "    </tr>\n",
       "    <tr>\n",
       "      <th>Fantasy</th>\n",
       "      <td>61</td>\n",
       "      <td>1.020787e+08</td>\n",
       "    </tr>\n",
       "    <tr>\n",
       "      <th>Biography</th>\n",
       "      <td>62</td>\n",
       "      <td>2.854468e+07</td>\n",
       "    </tr>\n",
       "    <tr>\n",
       "      <th>Animation</th>\n",
       "      <td>70</td>\n",
       "      <td>1.106286e+08</td>\n",
       "    </tr>\n",
       "    <tr>\n",
       "      <th>Mystery</th>\n",
       "      <td>75</td>\n",
       "      <td>2.454784e+07</td>\n",
       "    </tr>\n",
       "    <tr>\n",
       "      <th>Sci-Fi</th>\n",
       "      <td>86</td>\n",
       "      <td>1.128439e+08</td>\n",
       "    </tr>\n",
       "    <tr>\n",
       "      <th>Horror</th>\n",
       "      <td>88</td>\n",
       "      <td>1.941818e+07</td>\n",
       "    </tr>\n",
       "    <tr>\n",
       "      <th>Crime</th>\n",
       "      <td>96</td>\n",
       "      <td>4.091844e+07</td>\n",
       "    </tr>\n",
       "    <tr>\n",
       "      <th>Romance</th>\n",
       "      <td>102</td>\n",
       "      <td>2.356250e+07</td>\n",
       "    </tr>\n",
       "    <tr>\n",
       "      <th>Thriller</th>\n",
       "      <td>133</td>\n",
       "      <td>4.260066e+07</td>\n",
       "    </tr>\n",
       "    <tr>\n",
       "      <th>Adventure</th>\n",
       "      <td>217</td>\n",
       "      <td>1.217843e+08</td>\n",
       "    </tr>\n",
       "    <tr>\n",
       "      <th>Action</th>\n",
       "      <td>229</td>\n",
       "      <td>1.018153e+08</td>\n",
       "    </tr>\n",
       "    <tr>\n",
       "      <th>Comedy</th>\n",
       "      <td>284</td>\n",
       "      <td>4.847077e+07</td>\n",
       "    </tr>\n",
       "    <tr>\n",
       "      <th>Drama</th>\n",
       "      <td>321</td>\n",
       "      <td>2.880509e+07</td>\n",
       "    </tr>\n",
       "  </tbody>\n",
       "</table>\n",
       "</div>"
      ],
      "text/plain": [
       "             count          mean\n",
       "genres                          \n",
       "Western          2  6.750000e+07\n",
       "Musical          3  8.410000e+07\n",
       "War              6  5.180000e+07\n",
       "Sport           13  2.624615e+07\n",
       "Documentary     13  1.679038e+07\n",
       "History         18  4.077778e+07\n",
       "Music           25  2.018800e+07\n",
       "Family          45  8.432222e+07\n",
       "Fantasy         61  1.020787e+08\n",
       "Biography       62  2.854468e+07\n",
       "Animation       70  1.106286e+08\n",
       "Mystery         75  2.454784e+07\n",
       "Sci-Fi          86  1.128439e+08\n",
       "Horror          88  1.941818e+07\n",
       "Crime           96  4.091844e+07\n",
       "Romance        102  2.356250e+07\n",
       "Thriller       133  4.260066e+07\n",
       "Adventure      217  1.217843e+08\n",
       "Action         229  1.018153e+08\n",
       "Comedy         284  4.847077e+07\n",
       "Drama          321  2.880509e+07"
      ]
     },
     "execution_count": 66,
     "metadata": {},
     "output_type": "execute_result"
    }
   ],
   "source": [
    "# Want to sort by genre counts\n",
    "vvv = genre_clean_budget.groupby(['genres'])['production_budget'].agg(['count', 'mean']).sort_values('count')\n",
    "vvv"
   ]
  },
  {
   "cell_type": "code",
   "execution_count": 67,
   "metadata": {},
   "outputs": [
    {
     "data": {
      "text/plain": [
       "['Western',\n",
       " 'Musical',\n",
       " 'War',\n",
       " 'Sport',\n",
       " 'Documentary',\n",
       " 'History',\n",
       " 'Music',\n",
       " 'Family',\n",
       " 'Fantasy',\n",
       " 'Biography',\n",
       " 'Animation',\n",
       " 'Mystery',\n",
       " 'Sci-Fi',\n",
       " 'Horror',\n",
       " 'Crime',\n",
       " 'Romance',\n",
       " 'Thriller',\n",
       " 'Adventure',\n",
       " 'Action',\n",
       " 'Comedy',\n",
       " 'Drama']"
      ]
     },
     "execution_count": 67,
     "metadata": {},
     "output_type": "execute_result"
    }
   ],
   "source": [
    "# genre list\n",
    "gl = vvv.index.tolist()\n",
    "gl"
   ]
  },
  {
   "cell_type": "code",
   "execution_count": 68,
   "metadata": {},
   "outputs": [
    {
     "data": {
      "text/plain": [
       "[2,\n",
       " 3,\n",
       " 6,\n",
       " 13,\n",
       " 13,\n",
       " 18,\n",
       " 25,\n",
       " 45,\n",
       " 61,\n",
       " 62,\n",
       " 70,\n",
       " 75,\n",
       " 86,\n",
       " 88,\n",
       " 96,\n",
       " 102,\n",
       " 133,\n",
       " 217,\n",
       " 229,\n",
       " 284,\n",
       " 321]"
      ]
     },
     "execution_count": 68,
     "metadata": {},
     "output_type": "execute_result"
    }
   ],
   "source": [
    "# count list\n",
    "count = vvv['count'].tolist()\n",
    "count"
   ]
  },
  {
   "cell_type": "code",
   "execution_count": 69,
   "metadata": {},
   "outputs": [
    {
     "data": {
      "text/plain": [
       "[67500000.0,\n",
       " 84100000.0,\n",
       " 51800000.0,\n",
       " 26246153.846153848,\n",
       " 16790384.615384616,\n",
       " 40777777.777777776,\n",
       " 20188000.0,\n",
       " 84322222.22222222,\n",
       " 102078688.52459016,\n",
       " 28544677.419354837,\n",
       " 110628571.42857143,\n",
       " 24547835.333333332,\n",
       " 112843895.34883721,\n",
       " 19418181.818181816,\n",
       " 40918437.5,\n",
       " 23562500.0,\n",
       " 42600659.022556394,\n",
       " 121784331.79723503,\n",
       " 101815283.84279476,\n",
       " 48470774.64788733,\n",
       " 28805086.13707165]"
      ]
     },
     "execution_count": 69,
     "metadata": {},
     "output_type": "execute_result"
    }
   ],
   "source": [
    "# budget list\n",
    "budget = vvv['mean'].tolist()\n",
    "budget"
   ]
  },
  {
   "cell_type": "code",
   "execution_count": 70,
   "metadata": {},
   "outputs": [
    {
     "data": {
      "text/plain": [
       "<matplotlib.legend.Legend at 0x7ffb8b6ff438>"
      ]
     },
     "execution_count": 70,
     "metadata": {},
     "output_type": "execute_result"
    },
    {
     "data": {
      "image/png": "[encoded data removed]",
      "text/plain": [
       "<Figure size 1008x1008 with 2 Axes>"
      ]
     },
     "metadata": {
      "needs_background": "light"
     },
     "output_type": "display_data"
    }
   ],
   "source": [
    "# Use subplot for better visualization\n",
    "plt.figure(figsize = (14,14))\n",
    "\n",
    "# Genre distribution by count\n",
    "ax1 = plt.subplot(121)\n",
    "ax1.barh(gl, count, label='count')\n",
    "ax1.set_xlabel('Counts')\n",
    "ax1.set_title('Movie Genre Count')\n",
    "ax1.legend(loc=4)\n",
    "\n",
    "# Average budget of each genre\n",
    "ax2 = plt.subplot(122)\n",
    "ax2.barh(gl, budget, label='budget')\n",
    "ax2.set_xlabel('Average')\n",
    "ax2.set_title('Average Budget by Genre')\n",
    "ax2.legend(loc=4)"
   ]
  },
  {
   "cell_type": "markdown",
   "metadata": {},
   "source": [
    "## Question 2:\n",
    "* Which directors and writers should be hired among those successful movies?"
   ]
  },
  {
   "cell_type": "markdown",
   "metadata": {},
   "source": [
    "### Data Name:  imdb.name.basics"
   ]
  },
  {
   "cell_type": "code",
   "execution_count": 71,
   "metadata": {},
   "outputs": [
    {
     "data": {
      "text/plain": [
       "(606648, 6)"
      ]
     },
     "metadata": {},
     "output_type": "display_data"
    },
    {
     "data": {
      "text/html": [
       "<div>\n",
       "<style scoped>\n",
       "    .dataframe tbody tr th:only-of-type {\n",
       "        vertical-align: middle;\n",
       "    }\n",
       "\n",
       "    .dataframe tbody tr th {\n",
       "        vertical-align: top;\n",
       "    }\n",
       "\n",
       "    .dataframe thead th {\n",
       "        text-align: right;\n",
       "    }\n",
       "</style>\n",
       "<table border=\"1\" class=\"dataframe\">\n",
       "  <thead>\n",
       "    <tr style=\"text-align: right;\">\n",
       "      <th></th>\n",
       "      <th>nconst</th>\n",
       "      <th>primary_name</th>\n",
       "      <th>birth_year</th>\n",
       "      <th>death_year</th>\n",
       "      <th>primary_profession</th>\n",
       "      <th>known_for_titles</th>\n",
       "    </tr>\n",
       "  </thead>\n",
       "  <tbody>\n",
       "    <tr>\n",
       "      <th>0</th>\n",
       "      <td>nm0061671</td>\n",
       "      <td>Mary Ellen Bauder</td>\n",
       "      <td>NaN</td>\n",
       "      <td>NaN</td>\n",
       "      <td>miscellaneous,production_manager,producer</td>\n",
       "      <td>tt0837562,tt2398241,tt0844471,tt0118553</td>\n",
       "    </tr>\n",
       "    <tr>\n",
       "      <th>1</th>\n",
       "      <td>nm0061865</td>\n",
       "      <td>Joseph Bauer</td>\n",
       "      <td>NaN</td>\n",
       "      <td>NaN</td>\n",
       "      <td>composer,music_department,sound_department</td>\n",
       "      <td>tt0896534,tt6791238,tt0287072,tt1682940</td>\n",
       "    </tr>\n",
       "    <tr>\n",
       "      <th>2</th>\n",
       "      <td>nm0062070</td>\n",
       "      <td>Bruce Baum</td>\n",
       "      <td>NaN</td>\n",
       "      <td>NaN</td>\n",
       "      <td>miscellaneous,actor,writer</td>\n",
       "      <td>tt1470654,tt0363631,tt0104030,tt0102898</td>\n",
       "    </tr>\n",
       "    <tr>\n",
       "      <th>3</th>\n",
       "      <td>nm0062195</td>\n",
       "      <td>Axel Baumann</td>\n",
       "      <td>NaN</td>\n",
       "      <td>NaN</td>\n",
       "      <td>camera_department,cinematographer,art_department</td>\n",
       "      <td>tt0114371,tt2004304,tt1618448,tt1224387</td>\n",
       "    </tr>\n",
       "    <tr>\n",
       "      <th>4</th>\n",
       "      <td>nm0062798</td>\n",
       "      <td>Pete Baxter</td>\n",
       "      <td>NaN</td>\n",
       "      <td>NaN</td>\n",
       "      <td>production_designer,art_department,set_decorator</td>\n",
       "      <td>tt0452644,tt0452692,tt3458030,tt2178256</td>\n",
       "    </tr>\n",
       "  </tbody>\n",
       "</table>\n",
       "</div>"
      ],
      "text/plain": [
       "      nconst       primary_name  birth_year  death_year  \\\n",
       "0  nm0061671  Mary Ellen Bauder         NaN         NaN   \n",
       "1  nm0061865       Joseph Bauer         NaN         NaN   \n",
       "2  nm0062070         Bruce Baum         NaN         NaN   \n",
       "3  nm0062195       Axel Baumann         NaN         NaN   \n",
       "4  nm0062798        Pete Baxter         NaN         NaN   \n",
       "\n",
       "                                 primary_profession  \\\n",
       "0         miscellaneous,production_manager,producer   \n",
       "1        composer,music_department,sound_department   \n",
       "2                        miscellaneous,actor,writer   \n",
       "3  camera_department,cinematographer,art_department   \n",
       "4  production_designer,art_department,set_decorator   \n",
       "\n",
       "                          known_for_titles  \n",
       "0  tt0837562,tt2398241,tt0844471,tt0118553  \n",
       "1  tt0896534,tt6791238,tt0287072,tt1682940  \n",
       "2  tt1470654,tt0363631,tt0104030,tt0102898  \n",
       "3  tt0114371,tt2004304,tt1618448,tt1224387  \n",
       "4  tt0452644,tt0452692,tt3458030,tt2178256  "
      ]
     },
     "metadata": {},
     "output_type": "display_data"
    },
    {
     "name": "stdout",
     "output_type": "stream",
     "text": [
      "<class 'pandas.core.frame.DataFrame'>\n",
      "RangeIndex: 606648 entries, 0 to 606647\n",
      "Data columns (total 6 columns):\n",
      "nconst                606648 non-null object\n",
      "primary_name          606648 non-null object\n",
      "birth_year            82736 non-null float64\n",
      "death_year            6783 non-null float64\n",
      "primary_profession    555308 non-null object\n",
      "known_for_titles      576444 non-null object\n",
      "dtypes: float64(2), object(4)\n",
      "memory usage: 27.8+ MB\n"
     ]
    },
    {
     "data": {
      "text/plain": [
       "None"
      ]
     },
     "metadata": {},
     "output_type": "display_data"
    }
   ],
   "source": [
    "df8 = pd.read_csv('zippedData/imdb.name.basics.csv.gz', compression='gzip')\n",
    "display(df8.shape)\n",
    "display(df8.head())\n",
    "display(df8.info())"
   ]
  },
  {
   "cell_type": "code",
   "execution_count": 72,
   "metadata": {},
   "outputs": [
    {
     "data": {
      "text/plain": [
       "False"
      ]
     },
     "execution_count": 72,
     "metadata": {},
     "output_type": "execute_result"
    }
   ],
   "source": [
    "# Check duplicates\n",
    "df8['nconst'].duplicated().any()"
   ]
  },
  {
   "cell_type": "markdown",
   "metadata": {},
   "source": [
    "### Data Cleaning"
   ]
  },
  {
   "cell_type": "code",
   "execution_count": 73,
   "metadata": {},
   "outputs": [],
   "source": [
    "# Drop unnecessary columns\n",
    "df8.drop(columns=['birth_year', 'death_year', 'primary_profession', 'known_for_titles'], inplace=True)"
   ]
  },
  {
   "cell_type": "code",
   "execution_count": 74,
   "metadata": {},
   "outputs": [
    {
     "data": {
      "text/plain": [
       "Index(['nconst', 'primary_name'], dtype='object')"
      ]
     },
     "execution_count": 74,
     "metadata": {},
     "output_type": "execute_result"
    }
   ],
   "source": [
    "# Check\n",
    "df8.columns"
   ]
  },
  {
   "cell_type": "code",
   "execution_count": 75,
   "metadata": {},
   "outputs": [
    {
     "data": {
      "text/plain": [
       "Index(['tconst', 'movie_title', 'start_year', 'runtime_minutes', 'genres',\n",
       "       'directors', 'writers', 'release_date', 'production_budget',\n",
       "       'domestic_gross', 'worldwide_gross', 'year', 'success'],\n",
       "      dtype='object')"
      ]
     },
     "execution_count": 75,
     "metadata": {},
     "output_type": "execute_result"
    }
   ],
   "source": [
    "success_df.columns"
   ]
  },
  {
   "cell_type": "markdown",
   "metadata": {},
   "source": [
    "### Find Top Directors"
   ]
  },
  {
   "cell_type": "code",
   "execution_count": 76,
   "metadata": {},
   "outputs": [],
   "source": [
    "# Create a director dataframe\n",
    "director_df = success_df[['tconst', 'movie_title', 'directors']]"
   ]
  },
  {
   "cell_type": "code",
   "execution_count": 77,
   "metadata": {},
   "outputs": [
    {
     "data": {
      "text/html": [
       "<div>\n",
       "<style scoped>\n",
       "    .dataframe tbody tr th:only-of-type {\n",
       "        vertical-align: middle;\n",
       "    }\n",
       "\n",
       "    .dataframe tbody tr th {\n",
       "        vertical-align: top;\n",
       "    }\n",
       "\n",
       "    .dataframe thead th {\n",
       "        text-align: right;\n",
       "    }\n",
       "</style>\n",
       "<table border=\"1\" class=\"dataframe\">\n",
       "  <thead>\n",
       "    <tr style=\"text-align: right;\">\n",
       "      <th></th>\n",
       "      <th>tconst</th>\n",
       "      <th>movie_title</th>\n",
       "      <th>directors</th>\n",
       "    </tr>\n",
       "  </thead>\n",
       "  <tbody>\n",
       "    <tr>\n",
       "      <th>0</th>\n",
       "      <td>tt3844362</td>\n",
       "      <td>The Overnight</td>\n",
       "      <td>nm2674307</td>\n",
       "    </tr>\n",
       "    <tr>\n",
       "      <th>1</th>\n",
       "      <td>tt0359950</td>\n",
       "      <td>The Secret Life of Walter Mitty</td>\n",
       "      <td>nm0001774</td>\n",
       "    </tr>\n",
       "    <tr>\n",
       "      <th>2</th>\n",
       "      <td>tt0365907</td>\n",
       "      <td>A Walk Among the Tombstones</td>\n",
       "      <td>nm0291082</td>\n",
       "    </tr>\n",
       "    <tr>\n",
       "      <th>3</th>\n",
       "      <td>tt0369610</td>\n",
       "      <td>Jurassic World</td>\n",
       "      <td>nm1119880</td>\n",
       "    </tr>\n",
       "    <tr>\n",
       "      <th>4</th>\n",
       "      <td>tt0398286</td>\n",
       "      <td>Tangled</td>\n",
       "      <td>nm1977355,nm0397174</td>\n",
       "    </tr>\n",
       "  </tbody>\n",
       "</table>\n",
       "</div>"
      ],
      "text/plain": [
       "      tconst                      movie_title            directors\n",
       "0  tt3844362                    The Overnight            nm2674307\n",
       "1  tt0359950  The Secret Life of Walter Mitty            nm0001774\n",
       "2  tt0365907      A Walk Among the Tombstones            nm0291082\n",
       "3  tt0369610                   Jurassic World            nm1119880\n",
       "4  tt0398286                          Tangled  nm1977355,nm0397174"
      ]
     },
     "execution_count": 77,
     "metadata": {},
     "output_type": "execute_result"
    }
   ],
   "source": [
    "director_df.head()"
   ]
  },
  {
   "cell_type": "markdown",
   "metadata": {},
   "source": [
    "#### Note:\n",
    "* Because the directors are wrote in long strings, we need to separate them for better analysis."
   ]
  },
  {
   "cell_type": "code",
   "execution_count": 78,
   "metadata": {},
   "outputs": [
    {
     "name": "stderr",
     "output_type": "stream",
     "text": [
      "/opt/anaconda3/envs/learn-env/lib/python3.6/site-packages/ipykernel_launcher.py:2: SettingWithCopyWarning: \n",
      "A value is trying to be set on a copy of a slice from a DataFrame.\n",
      "Try using .loc[row_indexer,col_indexer] = value instead\n",
      "\n",
      "See the caveats in the documentation: http://pandas.pydata.org/pandas-docs/stable/user_guide/indexing.html#returning-a-view-versus-a-copy\n",
      "  \n"
     ]
    }
   ],
   "source": [
    "# Split the str in directors column because some movies have more than one director\n",
    "director_df['directors'] = director_df['directors'].str.split(',')"
   ]
  },
  {
   "cell_type": "code",
   "execution_count": 79,
   "metadata": {},
   "outputs": [],
   "source": [
    "# Use explode function to tranform elements into rows\n",
    "director_df = director_df.explode('directors')"
   ]
  },
  {
   "cell_type": "code",
   "execution_count": 80,
   "metadata": {},
   "outputs": [
    {
     "data": {
      "text/html": [
       "<div>\n",
       "<style scoped>\n",
       "    .dataframe tbody tr th:only-of-type {\n",
       "        vertical-align: middle;\n",
       "    }\n",
       "\n",
       "    .dataframe tbody tr th {\n",
       "        vertical-align: top;\n",
       "    }\n",
       "\n",
       "    .dataframe thead th {\n",
       "        text-align: right;\n",
       "    }\n",
       "</style>\n",
       "<table border=\"1\" class=\"dataframe\">\n",
       "  <thead>\n",
       "    <tr style=\"text-align: right;\">\n",
       "      <th></th>\n",
       "      <th>tconst</th>\n",
       "      <th>movie_title</th>\n",
       "      <th>directors</th>\n",
       "    </tr>\n",
       "  </thead>\n",
       "  <tbody>\n",
       "    <tr>\n",
       "      <th>0</th>\n",
       "      <td>tt3844362</td>\n",
       "      <td>The Overnight</td>\n",
       "      <td>nm2674307</td>\n",
       "    </tr>\n",
       "    <tr>\n",
       "      <th>1</th>\n",
       "      <td>tt0359950</td>\n",
       "      <td>The Secret Life of Walter Mitty</td>\n",
       "      <td>nm0001774</td>\n",
       "    </tr>\n",
       "    <tr>\n",
       "      <th>2</th>\n",
       "      <td>tt0365907</td>\n",
       "      <td>A Walk Among the Tombstones</td>\n",
       "      <td>nm0291082</td>\n",
       "    </tr>\n",
       "    <tr>\n",
       "      <th>3</th>\n",
       "      <td>tt0369610</td>\n",
       "      <td>Jurassic World</td>\n",
       "      <td>nm1119880</td>\n",
       "    </tr>\n",
       "    <tr>\n",
       "      <th>4</th>\n",
       "      <td>tt0398286</td>\n",
       "      <td>Tangled</td>\n",
       "      <td>nm1977355</td>\n",
       "    </tr>\n",
       "    <tr>\n",
       "      <th>4</th>\n",
       "      <td>tt0398286</td>\n",
       "      <td>Tangled</td>\n",
       "      <td>nm0397174</td>\n",
       "    </tr>\n",
       "  </tbody>\n",
       "</table>\n",
       "</div>"
      ],
      "text/plain": [
       "      tconst                      movie_title  directors\n",
       "0  tt3844362                    The Overnight  nm2674307\n",
       "1  tt0359950  The Secret Life of Walter Mitty  nm0001774\n",
       "2  tt0365907      A Walk Among the Tombstones  nm0291082\n",
       "3  tt0369610                   Jurassic World  nm1119880\n",
       "4  tt0398286                          Tangled  nm1977355\n",
       "4  tt0398286                          Tangled  nm0397174"
      ]
     },
     "execution_count": 80,
     "metadata": {},
     "output_type": "execute_result"
    }
   ],
   "source": [
    "# Check\n",
    "director_df.head(6)"
   ]
  },
  {
   "cell_type": "markdown",
   "metadata": {},
   "source": [
    "### Data Merging"
   ]
  },
  {
   "cell_type": "code",
   "execution_count": 81,
   "metadata": {},
   "outputs": [],
   "source": [
    "# Merge with df8 to find the corresponding directors' names\n",
    "director_df = director_df.merge(df8,left_on='directors', right_on='nconst')"
   ]
  },
  {
   "cell_type": "code",
   "execution_count": 82,
   "metadata": {},
   "outputs": [
    {
     "data": {
      "text/html": [
       "<div>\n",
       "<style scoped>\n",
       "    .dataframe tbody tr th:only-of-type {\n",
       "        vertical-align: middle;\n",
       "    }\n",
       "\n",
       "    .dataframe tbody tr th {\n",
       "        vertical-align: top;\n",
       "    }\n",
       "\n",
       "    .dataframe thead th {\n",
       "        text-align: right;\n",
       "    }\n",
       "</style>\n",
       "<table border=\"1\" class=\"dataframe\">\n",
       "  <thead>\n",
       "    <tr style=\"text-align: right;\">\n",
       "      <th></th>\n",
       "      <th>tconst</th>\n",
       "      <th>movie_title</th>\n",
       "      <th>directors</th>\n",
       "      <th>nconst</th>\n",
       "      <th>primary_name</th>\n",
       "    </tr>\n",
       "  </thead>\n",
       "  <tbody>\n",
       "    <tr>\n",
       "      <th>0</th>\n",
       "      <td>tt3844362</td>\n",
       "      <td>The Overnight</td>\n",
       "      <td>nm2674307</td>\n",
       "      <td>nm2674307</td>\n",
       "      <td>Patrick Brice</td>\n",
       "    </tr>\n",
       "    <tr>\n",
       "      <th>1</th>\n",
       "      <td>tt0359950</td>\n",
       "      <td>The Secret Life of Walter Mitty</td>\n",
       "      <td>nm0001774</td>\n",
       "      <td>nm0001774</td>\n",
       "      <td>Ben Stiller</td>\n",
       "    </tr>\n",
       "    <tr>\n",
       "      <th>2</th>\n",
       "      <td>tt0365907</td>\n",
       "      <td>A Walk Among the Tombstones</td>\n",
       "      <td>nm0291082</td>\n",
       "      <td>nm0291082</td>\n",
       "      <td>Scott Frank</td>\n",
       "    </tr>\n",
       "    <tr>\n",
       "      <th>3</th>\n",
       "      <td>tt0369610</td>\n",
       "      <td>Jurassic World</td>\n",
       "      <td>nm1119880</td>\n",
       "      <td>nm1119880</td>\n",
       "      <td>Colin Trevorrow</td>\n",
       "    </tr>\n",
       "    <tr>\n",
       "      <th>4</th>\n",
       "      <td>tt1862079</td>\n",
       "      <td>Safety Not Guaranteed</td>\n",
       "      <td>nm1119880</td>\n",
       "      <td>nm1119880</td>\n",
       "      <td>Colin Trevorrow</td>\n",
       "    </tr>\n",
       "  </tbody>\n",
       "</table>\n",
       "</div>"
      ],
      "text/plain": [
       "      tconst                      movie_title  directors     nconst  \\\n",
       "0  tt3844362                    The Overnight  nm2674307  nm2674307   \n",
       "1  tt0359950  The Secret Life of Walter Mitty  nm0001774  nm0001774   \n",
       "2  tt0365907      A Walk Among the Tombstones  nm0291082  nm0291082   \n",
       "3  tt0369610                   Jurassic World  nm1119880  nm1119880   \n",
       "4  tt1862079            Safety Not Guaranteed  nm1119880  nm1119880   \n",
       "\n",
       "      primary_name  \n",
       "0    Patrick Brice  \n",
       "1      Ben Stiller  \n",
       "2      Scott Frank  \n",
       "3  Colin Trevorrow  \n",
       "4  Colin Trevorrow  "
      ]
     },
     "execution_count": 82,
     "metadata": {},
     "output_type": "execute_result"
    }
   ],
   "source": [
    "# Check\n",
    "director_df.head()"
   ]
  },
  {
   "cell_type": "code",
   "execution_count": 83,
   "metadata": {},
   "outputs": [],
   "source": [
    "# Change the primary_name column to name column\n",
    "director_df.rename(columns={'primary_name' : 'name'}, inplace=True)"
   ]
  },
  {
   "cell_type": "code",
   "execution_count": 84,
   "metadata": {},
   "outputs": [
    {
     "data": {
      "text/plain": [
       "Index(['tconst', 'movie_title', 'directors', 'nconst', 'name'], dtype='object')"
      ]
     },
     "execution_count": 84,
     "metadata": {},
     "output_type": "execute_result"
    }
   ],
   "source": [
    "director_df.columns"
   ]
  },
  {
   "cell_type": "code",
   "execution_count": 85,
   "metadata": {},
   "outputs": [
    {
     "data": {
      "text/plain": [
       "Tim Story           7\n",
       "Steven Spielberg    6\n",
       "Clint Eastwood      5\n",
       "Jon M. Chu          5\n",
       "Francis Lawrence    5\n",
       "                   ..\n",
       "Ari Aster           1\n",
       "Tommy Wirkola       1\n",
       "Gil Kenan           1\n",
       "Luc Besson          1\n",
       "Justin Lin          1\n",
       "Name: name, Length: 570, dtype: int64"
      ]
     },
     "execution_count": 85,
     "metadata": {},
     "output_type": "execute_result"
    }
   ],
   "source": [
    "# Preview the all the directors with descending order\n",
    "director_df['name'].value_counts()"
   ]
  },
  {
   "cell_type": "code",
   "execution_count": 86,
   "metadata": {},
   "outputs": [],
   "source": [
    "# Create a series with director name and number of success movies \n",
    "director_name = director_df['name'].value_counts()"
   ]
  },
  {
   "cell_type": "code",
   "execution_count": 87,
   "metadata": {},
   "outputs": [
    {
     "data": {
      "text/plain": [
       "6"
      ]
     },
     "execution_count": 87,
     "metadata": {},
     "output_type": "execute_result"
    }
   ],
   "source": [
    "# Check the # of directors who have more than 4 successful movies\n",
    "director_name[director_name>4].count()"
   ]
  },
  {
   "cell_type": "code",
   "execution_count": 88,
   "metadata": {},
   "outputs": [],
   "source": [
    "# Create a series with director name only\n",
    "director_list = director_df['name']"
   ]
  },
  {
   "cell_type": "code",
   "execution_count": 89,
   "metadata": {},
   "outputs": [],
   "source": [
    "# Sort value\n",
    "# Use the tail for better visualization with horizontal bar plot\n",
    "director_order = director_list.value_counts(ascending=True).tail(6)"
   ]
  },
  {
   "cell_type": "code",
   "execution_count": 90,
   "metadata": {},
   "outputs": [
    {
     "data": {
      "image/png": "[encoded data removed]",
      "text/plain": [
       "<Figure size 864x864 with 1 Axes>"
      ]
     },
     "metadata": {
      "needs_background": "light"
     },
     "output_type": "display_data"
    }
   ],
   "source": [
    "# Plot top directors with number of successful movies\n",
    "ax = director_order.plot(kind='barh', figsize=(12,12), color=sns.color_palette(\"husl\",8)) \n",
    "\n",
    "# Label top directors with corresponding number of successful movies\n",
    "[ax.text(v, i, '{:}'.format(v), size=12) for i, v in enumerate(director_order)];\n",
    "# for spine in plt.gca().spines.values():\n",
    "#     spine.set_visible(True)\n",
    "    \n",
    "plt.xlabel('Count')\n",
    "plt.xticks(fontsize=12)\n",
    "plt.ylabel(\"Directors' Name\")\n",
    "plt.yticks(fontsize=12)\n",
    "plt.title('Top Directors with Number of Success Moives')\n",
    "\n",
    "plt.savefig(\"./images/Top Directors.png\", dpi = 300, bbox_inches='tight') # Avoid saved image being cutoff\n",
    "plt.show()"
   ]
  },
  {
   "cell_type": "markdown",
   "metadata": {},
   "source": [
    "* The above plot shows the top directors who have more than 4 success movies.\n",
    "* The more successful movies they made, the more experience they have."
   ]
  },
  {
   "cell_type": "markdown",
   "metadata": {},
   "source": [
    "### Find Top Writers"
   ]
  },
  {
   "cell_type": "code",
   "execution_count": 91,
   "metadata": {},
   "outputs": [],
   "source": [
    "# Create a writer dataframe\n",
    "writer_df = success_df[['tconst', 'movie_title', 'writers']]"
   ]
  },
  {
   "cell_type": "code",
   "execution_count": 92,
   "metadata": {},
   "outputs": [
    {
     "data": {
      "text/html": [
       "<div>\n",
       "<style scoped>\n",
       "    .dataframe tbody tr th:only-of-type {\n",
       "        vertical-align: middle;\n",
       "    }\n",
       "\n",
       "    .dataframe tbody tr th {\n",
       "        vertical-align: top;\n",
       "    }\n",
       "\n",
       "    .dataframe thead th {\n",
       "        text-align: right;\n",
       "    }\n",
       "</style>\n",
       "<table border=\"1\" class=\"dataframe\">\n",
       "  <thead>\n",
       "    <tr style=\"text-align: right;\">\n",
       "      <th></th>\n",
       "      <th>tconst</th>\n",
       "      <th>movie_title</th>\n",
       "      <th>writers</th>\n",
       "    </tr>\n",
       "  </thead>\n",
       "  <tbody>\n",
       "    <tr>\n",
       "      <th>0</th>\n",
       "      <td>tt3844362</td>\n",
       "      <td>The Overnight</td>\n",
       "      <td>nm2674307</td>\n",
       "    </tr>\n",
       "    <tr>\n",
       "      <th>1</th>\n",
       "      <td>tt0359950</td>\n",
       "      <td>The Secret Life of Walter Mitty</td>\n",
       "      <td>nm0175726,nm0862122</td>\n",
       "    </tr>\n",
       "    <tr>\n",
       "      <th>2</th>\n",
       "      <td>tt0365907</td>\n",
       "      <td>A Walk Among the Tombstones</td>\n",
       "      <td>nm0088747,nm0291082</td>\n",
       "    </tr>\n",
       "    <tr>\n",
       "      <th>3</th>\n",
       "      <td>tt0369610</td>\n",
       "      <td>Jurassic World</td>\n",
       "      <td>nm0415425,nm0798646,nm1119880,nm2081046,nm0000341</td>\n",
       "    </tr>\n",
       "    <tr>\n",
       "      <th>4</th>\n",
       "      <td>tt0398286</td>\n",
       "      <td>Tangled</td>\n",
       "      <td>nm1557594,nm0342278,nm0342303</td>\n",
       "    </tr>\n",
       "  </tbody>\n",
       "</table>\n",
       "</div>"
      ],
      "text/plain": [
       "      tconst                      movie_title  \\\n",
       "0  tt3844362                    The Overnight   \n",
       "1  tt0359950  The Secret Life of Walter Mitty   \n",
       "2  tt0365907      A Walk Among the Tombstones   \n",
       "3  tt0369610                   Jurassic World   \n",
       "4  tt0398286                          Tangled   \n",
       "\n",
       "                                             writers  \n",
       "0                                          nm2674307  \n",
       "1                                nm0175726,nm0862122  \n",
       "2                                nm0088747,nm0291082  \n",
       "3  nm0415425,nm0798646,nm1119880,nm2081046,nm0000341  \n",
       "4                      nm1557594,nm0342278,nm0342303  "
      ]
     },
     "execution_count": 92,
     "metadata": {},
     "output_type": "execute_result"
    }
   ],
   "source": [
    "writer_df.head()"
   ]
  },
  {
   "cell_type": "markdown",
   "metadata": {},
   "source": [
    "#### Note:\n",
    "* Because the writers are wrote in long strings, we need to separate them for better analysis."
   ]
  },
  {
   "cell_type": "code",
   "execution_count": 93,
   "metadata": {},
   "outputs": [
    {
     "name": "stderr",
     "output_type": "stream",
     "text": [
      "/opt/anaconda3/envs/learn-env/lib/python3.6/site-packages/ipykernel_launcher.py:2: SettingWithCopyWarning: \n",
      "A value is trying to be set on a copy of a slice from a DataFrame.\n",
      "Try using .loc[row_indexer,col_indexer] = value instead\n",
      "\n",
      "See the caveats in the documentation: http://pandas.pydata.org/pandas-docs/stable/user_guide/indexing.html#returning-a-view-versus-a-copy\n",
      "  \n"
     ]
    }
   ],
   "source": [
    "# Split the str in writers column\n",
    "writer_df['writers'] = writer_df['writers'].str.split(',')"
   ]
  },
  {
   "cell_type": "code",
   "execution_count": 94,
   "metadata": {},
   "outputs": [
    {
     "data": {
      "text/html": [
       "<div>\n",
       "<style scoped>\n",
       "    .dataframe tbody tr th:only-of-type {\n",
       "        vertical-align: middle;\n",
       "    }\n",
       "\n",
       "    .dataframe tbody tr th {\n",
       "        vertical-align: top;\n",
       "    }\n",
       "\n",
       "    .dataframe thead th {\n",
       "        text-align: right;\n",
       "    }\n",
       "</style>\n",
       "<table border=\"1\" class=\"dataframe\">\n",
       "  <thead>\n",
       "    <tr style=\"text-align: right;\">\n",
       "      <th></th>\n",
       "      <th>tconst</th>\n",
       "      <th>movie_title</th>\n",
       "      <th>writers</th>\n",
       "    </tr>\n",
       "  </thead>\n",
       "  <tbody>\n",
       "    <tr>\n",
       "      <th>0</th>\n",
       "      <td>tt3844362</td>\n",
       "      <td>The Overnight</td>\n",
       "      <td>[nm2674307]</td>\n",
       "    </tr>\n",
       "    <tr>\n",
       "      <th>1</th>\n",
       "      <td>tt0359950</td>\n",
       "      <td>The Secret Life of Walter Mitty</td>\n",
       "      <td>[nm0175726, nm0862122]</td>\n",
       "    </tr>\n",
       "    <tr>\n",
       "      <th>2</th>\n",
       "      <td>tt0365907</td>\n",
       "      <td>A Walk Among the Tombstones</td>\n",
       "      <td>[nm0088747, nm0291082]</td>\n",
       "    </tr>\n",
       "    <tr>\n",
       "      <th>3</th>\n",
       "      <td>tt0369610</td>\n",
       "      <td>Jurassic World</td>\n",
       "      <td>[nm0415425, nm0798646, nm1119880, nm2081046, n...</td>\n",
       "    </tr>\n",
       "    <tr>\n",
       "      <th>4</th>\n",
       "      <td>tt0398286</td>\n",
       "      <td>Tangled</td>\n",
       "      <td>[nm1557594, nm0342278, nm0342303]</td>\n",
       "    </tr>\n",
       "  </tbody>\n",
       "</table>\n",
       "</div>"
      ],
      "text/plain": [
       "      tconst                      movie_title  \\\n",
       "0  tt3844362                    The Overnight   \n",
       "1  tt0359950  The Secret Life of Walter Mitty   \n",
       "2  tt0365907      A Walk Among the Tombstones   \n",
       "3  tt0369610                   Jurassic World   \n",
       "4  tt0398286                          Tangled   \n",
       "\n",
       "                                             writers  \n",
       "0                                        [nm2674307]  \n",
       "1                             [nm0175726, nm0862122]  \n",
       "2                             [nm0088747, nm0291082]  \n",
       "3  [nm0415425, nm0798646, nm1119880, nm2081046, n...  \n",
       "4                  [nm1557594, nm0342278, nm0342303]  "
      ]
     },
     "execution_count": 94,
     "metadata": {},
     "output_type": "execute_result"
    }
   ],
   "source": [
    "# Check\n",
    "writer_df.head()"
   ]
  },
  {
   "cell_type": "code",
   "execution_count": 95,
   "metadata": {},
   "outputs": [],
   "source": [
    "# Use explode function to transform each element into rows\n",
    "writer_df = writer_df.explode('writers')"
   ]
  },
  {
   "cell_type": "markdown",
   "metadata": {},
   "source": [
    "### Data Merging"
   ]
  },
  {
   "cell_type": "code",
   "execution_count": 96,
   "metadata": {},
   "outputs": [],
   "source": [
    "# Merge with df8 to find the corresponding writers' names\n",
    "writer_df = writer_df.merge(df8,left_on='writers', right_on='nconst')"
   ]
  },
  {
   "cell_type": "code",
   "execution_count": 97,
   "metadata": {},
   "outputs": [
    {
     "data": {
      "text/html": [
       "<div>\n",
       "<style scoped>\n",
       "    .dataframe tbody tr th:only-of-type {\n",
       "        vertical-align: middle;\n",
       "    }\n",
       "\n",
       "    .dataframe tbody tr th {\n",
       "        vertical-align: top;\n",
       "    }\n",
       "\n",
       "    .dataframe thead th {\n",
       "        text-align: right;\n",
       "    }\n",
       "</style>\n",
       "<table border=\"1\" class=\"dataframe\">\n",
       "  <thead>\n",
       "    <tr style=\"text-align: right;\">\n",
       "      <th></th>\n",
       "      <th>tconst</th>\n",
       "      <th>movie_title</th>\n",
       "      <th>writers</th>\n",
       "      <th>nconst</th>\n",
       "      <th>primary_name</th>\n",
       "    </tr>\n",
       "  </thead>\n",
       "  <tbody>\n",
       "    <tr>\n",
       "      <th>0</th>\n",
       "      <td>tt3844362</td>\n",
       "      <td>The Overnight</td>\n",
       "      <td>nm2674307</td>\n",
       "      <td>nm2674307</td>\n",
       "      <td>Patrick Brice</td>\n",
       "    </tr>\n",
       "    <tr>\n",
       "      <th>1</th>\n",
       "      <td>tt0359950</td>\n",
       "      <td>The Secret Life of Walter Mitty</td>\n",
       "      <td>nm0175726</td>\n",
       "      <td>nm0175726</td>\n",
       "      <td>Steve Conrad</td>\n",
       "    </tr>\n",
       "    <tr>\n",
       "      <th>2</th>\n",
       "      <td>tt2543472</td>\n",
       "      <td>Wonder</td>\n",
       "      <td>nm0175726</td>\n",
       "      <td>nm0175726</td>\n",
       "      <td>Steve Conrad</td>\n",
       "    </tr>\n",
       "    <tr>\n",
       "      <th>3</th>\n",
       "      <td>tt0359950</td>\n",
       "      <td>The Secret Life of Walter Mitty</td>\n",
       "      <td>nm0862122</td>\n",
       "      <td>nm0862122</td>\n",
       "      <td>James Thurber</td>\n",
       "    </tr>\n",
       "    <tr>\n",
       "      <th>4</th>\n",
       "      <td>tt0365907</td>\n",
       "      <td>A Walk Among the Tombstones</td>\n",
       "      <td>nm0088747</td>\n",
       "      <td>nm0088747</td>\n",
       "      <td>Lawrence Block</td>\n",
       "    </tr>\n",
       "  </tbody>\n",
       "</table>\n",
       "</div>"
      ],
      "text/plain": [
       "      tconst                      movie_title    writers     nconst  \\\n",
       "0  tt3844362                    The Overnight  nm2674307  nm2674307   \n",
       "1  tt0359950  The Secret Life of Walter Mitty  nm0175726  nm0175726   \n",
       "2  tt2543472                           Wonder  nm0175726  nm0175726   \n",
       "3  tt0359950  The Secret Life of Walter Mitty  nm0862122  nm0862122   \n",
       "4  tt0365907      A Walk Among the Tombstones  nm0088747  nm0088747   \n",
       "\n",
       "     primary_name  \n",
       "0   Patrick Brice  \n",
       "1    Steve Conrad  \n",
       "2    Steve Conrad  \n",
       "3   James Thurber  \n",
       "4  Lawrence Block  "
      ]
     },
     "execution_count": 97,
     "metadata": {},
     "output_type": "execute_result"
    }
   ],
   "source": [
    "# Check\n",
    "writer_df.head()"
   ]
  },
  {
   "cell_type": "code",
   "execution_count": 98,
   "metadata": {},
   "outputs": [],
   "source": [
    "# Change the primary_name column to name column\n",
    "writer_df.rename(columns={'primary_name' : 'name'}, inplace=True)"
   ]
  },
  {
   "cell_type": "code",
   "execution_count": 99,
   "metadata": {},
   "outputs": [
    {
     "data": {
      "text/plain": [
       "Index(['tconst', 'movie_title', 'writers', 'nconst', 'name'], dtype='object')"
      ]
     },
     "execution_count": 99,
     "metadata": {},
     "output_type": "execute_result"
    }
   ],
   "source": [
    "# Check\n",
    "writer_df.columns"
   ]
  },
  {
   "cell_type": "code",
   "execution_count": 100,
   "metadata": {},
   "outputs": [
    {
     "data": {
      "text/plain": [
       "Jack Kirby             18\n",
       "Stan Lee               17\n",
       "Nicholas Stoller        9\n",
       "Larry Lieber            8\n",
       "Christopher Markus      7\n",
       "                       ..\n",
       "Todd R. Jones           1\n",
       "Cameron Crowe           1\n",
       "Dean Craig              1\n",
       "Hallie Meyers-Shyer     1\n",
       "Morten Iversen          1\n",
       "Name: name, Length: 1424, dtype: int64"
      ]
     },
     "execution_count": 100,
     "metadata": {},
     "output_type": "execute_result"
    }
   ],
   "source": [
    "# Preview the all the writers with descending order\n",
    "writer_df['name'].value_counts()"
   ]
  },
  {
   "cell_type": "code",
   "execution_count": 101,
   "metadata": {},
   "outputs": [],
   "source": [
    "# Create a Series with writer name and number of successful movies\n",
    "writer_name = writer_df['name'].value_counts()"
   ]
  },
  {
   "cell_type": "code",
   "execution_count": 102,
   "metadata": {},
   "outputs": [
    {
     "data": {
      "text/plain": [
       "8"
      ]
     },
     "execution_count": 102,
     "metadata": {},
     "output_type": "execute_result"
    }
   ],
   "source": [
    "# number of writers who has more than 5 successful movies\n",
    "writer_name[writer_name>5].count()"
   ]
  },
  {
   "cell_type": "code",
   "execution_count": 103,
   "metadata": {},
   "outputs": [],
   "source": [
    "# Create a series only contains the writer's name\n",
    "writer_list = writer_df['name']"
   ]
  },
  {
   "cell_type": "code",
   "execution_count": 104,
   "metadata": {},
   "outputs": [],
   "source": [
    "# Use the tail for better visualization with horizontal bar plot\n",
    "writer_order = writer_list.value_counts(ascending=True).tail(8)"
   ]
  },
  {
   "cell_type": "code",
   "execution_count": 105,
   "metadata": {},
   "outputs": [
    {
     "data": {
      "image/png": "[encoded data removed]",
      "text/plain": [
       "<Figure size 864x864 with 1 Axes>"
      ]
     },
     "metadata": {
      "needs_background": "light"
     },
     "output_type": "display_data"
    }
   ],
   "source": [
    "# Plot top writers with number of successful movies\n",
    "ax = writer_order.plot(kind='barh', figsize=(12,12), color=sns.color_palette(\"husl\",15)) \n",
    "\n",
    "# Label top writers with corresponding number of successful movies\n",
    "[ax.text(v, i, '{:}'.format(v), size=12) for i, v in enumerate(writer_order)];\n",
    "# for spine in plt.gca().spines.values():\n",
    "#     spine.set_visible(True)\n",
    "    \n",
    "plt.xlabel('Count')\n",
    "plt.xticks(fontsize=12)\n",
    "plt.ylabel(\"Writers' name\")\n",
    "plt.yticks(fontsize=12)\n",
    "plt.title('Top Writers with Number of Success Movies')\n",
    "\n",
    "plt.savefig(\"./images/Top Writers.png\", dpi=300, bbox_inches='tight')\n",
    "plt.show()"
   ]
  },
  {
   "cell_type": "markdown",
   "metadata": {},
   "source": [
    "* This above plot shows the top writers who have more than 5 success movies.\n",
    "* The more successful movies they made, the more experience they have."
   ]
  },
  {
   "cell_type": "markdown",
   "metadata": {},
   "source": [
    "### Optional Analysis for Q2\n",
    "* This optional analysis is performed to see if there exist some top directors or top writers among successful movies who may have failures (unsuccessful movies)."
   ]
  },
  {
   "cell_type": "code",
   "execution_count": 106,
   "metadata": {},
   "outputs": [],
   "source": [
    "# Create a dataframe only contains unsuccessful movies which did not meet the criteria\n",
    "unsuccessful_df = df7[df7['success'].isna()]"
   ]
  },
  {
   "cell_type": "code",
   "execution_count": 107,
   "metadata": {},
   "outputs": [
    {
     "name": "stdout",
     "output_type": "stream",
     "text": [
      "<class 'pandas.core.frame.DataFrame'>\n",
      "Int64Index: 691 entries, 0 to 3782\n",
      "Data columns (total 13 columns):\n",
      "tconst               691 non-null object\n",
      "movie_title          691 non-null object\n",
      "start_year           691 non-null float64\n",
      "runtime_minutes      677 non-null float64\n",
      "genres               691 non-null object\n",
      "directors            691 non-null object\n",
      "writers              680 non-null object\n",
      "release_date         691 non-null datetime64[ns]\n",
      "production_budget    691 non-null float64\n",
      "domestic_gross       691 non-null float64\n",
      "worldwide_gross      691 non-null float64\n",
      "year                 691 non-null int64\n",
      "success              0 non-null object\n",
      "dtypes: datetime64[ns](1), float64(5), int64(1), object(6)\n",
      "memory usage: 75.6+ KB\n"
     ]
    }
   ],
   "source": [
    "unsuccessful_df.info()"
   ]
  },
  {
   "cell_type": "markdown",
   "metadata": {},
   "source": [
    "#### Note\n",
    "* Use the same analysis method to find those top directors and writers among <b>unsuccessful movies</b>."
   ]
  },
  {
   "cell_type": "markdown",
   "metadata": {},
   "source": [
    "### Unsuccessful Directors"
   ]
  },
  {
   "cell_type": "code",
   "execution_count": 108,
   "metadata": {},
   "outputs": [],
   "source": [
    "unsuccessful_director_df = unsuccessful_df[['tconst', 'movie_title', 'directors']]"
   ]
  },
  {
   "cell_type": "code",
   "execution_count": 109,
   "metadata": {},
   "outputs": [
    {
     "data": {
      "text/html": [
       "<div>\n",
       "<style scoped>\n",
       "    .dataframe tbody tr th:only-of-type {\n",
       "        vertical-align: middle;\n",
       "    }\n",
       "\n",
       "    .dataframe tbody tr th {\n",
       "        vertical-align: top;\n",
       "    }\n",
       "\n",
       "    .dataframe thead th {\n",
       "        text-align: right;\n",
       "    }\n",
       "</style>\n",
       "<table border=\"1\" class=\"dataframe\">\n",
       "  <thead>\n",
       "    <tr style=\"text-align: right;\">\n",
       "      <th></th>\n",
       "      <th>tconst</th>\n",
       "      <th>movie_title</th>\n",
       "      <th>directors</th>\n",
       "    </tr>\n",
       "  </thead>\n",
       "  <tbody>\n",
       "    <tr>\n",
       "      <th>0</th>\n",
       "      <td>tt0249516</td>\n",
       "      <td>Foodfight!</td>\n",
       "      <td>nm0440415</td>\n",
       "    </tr>\n",
       "    <tr>\n",
       "      <th>6</th>\n",
       "      <td>tt3872966</td>\n",
       "      <td>On the Road</td>\n",
       "      <td>nm4953104</td>\n",
       "    </tr>\n",
       "    <tr>\n",
       "      <th>13</th>\n",
       "      <td>tt0376136</td>\n",
       "      <td>The Rum Diary</td>\n",
       "      <td>nm0732430</td>\n",
       "    </tr>\n",
       "    <tr>\n",
       "      <th>14</th>\n",
       "      <td>tt0383010</td>\n",
       "      <td>The Three Stooges</td>\n",
       "      <td>nm0268380,nm0268370</td>\n",
       "    </tr>\n",
       "    <tr>\n",
       "      <th>16</th>\n",
       "      <td>tt0393049</td>\n",
       "      <td>Anderson's Cross</td>\n",
       "      <td>nm1516329</td>\n",
       "    </tr>\n",
       "  </tbody>\n",
       "</table>\n",
       "</div>"
      ],
      "text/plain": [
       "       tconst        movie_title            directors\n",
       "0   tt0249516         Foodfight!            nm0440415\n",
       "6   tt3872966        On the Road            nm4953104\n",
       "13  tt0376136      The Rum Diary            nm0732430\n",
       "14  tt0383010  The Three Stooges  nm0268380,nm0268370\n",
       "16  tt0393049   Anderson's Cross            nm1516329"
      ]
     },
     "execution_count": 109,
     "metadata": {},
     "output_type": "execute_result"
    }
   ],
   "source": [
    "unsuccessful_director_df.head()"
   ]
  },
  {
   "cell_type": "code",
   "execution_count": 110,
   "metadata": {
    "scrolled": true
   },
   "outputs": [
    {
     "name": "stderr",
     "output_type": "stream",
     "text": [
      "/opt/anaconda3/envs/learn-env/lib/python3.6/site-packages/ipykernel_launcher.py:2: SettingWithCopyWarning: \n",
      "A value is trying to be set on a copy of a slice from a DataFrame.\n",
      "Try using .loc[row_indexer,col_indexer] = value instead\n",
      "\n",
      "See the caveats in the documentation: http://pandas.pydata.org/pandas-docs/stable/user_guide/indexing.html#returning-a-view-versus-a-copy\n",
      "  \n"
     ]
    }
   ],
   "source": [
    "# Split the long string\n",
    "unsuccessful_director_df['directors'] = unsuccessful_director_df['directors'].str.split(',')"
   ]
  },
  {
   "cell_type": "code",
   "execution_count": 111,
   "metadata": {},
   "outputs": [],
   "source": [
    "# Use explode to transform each element into rows\n",
    "unsuccessful_director_df = unsuccessful_director_df.explode('directors')"
   ]
  },
  {
   "cell_type": "code",
   "execution_count": 112,
   "metadata": {},
   "outputs": [],
   "source": [
    "# Merge with df8 to find the corresponding names\n",
    "unsuccessful_director_df = unsuccessful_director_df.merge(df8,left_on='directors', right_on='nconst')"
   ]
  },
  {
   "cell_type": "code",
   "execution_count": 113,
   "metadata": {},
   "outputs": [
    {
     "data": {
      "text/html": [
       "<div>\n",
       "<style scoped>\n",
       "    .dataframe tbody tr th:only-of-type {\n",
       "        vertical-align: middle;\n",
       "    }\n",
       "\n",
       "    .dataframe tbody tr th {\n",
       "        vertical-align: top;\n",
       "    }\n",
       "\n",
       "    .dataframe thead th {\n",
       "        text-align: right;\n",
       "    }\n",
       "</style>\n",
       "<table border=\"1\" class=\"dataframe\">\n",
       "  <thead>\n",
       "    <tr style=\"text-align: right;\">\n",
       "      <th></th>\n",
       "      <th>tconst</th>\n",
       "      <th>movie_title</th>\n",
       "      <th>directors</th>\n",
       "      <th>nconst</th>\n",
       "      <th>primary_name</th>\n",
       "    </tr>\n",
       "  </thead>\n",
       "  <tbody>\n",
       "    <tr>\n",
       "      <th>0</th>\n",
       "      <td>tt0249516</td>\n",
       "      <td>Foodfight!</td>\n",
       "      <td>nm0440415</td>\n",
       "      <td>nm0440415</td>\n",
       "      <td>Lawrence Kasanoff</td>\n",
       "    </tr>\n",
       "    <tr>\n",
       "      <th>1</th>\n",
       "      <td>tt3872966</td>\n",
       "      <td>On the Road</td>\n",
       "      <td>nm4953104</td>\n",
       "      <td>nm4953104</td>\n",
       "      <td>Marvin Dau</td>\n",
       "    </tr>\n",
       "    <tr>\n",
       "      <th>2</th>\n",
       "      <td>tt0376136</td>\n",
       "      <td>The Rum Diary</td>\n",
       "      <td>nm0732430</td>\n",
       "      <td>nm0732430</td>\n",
       "      <td>Bruce Robinson</td>\n",
       "    </tr>\n",
       "    <tr>\n",
       "      <th>3</th>\n",
       "      <td>tt0383010</td>\n",
       "      <td>The Three Stooges</td>\n",
       "      <td>nm0268380</td>\n",
       "      <td>nm0268380</td>\n",
       "      <td>Peter Farrelly</td>\n",
       "    </tr>\n",
       "    <tr>\n",
       "      <th>4</th>\n",
       "      <td>tt0480687</td>\n",
       "      <td>Hall Pass</td>\n",
       "      <td>nm0268380</td>\n",
       "      <td>nm0268380</td>\n",
       "      <td>Peter Farrelly</td>\n",
       "    </tr>\n",
       "  </tbody>\n",
       "</table>\n",
       "</div>"
      ],
      "text/plain": [
       "      tconst        movie_title  directors     nconst       primary_name\n",
       "0  tt0249516         Foodfight!  nm0440415  nm0440415  Lawrence Kasanoff\n",
       "1  tt3872966        On the Road  nm4953104  nm4953104         Marvin Dau\n",
       "2  tt0376136      The Rum Diary  nm0732430  nm0732430     Bruce Robinson\n",
       "3  tt0383010  The Three Stooges  nm0268380  nm0268380     Peter Farrelly\n",
       "4  tt0480687          Hall Pass  nm0268380  nm0268380     Peter Farrelly"
      ]
     },
     "execution_count": 113,
     "metadata": {},
     "output_type": "execute_result"
    }
   ],
   "source": [
    "unsuccessful_director_df.head()"
   ]
  },
  {
   "cell_type": "code",
   "execution_count": 114,
   "metadata": {},
   "outputs": [],
   "source": [
    "# Change the primary_name to name\n",
    "unsuccessful_director_df.rename(columns={'primary_name':'name'}, inplace=True)"
   ]
  },
  {
   "cell_type": "code",
   "execution_count": 115,
   "metadata": {},
   "outputs": [
    {
     "data": {
      "text/plain": [
       "Index(['tconst', 'movie_title', 'directors', 'nconst', 'name'], dtype='object')"
      ]
     },
     "execution_count": 115,
     "metadata": {},
     "output_type": "execute_result"
    }
   ],
   "source": [
    "unsuccessful_director_df.columns"
   ]
  },
  {
   "cell_type": "code",
   "execution_count": 116,
   "metadata": {},
   "outputs": [
    {
     "data": {
      "text/plain": [
       "Nicholas Stoller    5\n",
       "Francis Lawrence    5\n",
       "Jon M. Chu          5\n",
       "Clint Eastwood      5\n",
       "Steven Spielberg    6\n",
       "Tim Story           7\n",
       "Name: name, dtype: int64"
      ]
     },
     "execution_count": 116,
     "metadata": {},
     "output_type": "execute_result"
    }
   ],
   "source": [
    "director_order"
   ]
  },
  {
   "cell_type": "code",
   "execution_count": 117,
   "metadata": {},
   "outputs": [
    {
     "data": {
      "text/plain": [
       "['Nicholas Stoller',\n",
       " 'Francis Lawrence',\n",
       " 'Jon M. Chu',\n",
       " 'Clint Eastwood',\n",
       " 'Steven Spielberg',\n",
       " 'Tim Story']"
      ]
     },
     "execution_count": 117,
     "metadata": {},
     "output_type": "execute_result"
    }
   ],
   "source": [
    "# Change the Series index to list\n",
    "dir_name = director_order.index.tolist()\n",
    "dir_name"
   ]
  },
  {
   "cell_type": "code",
   "execution_count": 118,
   "metadata": {},
   "outputs": [
    {
     "data": {
      "text/plain": [
       "[5, 5, 5, 5, 6, 7]"
      ]
     },
     "execution_count": 118,
     "metadata": {},
     "output_type": "execute_result"
    }
   ],
   "source": [
    "# Change the Series values to list\n",
    "dir_ss = director_order.values.tolist()\n",
    "dir_ss # top directors' number of successful movies"
   ]
  },
  {
   "cell_type": "code",
   "execution_count": 119,
   "metadata": {},
   "outputs": [
    {
     "name": "stdout",
     "output_type": "stream",
     "text": [
      "Tim Story:\n"
     ]
    },
    {
     "data": {
      "text/plain": [
       "1"
      ]
     },
     "metadata": {},
     "output_type": "display_data"
    }
   ],
   "source": [
    "# Check if Tim Story appear in unsuccesful movies and number of appearance\n",
    "print('Tim Story:')\n",
    "display(unsuccessful_director_df.loc[unsuccessful_director_df['name']==\"Tim Story\", 'name'].count())"
   ]
  },
  {
   "cell_type": "markdown",
   "metadata": {},
   "source": [
    "#### Note:\n",
    "* We have more names to be checked.\n",
    "* The better way is to define a function and apply the function to a for loop."
   ]
  },
  {
   "cell_type": "code",
   "execution_count": 120,
   "metadata": {},
   "outputs": [],
   "source": [
    "# Define a function to find if top directors' names acquire from successful movies dataframe \n",
    "# are also in the unsuccessful_director_df\n",
    "# and count the number of appearance\n",
    "def director_find_number_of_unsuccessful_movies(name):\n",
    "    '''\n",
    "    Check if the names appear in another dataframe\n",
    "    \n",
    "    Parameters:\n",
    "    ----------\n",
    "    name: str\n",
    "        top directors' names\n",
    "    \n",
    "    Returns:\n",
    "    -------\n",
    "    number of name appearance in other dataframe\n",
    "    \n",
    "    '''\n",
    "    return unsuccessful_director_df.loc[unsuccessful_director_df['name'] == name, 'name'].count()"
   ]
  },
  {
   "cell_type": "code",
   "execution_count": 121,
   "metadata": {},
   "outputs": [
    {
     "name": "stdout",
     "output_type": "stream",
     "text": [
      "[0, 0, 1, 2, 1, 1]\n"
     ]
    }
   ],
   "source": [
    "# Create a list for top directors' unsuccessful movie count\n",
    "dir_us = []\n",
    "for name in dir_name:\n",
    "    dir_us.append(director_find_number_of_unsuccessful_movies(name))\n",
    "print(dir_us)"
   ]
  },
  {
   "cell_type": "markdown",
   "metadata": {},
   "source": [
    "### Unsuccessful Writers"
   ]
  },
  {
   "cell_type": "code",
   "execution_count": 122,
   "metadata": {},
   "outputs": [],
   "source": [
    "unsuccessful_writer_df = unsuccessful_df[['tconst', 'movie_title', 'writers']]"
   ]
  },
  {
   "cell_type": "code",
   "execution_count": 123,
   "metadata": {},
   "outputs": [
    {
     "data": {
      "text/html": [
       "<div>\n",
       "<style scoped>\n",
       "    .dataframe tbody tr th:only-of-type {\n",
       "        vertical-align: middle;\n",
       "    }\n",
       "\n",
       "    .dataframe tbody tr th {\n",
       "        vertical-align: top;\n",
       "    }\n",
       "\n",
       "    .dataframe thead th {\n",
       "        text-align: right;\n",
       "    }\n",
       "</style>\n",
       "<table border=\"1\" class=\"dataframe\">\n",
       "  <thead>\n",
       "    <tr style=\"text-align: right;\">\n",
       "      <th></th>\n",
       "      <th>tconst</th>\n",
       "      <th>movie_title</th>\n",
       "      <th>writers</th>\n",
       "    </tr>\n",
       "  </thead>\n",
       "  <tbody>\n",
       "    <tr>\n",
       "      <th>0</th>\n",
       "      <td>tt0249516</td>\n",
       "      <td>Foodfight!</td>\n",
       "      <td>nm0440415,nm0923312,nm0295165,nm0841854,nm0220297</td>\n",
       "    </tr>\n",
       "    <tr>\n",
       "      <th>6</th>\n",
       "      <td>tt3872966</td>\n",
       "      <td>On the Road</td>\n",
       "      <td>NaN</td>\n",
       "    </tr>\n",
       "    <tr>\n",
       "      <th>13</th>\n",
       "      <td>tt0376136</td>\n",
       "      <td>The Rum Diary</td>\n",
       "      <td>nm0732430,nm0860219</td>\n",
       "    </tr>\n",
       "    <tr>\n",
       "      <th>14</th>\n",
       "      <td>tt0383010</td>\n",
       "      <td>The Three Stooges</td>\n",
       "      <td>nm0148808,nm0268370,nm0268380</td>\n",
       "    </tr>\n",
       "    <tr>\n",
       "      <th>16</th>\n",
       "      <td>tt0393049</td>\n",
       "      <td>Anderson's Cross</td>\n",
       "      <td>nm1516329</td>\n",
       "    </tr>\n",
       "  </tbody>\n",
       "</table>\n",
       "</div>"
      ],
      "text/plain": [
       "       tconst        movie_title  \\\n",
       "0   tt0249516         Foodfight!   \n",
       "6   tt3872966        On the Road   \n",
       "13  tt0376136      The Rum Diary   \n",
       "14  tt0383010  The Three Stooges   \n",
       "16  tt0393049   Anderson's Cross   \n",
       "\n",
       "                                              writers  \n",
       "0   nm0440415,nm0923312,nm0295165,nm0841854,nm0220297  \n",
       "6                                                 NaN  \n",
       "13                                nm0732430,nm0860219  \n",
       "14                      nm0148808,nm0268370,nm0268380  \n",
       "16                                          nm1516329  "
      ]
     },
     "execution_count": 123,
     "metadata": {},
     "output_type": "execute_result"
    }
   ],
   "source": [
    "unsuccessful_writer_df.head()"
   ]
  },
  {
   "cell_type": "code",
   "execution_count": 124,
   "metadata": {},
   "outputs": [
    {
     "name": "stderr",
     "output_type": "stream",
     "text": [
      "/opt/anaconda3/envs/learn-env/lib/python3.6/site-packages/ipykernel_launcher.py:2: SettingWithCopyWarning: \n",
      "A value is trying to be set on a copy of a slice from a DataFrame.\n",
      "Try using .loc[row_indexer,col_indexer] = value instead\n",
      "\n",
      "See the caveats in the documentation: http://pandas.pydata.org/pandas-docs/stable/user_guide/indexing.html#returning-a-view-versus-a-copy\n",
      "  \n"
     ]
    }
   ],
   "source": [
    "# Split the long string\n",
    "unsuccessful_writer_df['writers'] = unsuccessful_writer_df['writers'].str.split(',')"
   ]
  },
  {
   "cell_type": "code",
   "execution_count": 125,
   "metadata": {},
   "outputs": [],
   "source": [
    "# Use explode to transform each element into rows\n",
    "unsuccessful_writer_df = unsuccessful_writer_df.explode('writers')"
   ]
  },
  {
   "cell_type": "code",
   "execution_count": 126,
   "metadata": {},
   "outputs": [],
   "source": [
    "# Merge with df8 to find the corresponding names\n",
    "unsuccessful_writer_df = unsuccessful_writer_df.merge(df8,left_on='writers', right_on='nconst')"
   ]
  },
  {
   "cell_type": "code",
   "execution_count": 127,
   "metadata": {},
   "outputs": [
    {
     "data": {
      "text/html": [
       "<div>\n",
       "<style scoped>\n",
       "    .dataframe tbody tr th:only-of-type {\n",
       "        vertical-align: middle;\n",
       "    }\n",
       "\n",
       "    .dataframe tbody tr th {\n",
       "        vertical-align: top;\n",
       "    }\n",
       "\n",
       "    .dataframe thead th {\n",
       "        text-align: right;\n",
       "    }\n",
       "</style>\n",
       "<table border=\"1\" class=\"dataframe\">\n",
       "  <thead>\n",
       "    <tr style=\"text-align: right;\">\n",
       "      <th></th>\n",
       "      <th>tconst</th>\n",
       "      <th>movie_title</th>\n",
       "      <th>writers</th>\n",
       "      <th>nconst</th>\n",
       "      <th>primary_name</th>\n",
       "    </tr>\n",
       "  </thead>\n",
       "  <tbody>\n",
       "    <tr>\n",
       "      <th>0</th>\n",
       "      <td>tt0249516</td>\n",
       "      <td>Foodfight!</td>\n",
       "      <td>nm0440415</td>\n",
       "      <td>nm0440415</td>\n",
       "      <td>Lawrence Kasanoff</td>\n",
       "    </tr>\n",
       "    <tr>\n",
       "      <th>1</th>\n",
       "      <td>tt0249516</td>\n",
       "      <td>Foodfight!</td>\n",
       "      <td>nm0923312</td>\n",
       "      <td>nm0923312</td>\n",
       "      <td>Joshua Wexler</td>\n",
       "    </tr>\n",
       "    <tr>\n",
       "      <th>2</th>\n",
       "      <td>tt0249516</td>\n",
       "      <td>Foodfight!</td>\n",
       "      <td>nm0295165</td>\n",
       "      <td>nm0295165</td>\n",
       "      <td>Brent V. Friedman</td>\n",
       "    </tr>\n",
       "    <tr>\n",
       "      <th>3</th>\n",
       "      <td>tt0249516</td>\n",
       "      <td>Foodfight!</td>\n",
       "      <td>nm0841854</td>\n",
       "      <td>nm0841854</td>\n",
       "      <td>Rebecca Swanson</td>\n",
       "    </tr>\n",
       "    <tr>\n",
       "      <th>4</th>\n",
       "      <td>tt0249516</td>\n",
       "      <td>Foodfight!</td>\n",
       "      <td>nm0220297</td>\n",
       "      <td>nm0220297</td>\n",
       "      <td>Sean Catherine Derek</td>\n",
       "    </tr>\n",
       "  </tbody>\n",
       "</table>\n",
       "</div>"
      ],
      "text/plain": [
       "      tconst movie_title    writers     nconst          primary_name\n",
       "0  tt0249516  Foodfight!  nm0440415  nm0440415     Lawrence Kasanoff\n",
       "1  tt0249516  Foodfight!  nm0923312  nm0923312         Joshua Wexler\n",
       "2  tt0249516  Foodfight!  nm0295165  nm0295165     Brent V. Friedman\n",
       "3  tt0249516  Foodfight!  nm0841854  nm0841854       Rebecca Swanson\n",
       "4  tt0249516  Foodfight!  nm0220297  nm0220297  Sean Catherine Derek"
      ]
     },
     "execution_count": 127,
     "metadata": {},
     "output_type": "execute_result"
    }
   ],
   "source": [
    "unsuccessful_writer_df.head()"
   ]
  },
  {
   "cell_type": "code",
   "execution_count": 128,
   "metadata": {},
   "outputs": [],
   "source": [
    "# Change primary_name to name\n",
    "unsuccessful_writer_df.rename(columns={'primary_name':'name'}, inplace=True)"
   ]
  },
  {
   "cell_type": "code",
   "execution_count": 129,
   "metadata": {},
   "outputs": [
    {
     "data": {
      "text/plain": [
       "Index(['tconst', 'movie_title', 'writers', 'nconst', 'name'], dtype='object')"
      ]
     },
     "execution_count": 129,
     "metadata": {},
     "output_type": "execute_result"
    }
   ],
   "source": [
    "unsuccessful_writer_df.columns"
   ]
  },
  {
   "cell_type": "code",
   "execution_count": 130,
   "metadata": {},
   "outputs": [
    {
     "data": {
      "text/plain": [
       "['Oren Peli',\n",
       " 'Joe Simon',\n",
       " 'Stephen McFeely',\n",
       " 'Christopher Markus',\n",
       " 'Larry Lieber',\n",
       " 'Nicholas Stoller',\n",
       " 'Stan Lee',\n",
       " 'Jack Kirby']"
      ]
     },
     "execution_count": 130,
     "metadata": {},
     "output_type": "execute_result"
    }
   ],
   "source": [
    "# Change the Series index to list\n",
    "wri_name = writer_order.index.tolist()\n",
    "wri_name "
   ]
  },
  {
   "cell_type": "code",
   "execution_count": 131,
   "metadata": {},
   "outputs": [
    {
     "data": {
      "text/plain": [
       "[6, 6, 7, 7, 8, 9, 17, 18]"
      ]
     },
     "execution_count": 131,
     "metadata": {},
     "output_type": "execute_result"
    }
   ],
   "source": [
    "# Change the Series values to list\n",
    "wri_ss = writer_order.values.tolist()\n",
    "wri_ss # top writers' number of successful movies"
   ]
  },
  {
   "cell_type": "code",
   "execution_count": 132,
   "metadata": {},
   "outputs": [],
   "source": [
    "# Define a function to find if top writers' names acquire from successful movies dataframe \n",
    "# are also in the unsuccessful_writer_df\n",
    "# and count the number of appearance\n",
    "def writer_find_number_of_unsuccessful_movies(name):\n",
    "    '''\n",
    "    Check if the names appear in another dataframe\n",
    "    \n",
    "    Parameters:\n",
    "    ----------\n",
    "    name: str\n",
    "        top writers' names\n",
    "    \n",
    "    Returns:\n",
    "    -------\n",
    "    number of name appearance in other dataframe\n",
    "    \n",
    "    '''\n",
    "    return unsuccessful_writer_df.loc[unsuccessful_writer_df['name'] == name, 'name'].count()"
   ]
  },
  {
   "cell_type": "code",
   "execution_count": 133,
   "metadata": {},
   "outputs": [
    {
     "name": "stdout",
     "output_type": "stream",
     "text": [
      "[1, 0, 0, 0, 0, 2, 2, 2]\n"
     ]
    }
   ],
   "source": [
    "# Create a list for top writers' unsuccessful movie count\n",
    "wri_us = []\n",
    "for n in wri_name:\n",
    "    wri_us.append(writer_find_number_of_unsuccessful_movies(n))\n",
    "print(wri_us)"
   ]
  },
  {
   "cell_type": "code",
   "execution_count": 134,
   "metadata": {},
   "outputs": [
    {
     "data": {
      "image/png": "[encoded data removed]",
      "text/plain": [
       "<Figure size 1584x1152 with 2 Axes>"
      ]
     },
     "metadata": {
      "needs_background": "light"
     },
     "output_type": "display_data"
    }
   ],
   "source": [
    "# Want to put those two figure together\n",
    "\n",
    "plt.figure(figsize=(22, 16))\n",
    "\n",
    "# Top directors\n",
    "ax1 = plt.subplot(121)\n",
    "ax1.barh(dir_name, dir_ss, label='success')\n",
    "ax1.barh(dir_name, dir_us, left=dir_ss, label='unsuccess')\n",
    "ax1.set_xlabel('number of movies')\n",
    "ax1.set_title('Top directors with number of movies produced')\n",
    "ax1.legend(loc=4)\n",
    "\n",
    "# Top writers\n",
    "ax2 = plt.subplot(122)\n",
    "ax2.barh(wri_name, wri_ss, label='success')\n",
    "ax2.barh(wri_name, wri_us, left=wri_ss, label='unsuccess')\n",
    "ax2.set_xlabel('number of movies')\n",
    "ax2.set_title('Top writers with number of movies produced')\n",
    "ax2.legend(loc=4)\n",
    "\n",
    "plt.savefig(\"./images/Top Directors and Top Writers.png\", dpi=300, bbox_inches='tight')\n",
    "plt.show()"
   ]
  },
  {
   "cell_type": "markdown",
   "metadata": {},
   "source": [
    "* The above plot shows that some top directors/top writers have 100% successful rate while some of them have several unsuccessful movies\n",
    "* Successful experience is necessary.\n",
    "* Unsuccessful experience is also important.\n",
    "* It would depend on stakeholders who prefer more on succesful rate or number of experience."
   ]
  },
  {
   "cell_type": "markdown",
   "metadata": {},
   "source": [
    "## Question 3:\n",
    "* Which month has the highest release of successful movies?"
   ]
  },
  {
   "cell_type": "code",
   "execution_count": 135,
   "metadata": {},
   "outputs": [
    {
     "data": {
      "text/plain": [
       "Index(['tconst', 'movie_title', 'start_year', 'runtime_minutes', 'genres',\n",
       "       'directors', 'writers', 'release_date', 'production_budget',\n",
       "       'domestic_gross', 'worldwide_gross', 'year', 'success'],\n",
       "      dtype='object')"
      ]
     },
     "execution_count": 135,
     "metadata": {},
     "output_type": "execute_result"
    }
   ],
   "source": [
    "success_df.columns"
   ]
  },
  {
   "cell_type": "code",
   "execution_count": 136,
   "metadata": {},
   "outputs": [],
   "source": [
    "# Create a release date dataframe\n",
    "release_df = success_df[['tconst', 'movie_title', 'release_date']]"
   ]
  },
  {
   "cell_type": "code",
   "execution_count": 137,
   "metadata": {},
   "outputs": [
    {
     "data": {
      "text/html": [
       "<div>\n",
       "<style scoped>\n",
       "    .dataframe tbody tr th:only-of-type {\n",
       "        vertical-align: middle;\n",
       "    }\n",
       "\n",
       "    .dataframe tbody tr th {\n",
       "        vertical-align: top;\n",
       "    }\n",
       "\n",
       "    .dataframe thead th {\n",
       "        text-align: right;\n",
       "    }\n",
       "</style>\n",
       "<table border=\"1\" class=\"dataframe\">\n",
       "  <thead>\n",
       "    <tr style=\"text-align: right;\">\n",
       "      <th></th>\n",
       "      <th>tconst</th>\n",
       "      <th>movie_title</th>\n",
       "      <th>release_date</th>\n",
       "    </tr>\n",
       "  </thead>\n",
       "  <tbody>\n",
       "    <tr>\n",
       "      <th>0</th>\n",
       "      <td>tt3844362</td>\n",
       "      <td>The Overnight</td>\n",
       "      <td>2015-06-19</td>\n",
       "    </tr>\n",
       "    <tr>\n",
       "      <th>1</th>\n",
       "      <td>tt0359950</td>\n",
       "      <td>The Secret Life of Walter Mitty</td>\n",
       "      <td>2013-12-25</td>\n",
       "    </tr>\n",
       "    <tr>\n",
       "      <th>2</th>\n",
       "      <td>tt0365907</td>\n",
       "      <td>A Walk Among the Tombstones</td>\n",
       "      <td>2014-09-19</td>\n",
       "    </tr>\n",
       "    <tr>\n",
       "      <th>3</th>\n",
       "      <td>tt0369610</td>\n",
       "      <td>Jurassic World</td>\n",
       "      <td>2015-06-12</td>\n",
       "    </tr>\n",
       "    <tr>\n",
       "      <th>4</th>\n",
       "      <td>tt0398286</td>\n",
       "      <td>Tangled</td>\n",
       "      <td>2010-11-24</td>\n",
       "    </tr>\n",
       "  </tbody>\n",
       "</table>\n",
       "</div>"
      ],
      "text/plain": [
       "      tconst                      movie_title release_date\n",
       "0  tt3844362                    The Overnight   2015-06-19\n",
       "1  tt0359950  The Secret Life of Walter Mitty   2013-12-25\n",
       "2  tt0365907      A Walk Among the Tombstones   2014-09-19\n",
       "3  tt0369610                   Jurassic World   2015-06-12\n",
       "4  tt0398286                          Tangled   2010-11-24"
      ]
     },
     "execution_count": 137,
     "metadata": {},
     "output_type": "execute_result"
    }
   ],
   "source": [
    "release_df.head()"
   ]
  },
  {
   "cell_type": "code",
   "execution_count": 138,
   "metadata": {},
   "outputs": [
    {
     "name": "stderr",
     "output_type": "stream",
     "text": [
      "/opt/anaconda3/envs/learn-env/lib/python3.6/site-packages/ipykernel_launcher.py:2: SettingWithCopyWarning: \n",
      "A value is trying to be set on a copy of a slice from a DataFrame.\n",
      "Try using .loc[row_indexer,col_indexer] = value instead\n",
      "\n",
      "See the caveats in the documentation: http://pandas.pydata.org/pandas-docs/stable/user_guide/indexing.html#returning-a-view-versus-a-copy\n",
      "  \n"
     ]
    }
   ],
   "source": [
    "# Extract month out\n",
    "release_df['month_in_num'] = release_df['release_date'].dt.month"
   ]
  },
  {
   "cell_type": "code",
   "execution_count": 139,
   "metadata": {
    "scrolled": true
   },
   "outputs": [
    {
     "data": {
      "text/html": [
       "<div>\n",
       "<style scoped>\n",
       "    .dataframe tbody tr th:only-of-type {\n",
       "        vertical-align: middle;\n",
       "    }\n",
       "\n",
       "    .dataframe tbody tr th {\n",
       "        vertical-align: top;\n",
       "    }\n",
       "\n",
       "    .dataframe thead th {\n",
       "        text-align: right;\n",
       "    }\n",
       "</style>\n",
       "<table border=\"1\" class=\"dataframe\">\n",
       "  <thead>\n",
       "    <tr style=\"text-align: right;\">\n",
       "      <th></th>\n",
       "      <th>tconst</th>\n",
       "      <th>movie_title</th>\n",
       "      <th>release_date</th>\n",
       "      <th>month_in_num</th>\n",
       "    </tr>\n",
       "  </thead>\n",
       "  <tbody>\n",
       "    <tr>\n",
       "      <th>0</th>\n",
       "      <td>tt3844362</td>\n",
       "      <td>The Overnight</td>\n",
       "      <td>2015-06-19</td>\n",
       "      <td>6</td>\n",
       "    </tr>\n",
       "    <tr>\n",
       "      <th>1</th>\n",
       "      <td>tt0359950</td>\n",
       "      <td>The Secret Life of Walter Mitty</td>\n",
       "      <td>2013-12-25</td>\n",
       "      <td>12</td>\n",
       "    </tr>\n",
       "    <tr>\n",
       "      <th>2</th>\n",
       "      <td>tt0365907</td>\n",
       "      <td>A Walk Among the Tombstones</td>\n",
       "      <td>2014-09-19</td>\n",
       "      <td>9</td>\n",
       "    </tr>\n",
       "    <tr>\n",
       "      <th>3</th>\n",
       "      <td>tt0369610</td>\n",
       "      <td>Jurassic World</td>\n",
       "      <td>2015-06-12</td>\n",
       "      <td>6</td>\n",
       "    </tr>\n",
       "    <tr>\n",
       "      <th>4</th>\n",
       "      <td>tt0398286</td>\n",
       "      <td>Tangled</td>\n",
       "      <td>2010-11-24</td>\n",
       "      <td>11</td>\n",
       "    </tr>\n",
       "  </tbody>\n",
       "</table>\n",
       "</div>"
      ],
      "text/plain": [
       "      tconst                      movie_title release_date  month_in_num\n",
       "0  tt3844362                    The Overnight   2015-06-19             6\n",
       "1  tt0359950  The Secret Life of Walter Mitty   2013-12-25            12\n",
       "2  tt0365907      A Walk Among the Tombstones   2014-09-19             9\n",
       "3  tt0369610                   Jurassic World   2015-06-12             6\n",
       "4  tt0398286                          Tangled   2010-11-24            11"
      ]
     },
     "execution_count": 139,
     "metadata": {},
     "output_type": "execute_result"
    }
   ],
   "source": [
    "# Check\n",
    "release_df.head()"
   ]
  },
  {
   "cell_type": "code",
   "execution_count": 140,
   "metadata": {},
   "outputs": [],
   "source": [
    "# Define a function to tranlate month in num to words\n",
    "def month_in_word(num):\n",
    "    '''\n",
    "    Change the month from numbers to words.\n",
    "    ex. 1 => January\n",
    "    \n",
    "    Parameters:\n",
    "    ----------\n",
    "    Pandas DataFrame with column type: int\n",
    "    \n",
    "    Returns:\n",
    "    --------\n",
    "    Pandas DataFrame with column type: str\n",
    "    '''\n",
    "    if num == 1:\n",
    "        return \"January\"\n",
    "    elif num == 2:\n",
    "        return \"February\"\n",
    "    elif num == 3:\n",
    "        return \"March\"\n",
    "    elif num == 4:\n",
    "        return \"April\"\n",
    "    elif num == 5:\n",
    "        return \"May\"\n",
    "    elif num == 6:\n",
    "        return \"June\"\n",
    "    elif num == 7:\n",
    "        return \"July\"\n",
    "    elif num == 8:\n",
    "        return \"August\"\n",
    "    elif num == 9:\n",
    "        return \"September\"\n",
    "    elif num == 10:\n",
    "        return \"October\"\n",
    "    elif num == 11:\n",
    "        return \"November\"\n",
    "    else:\n",
    "        return \"December\""
   ]
  },
  {
   "cell_type": "code",
   "execution_count": 141,
   "metadata": {},
   "outputs": [
    {
     "name": "stderr",
     "output_type": "stream",
     "text": [
      "/opt/anaconda3/envs/learn-env/lib/python3.6/site-packages/ipykernel_launcher.py:2: SettingWithCopyWarning: \n",
      "A value is trying to be set on a copy of a slice from a DataFrame.\n",
      "Try using .loc[row_indexer,col_indexer] = value instead\n",
      "\n",
      "See the caveats in the documentation: http://pandas.pydata.org/pandas-docs/stable/user_guide/indexing.html#returning-a-view-versus-a-copy\n",
      "  \n"
     ]
    }
   ],
   "source": [
    "# Apply the function\n",
    "release_df['month'] = release_df['month_in_num'].apply(month_in_word)"
   ]
  },
  {
   "cell_type": "code",
   "execution_count": 142,
   "metadata": {},
   "outputs": [
    {
     "data": {
      "text/html": [
       "<div>\n",
       "<style scoped>\n",
       "    .dataframe tbody tr th:only-of-type {\n",
       "        vertical-align: middle;\n",
       "    }\n",
       "\n",
       "    .dataframe tbody tr th {\n",
       "        vertical-align: top;\n",
       "    }\n",
       "\n",
       "    .dataframe thead th {\n",
       "        text-align: right;\n",
       "    }\n",
       "</style>\n",
       "<table border=\"1\" class=\"dataframe\">\n",
       "  <thead>\n",
       "    <tr style=\"text-align: right;\">\n",
       "      <th></th>\n",
       "      <th>tconst</th>\n",
       "      <th>movie_title</th>\n",
       "      <th>release_date</th>\n",
       "      <th>month_in_num</th>\n",
       "      <th>month</th>\n",
       "    </tr>\n",
       "  </thead>\n",
       "  <tbody>\n",
       "    <tr>\n",
       "      <th>0</th>\n",
       "      <td>tt3844362</td>\n",
       "      <td>The Overnight</td>\n",
       "      <td>2015-06-19</td>\n",
       "      <td>6</td>\n",
       "      <td>June</td>\n",
       "    </tr>\n",
       "    <tr>\n",
       "      <th>1</th>\n",
       "      <td>tt0359950</td>\n",
       "      <td>The Secret Life of Walter Mitty</td>\n",
       "      <td>2013-12-25</td>\n",
       "      <td>12</td>\n",
       "      <td>December</td>\n",
       "    </tr>\n",
       "    <tr>\n",
       "      <th>2</th>\n",
       "      <td>tt0365907</td>\n",
       "      <td>A Walk Among the Tombstones</td>\n",
       "      <td>2014-09-19</td>\n",
       "      <td>9</td>\n",
       "      <td>September</td>\n",
       "    </tr>\n",
       "    <tr>\n",
       "      <th>3</th>\n",
       "      <td>tt0369610</td>\n",
       "      <td>Jurassic World</td>\n",
       "      <td>2015-06-12</td>\n",
       "      <td>6</td>\n",
       "      <td>June</td>\n",
       "    </tr>\n",
       "    <tr>\n",
       "      <th>4</th>\n",
       "      <td>tt0398286</td>\n",
       "      <td>Tangled</td>\n",
       "      <td>2010-11-24</td>\n",
       "      <td>11</td>\n",
       "      <td>November</td>\n",
       "    </tr>\n",
       "  </tbody>\n",
       "</table>\n",
       "</div>"
      ],
      "text/plain": [
       "      tconst                      movie_title release_date  month_in_num  \\\n",
       "0  tt3844362                    The Overnight   2015-06-19             6   \n",
       "1  tt0359950  The Secret Life of Walter Mitty   2013-12-25            12   \n",
       "2  tt0365907      A Walk Among the Tombstones   2014-09-19             9   \n",
       "3  tt0369610                   Jurassic World   2015-06-12             6   \n",
       "4  tt0398286                          Tangled   2010-11-24            11   \n",
       "\n",
       "       month  \n",
       "0       June  \n",
       "1   December  \n",
       "2  September  \n",
       "3       June  \n",
       "4   November  "
      ]
     },
     "execution_count": 142,
     "metadata": {},
     "output_type": "execute_result"
    }
   ],
   "source": [
    "# Check\n",
    "release_df.head()"
   ]
  },
  {
   "cell_type": "code",
   "execution_count": 143,
   "metadata": {},
   "outputs": [
    {
     "data": {
      "text/plain": [
       "False"
      ]
     },
     "execution_count": 143,
     "metadata": {},
     "output_type": "execute_result"
    }
   ],
   "source": [
    "# Check for NaN value\n",
    "release_df['release_date'].isna().any()"
   ]
  },
  {
   "cell_type": "code",
   "execution_count": 144,
   "metadata": {},
   "outputs": [
    {
     "data": {
      "image/png": "[encoded data removed]",
      "text/plain": [
       "<Figure size 864x864 with 1 Axes>"
      ]
     },
     "metadata": {
      "needs_background": "light"
     },
     "output_type": "display_data"
    }
   ],
   "source": [
    "# Plot each month with percentages of successful movie release\n",
    "ax = release_df.groupby(['month'])['month'].count().sort_values().plot(kind='barh', figsize=(12,12), color=sns.color_palette(\"husl\",20))\n",
    "plt.xlabel('Count')\n",
    "plt.xticks(fontsize=12)\n",
    "plt.ylabel('Month')\n",
    "plt.yticks(fontsize=12)\n",
    "plt.title('Moive Release Month')\n",
    "\n",
    "total = len(release_df['month'])\n",
    "for p in ax.patches:\n",
    "        percentage = '{:.1f}%'.format(100 * p.get_width()/total) # calculate the percentage of each month release rate over total\n",
    "        x = p.get_x() + p.get_width() + 0.02 # x coordinate location\n",
    "        y = p.get_y() + p.get_height()/2 # y coordiante location\n",
    "        ax.annotate(percentage, (x, y))\n",
    "\n",
    "plt.savefig(\"./images/Release Month.png\", dpi=300, bbox_inches='tight') # avoid saved images being cutoff\n",
    "plt.show()"
   ]
  },
  {
   "cell_type": "markdown",
   "metadata": {},
   "source": [
    "* The above plot shows that November and December both have the highest release number of successful movies. This could be November and December both have big holidays.\n",
    "* I recommend to release movies in November and December, and avoid January."
   ]
  },
  {
   "cell_type": "markdown",
   "metadata": {},
   "source": [
    "### If prefer to view the month in order..."
   ]
  },
  {
   "cell_type": "code",
   "execution_count": 145,
   "metadata": {},
   "outputs": [],
   "source": [
    "# group the month and count the number of each month appears\n",
    "r = release_df.groupby(['month'])['month'].agg(['count']).reset_index()"
   ]
  },
  {
   "cell_type": "code",
   "execution_count": 146,
   "metadata": {},
   "outputs": [
    {
     "data": {
      "text/html": [
       "<div>\n",
       "<style scoped>\n",
       "    .dataframe tbody tr th:only-of-type {\n",
       "        vertical-align: middle;\n",
       "    }\n",
       "\n",
       "    .dataframe tbody tr th {\n",
       "        vertical-align: top;\n",
       "    }\n",
       "\n",
       "    .dataframe thead th {\n",
       "        text-align: right;\n",
       "    }\n",
       "</style>\n",
       "<table border=\"1\" class=\"dataframe\">\n",
       "  <thead>\n",
       "    <tr style=\"text-align: right;\">\n",
       "      <th></th>\n",
       "      <th>month</th>\n",
       "      <th>count</th>\n",
       "    </tr>\n",
       "  </thead>\n",
       "  <tbody>\n",
       "    <tr>\n",
       "      <th>0</th>\n",
       "      <td>April</td>\n",
       "      <td>54</td>\n",
       "    </tr>\n",
       "    <tr>\n",
       "      <th>1</th>\n",
       "      <td>August</td>\n",
       "      <td>59</td>\n",
       "    </tr>\n",
       "    <tr>\n",
       "      <th>2</th>\n",
       "      <td>December</td>\n",
       "      <td>77</td>\n",
       "    </tr>\n",
       "    <tr>\n",
       "      <th>3</th>\n",
       "      <td>February</td>\n",
       "      <td>55</td>\n",
       "    </tr>\n",
       "    <tr>\n",
       "      <th>4</th>\n",
       "      <td>January</td>\n",
       "      <td>38</td>\n",
       "    </tr>\n",
       "    <tr>\n",
       "      <th>5</th>\n",
       "      <td>July</td>\n",
       "      <td>75</td>\n",
       "    </tr>\n",
       "    <tr>\n",
       "      <th>6</th>\n",
       "      <td>June</td>\n",
       "      <td>65</td>\n",
       "    </tr>\n",
       "    <tr>\n",
       "      <th>7</th>\n",
       "      <td>March</td>\n",
       "      <td>58</td>\n",
       "    </tr>\n",
       "    <tr>\n",
       "      <th>8</th>\n",
       "      <td>May</td>\n",
       "      <td>52</td>\n",
       "    </tr>\n",
       "    <tr>\n",
       "      <th>9</th>\n",
       "      <td>November</td>\n",
       "      <td>77</td>\n",
       "    </tr>\n",
       "    <tr>\n",
       "      <th>10</th>\n",
       "      <td>October</td>\n",
       "      <td>68</td>\n",
       "    </tr>\n",
       "    <tr>\n",
       "      <th>11</th>\n",
       "      <td>September</td>\n",
       "      <td>62</td>\n",
       "    </tr>\n",
       "  </tbody>\n",
       "</table>\n",
       "</div>"
      ],
      "text/plain": [
       "        month  count\n",
       "0       April     54\n",
       "1      August     59\n",
       "2    December     77\n",
       "3    February     55\n",
       "4     January     38\n",
       "5        July     75\n",
       "6        June     65\n",
       "7       March     58\n",
       "8         May     52\n",
       "9    November     77\n",
       "10    October     68\n",
       "11  September     62"
      ]
     },
     "execution_count": 146,
     "metadata": {},
     "output_type": "execute_result"
    }
   ],
   "source": [
    "# Check\n",
    "r"
   ]
  },
  {
   "cell_type": "code",
   "execution_count": 147,
   "metadata": {},
   "outputs": [],
   "source": [
    "# Define an order\n",
    "cats=[\"January\", \"February\", \"March\", \"April\", \"May\", \"June\", \"July\", \"August\", \"September\", \"October\", \"November\", \"December\"]"
   ]
  },
  {
   "cell_type": "code",
   "execution_count": 148,
   "metadata": {},
   "outputs": [],
   "source": [
    "# Apply the order\n",
    "r['month'] = pd.Categorical(r['month'],categories=cats, ordered=True)"
   ]
  },
  {
   "cell_type": "code",
   "execution_count": 149,
   "metadata": {},
   "outputs": [],
   "source": [
    "# Sort by defined order\n",
    "re = r.sort_values(by='month', ascending=False).set_index('month')"
   ]
  },
  {
   "cell_type": "code",
   "execution_count": 150,
   "metadata": {},
   "outputs": [
    {
     "data": {
      "text/html": [
       "<div>\n",
       "<style scoped>\n",
       "    .dataframe tbody tr th:only-of-type {\n",
       "        vertical-align: middle;\n",
       "    }\n",
       "\n",
       "    .dataframe tbody tr th {\n",
       "        vertical-align: top;\n",
       "    }\n",
       "\n",
       "    .dataframe thead th {\n",
       "        text-align: right;\n",
       "    }\n",
       "</style>\n",
       "<table border=\"1\" class=\"dataframe\">\n",
       "  <thead>\n",
       "    <tr style=\"text-align: right;\">\n",
       "      <th></th>\n",
       "      <th>count</th>\n",
       "    </tr>\n",
       "    <tr>\n",
       "      <th>month</th>\n",
       "      <th></th>\n",
       "    </tr>\n",
       "  </thead>\n",
       "  <tbody>\n",
       "    <tr>\n",
       "      <th>December</th>\n",
       "      <td>77</td>\n",
       "    </tr>\n",
       "    <tr>\n",
       "      <th>November</th>\n",
       "      <td>77</td>\n",
       "    </tr>\n",
       "    <tr>\n",
       "      <th>October</th>\n",
       "      <td>68</td>\n",
       "    </tr>\n",
       "    <tr>\n",
       "      <th>September</th>\n",
       "      <td>62</td>\n",
       "    </tr>\n",
       "    <tr>\n",
       "      <th>August</th>\n",
       "      <td>59</td>\n",
       "    </tr>\n",
       "    <tr>\n",
       "      <th>July</th>\n",
       "      <td>75</td>\n",
       "    </tr>\n",
       "    <tr>\n",
       "      <th>June</th>\n",
       "      <td>65</td>\n",
       "    </tr>\n",
       "    <tr>\n",
       "      <th>May</th>\n",
       "      <td>52</td>\n",
       "    </tr>\n",
       "    <tr>\n",
       "      <th>April</th>\n",
       "      <td>54</td>\n",
       "    </tr>\n",
       "    <tr>\n",
       "      <th>March</th>\n",
       "      <td>58</td>\n",
       "    </tr>\n",
       "    <tr>\n",
       "      <th>February</th>\n",
       "      <td>55</td>\n",
       "    </tr>\n",
       "    <tr>\n",
       "      <th>January</th>\n",
       "      <td>38</td>\n",
       "    </tr>\n",
       "  </tbody>\n",
       "</table>\n",
       "</div>"
      ],
      "text/plain": [
       "           count\n",
       "month           \n",
       "December      77\n",
       "November      77\n",
       "October       68\n",
       "September     62\n",
       "August        59\n",
       "July          75\n",
       "June          65\n",
       "May           52\n",
       "April         54\n",
       "March         58\n",
       "February      55\n",
       "January       38"
      ]
     },
     "execution_count": 150,
     "metadata": {},
     "output_type": "execute_result"
    }
   ],
   "source": [
    "re"
   ]
  },
  {
   "cell_type": "code",
   "execution_count": 151,
   "metadata": {},
   "outputs": [
    {
     "data": {
      "image/png": "[encoded data removed]",
      "text/plain": [
       "<Figure size 864x864 with 1 Axes>"
      ]
     },
     "metadata": {
      "needs_background": "light"
     },
     "output_type": "display_data"
    }
   ],
   "source": [
    "# Plot: order by month\n",
    "ax = re.plot(kind='barh', figsize=(12,12))\n",
    "plt.xlabel('Count')\n",
    "plt.xticks(fontsize=12)\n",
    "plt.ylabel('Month')\n",
    "plt.yticks(fontsize=12)\n",
    "plt.title('Moive Release Month')\n",
    "\n",
    "# Label the percentage\n",
    "total = len(release_df['month'])\n",
    "for p in ax.patches:\n",
    "        percentage = '{:.1f}%'.format(100 * p.get_width()/total)\n",
    "        x = p.get_x() + p.get_width() + 0.02\n",
    "        y = p.get_y() + p.get_height() / 2\n",
    "        ax.annotate(percentage, (x, y))\n",
    "\n",
    "plt.legend(loc=1) # top right position\n",
    "\n",
    "plt.savefig(\"./images/Release Month Order\", bbox_inches='tight') # avoid saved images being cutoff\n",
    "plt.show()"
   ]
  },
  {
   "cell_type": "markdown",
   "metadata": {},
   "source": [
    "* Both November and December have the highest release of successful movies.\n",
    "* January has the lowest release of successful movies."
   ]
  },
  {
   "cell_type": "markdown",
   "metadata": {},
   "source": [
    "## Question 4:\n",
    "* What is the optimal length for a successful movie?"
   ]
  },
  {
   "cell_type": "code",
   "execution_count": 152,
   "metadata": {},
   "outputs": [
    {
     "data": {
      "text/plain": [
       "Index(['tconst', 'movie_title', 'start_year', 'runtime_minutes', 'genres',\n",
       "       'directors', 'writers', 'release_date', 'production_budget',\n",
       "       'domestic_gross', 'worldwide_gross', 'year', 'success'],\n",
       "      dtype='object')"
      ]
     },
     "execution_count": 152,
     "metadata": {},
     "output_type": "execute_result"
    }
   ],
   "source": [
    "success_df.columns"
   ]
  },
  {
   "cell_type": "code",
   "execution_count": 153,
   "metadata": {},
   "outputs": [],
   "source": [
    "# Create a dataframe with movie length\n",
    "movie_length_df = success_df[['tconst', 'movie_title', 'runtime_minutes']]"
   ]
  },
  {
   "cell_type": "code",
   "execution_count": 154,
   "metadata": {},
   "outputs": [
    {
     "name": "stdout",
     "output_type": "stream",
     "text": [
      "<class 'pandas.core.frame.DataFrame'>\n",
      "RangeIndex: 740 entries, 0 to 739\n",
      "Data columns (total 3 columns):\n",
      "tconst             740 non-null object\n",
      "movie_title        740 non-null object\n",
      "runtime_minutes    740 non-null float64\n",
      "dtypes: float64(1), object(2)\n",
      "memory usage: 17.5+ KB\n"
     ]
    }
   ],
   "source": [
    "movie_length_df.info()"
   ]
  },
  {
   "cell_type": "code",
   "execution_count": 155,
   "metadata": {},
   "outputs": [
    {
     "data": {
      "text/plain": [
       "41.0"
      ]
     },
     "metadata": {},
     "output_type": "display_data"
    },
    {
     "data": {
      "text/plain": [
       "180.0"
      ]
     },
     "metadata": {},
     "output_type": "display_data"
    }
   ],
   "source": [
    "# Find the minimum and maximum movie length\n",
    "display(movie_length_df['runtime_minutes'].min())\n",
    "display(movie_length_df['runtime_minutes'].max())"
   ]
  },
  {
   "cell_type": "code",
   "execution_count": 156,
   "metadata": {},
   "outputs": [
    {
     "data": {
      "text/plain": [
       "110.41081081081082"
      ]
     },
     "execution_count": 156,
     "metadata": {},
     "output_type": "execute_result"
    }
   ],
   "source": [
    "# Find the average movie length\n",
    "movie_length_df['runtime_minutes'].mean()"
   ]
  },
  {
   "cell_type": "code",
   "execution_count": 157,
   "metadata": {},
   "outputs": [
    {
     "data": {
      "text/plain": [
       "107.0"
      ]
     },
     "execution_count": 157,
     "metadata": {},
     "output_type": "execute_result"
    }
   ],
   "source": [
    "# Find the median movie length\n",
    "movie_length_df['runtime_minutes'].median()"
   ]
  },
  {
   "cell_type": "code",
   "execution_count": 158,
   "metadata": {},
   "outputs": [
    {
     "data": {
      "text/plain": [
       "97.0"
      ]
     },
     "metadata": {},
     "output_type": "display_data"
    },
    {
     "data": {
      "text/plain": [
       "121.0"
      ]
     },
     "metadata": {},
     "output_type": "display_data"
    }
   ],
   "source": [
    "# Find the 25% and 75% quantile values\n",
    "display(movie_length_df['runtime_minutes'].quantile(0.25))\n",
    "display(movie_length_df['runtime_minutes'].quantile(0.75))"
   ]
  },
  {
   "cell_type": "code",
   "execution_count": 159,
   "metadata": {},
   "outputs": [],
   "source": [
    "# Create an array for the movie runtime\n",
    "length_arr = np.array(movie_length_df['runtime_minutes'])"
   ]
  },
  {
   "cell_type": "code",
   "execution_count": 160,
   "metadata": {},
   "outputs": [
    {
     "data": {
      "image/png": "[encoded data removed]",
      "text/plain": [
       "<Figure size 576x288 with 1 Axes>"
      ]
     },
     "metadata": {
      "needs_background": "light"
     },
     "output_type": "display_data"
    }
   ],
   "source": [
    "# Plot in boxplot and  label the min, 25% quantile, median, 75% quantile, and maximum, include outliers\n",
    "fig = plt.figure(figsize=(8, 4))\n",
    "ax = fig.add_subplot(111)\n",
    "ax.boxplot(length_arr, vert=False, manage_ticks=True) # want horizontal\n",
    "ax.set_xlabel('runtime')\n",
    "ax.set_yticklabels(['category'])\n",
    "\n",
    "quantiles = np.quantile(length_arr, np.array([0.00, 0.25, 0.50, 0.75, 1.00]))\n",
    "#         x position           y min                 y max\n",
    "ax.vlines(quantiles, [0] * quantiles.size, [1] * quantiles.size, color='blue', ls=':', lw=1.5)\n",
    "ax.set_xticks(quantiles)\n",
    "\n",
    "plt.savefig(\"./images/Movie Length.png\", dpi=300, bbox_inches='tight')\n",
    "plt.show()"
   ]
  },
  {
   "cell_type": "markdown",
   "metadata": {},
   "source": [
    "* The average movie length among successful movies is 110 minutes. But when I plot the movie length in boxplot, there exits some outliers which means there are some movies are have extremely shorter or longer running time. \n",
    "* Those outliers can skew the averages.\n",
    "* The median movie length is 107 minutes.\n",
    "* I would suggest to set the optimal movie length between the 25% and 75% quantile values, which is between 97 and 121 minutes."
   ]
  },
  {
   "cell_type": "markdown",
   "metadata": {},
   "source": [
    "## Conclusion\n",
    "Among filtrated 1431 movies between 2010 and 2020, there are 740 movies considered as successful movies from perspective of returns. These successful movies analysis leads to 4 recommendations. \n",
    "* <b>Movie Genre</b> - The top 5 genres are Drama, Comedy, Action, Adventure, and Thriller. Additional analysis was provided to find the average budget for each of the genre. Usually, a succesful movie has more than one genre. Stakeholders can choose their desired combination genres based on the budget.\n",
    "* <b>Directors and Writers</b> - There are 6 top directors who have more than 4 successful movies and 8 top writers who have more than 5 successful movies. Some top directors/top writers have 100% successful rate while some of them have several unsuccessful movies. Both successful and unsuccessful experience are important. It would depend on stakeholders who prefer more on succesful rate or number of experience.\n",
    "* <b>Release Month</b> - November and December are the best months for releasing successful movies. \n",
    "* <b>Movie Length</b> - The optimal movie length for a succeesful movie is between 97 and 121 minutes."
   ]
  },
  {
   "cell_type": "markdown",
   "metadata": {},
   "source": [
    "### Next Steps:\n",
    "Because there is a limit amount of time and this is phase 1 project, I think further analysis can yield additional insight:\n",
    "* <b> Prediction Analysis</b> - Prediction on how much gross can be earned based on different budget.\n",
    "* <b> Datasets with Age groups </b> - The provided datasets did not cover age range. With the age provided, further descriptive analysis can be made on movie popularity for targeting towards specific age groups.\n",
    "* <b> Movie Trailer</b> - A better movie trailers can attract more customers earlier. Select length and determine releasing date of movie trailers are also important factors of successful movies."
   ]
  }
 ],
 "metadata": {
  "kernelspec": {
   "display_name": "learn-env",
   "language": "python",
   "name": "learn-env"
  },
  "language_info": {
   "codemirror_mode": {
    "name": "ipython",
    "version": 3
   },
   "file_extension": ".py",
   "mimetype": "text/x-python",
   "name": "python",
   "nbconvert_exporter": "python",
   "pygments_lexer": "ipython3",
   "version": "3.6.9"
  }
 },
 "nbformat": 4,
 "nbformat_minor": 4
}
